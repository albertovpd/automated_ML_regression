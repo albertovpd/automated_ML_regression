{
 "cells": [
  {
   "cell_type": "markdown",
   "metadata": {},
   "source": [
    "----------------------------------\n",
    "\n",
    "# PART III\n",
    "\n",
    "- **Low variance removal**\n",
    "- **ML regression**\n",
    "\n",
    "![alt](https://i.pinimg.com/originals/8c/5c/59/8c5c5923c547867c1615402754d9eb27.gif)\n",
    "-----------------------------------\n",
    "\n",
    "*This jupyter is the explanation. The *real thing* is available in the **Cloud Function** folder. \n",
    "\n",
    "\n",
    "----------------------------------\n",
    "\n",
    "Let's have fun :D"
   ]
  },
  {
   "cell_type": "code",
   "execution_count": 1,
   "metadata": {},
   "outputs": [],
   "source": [
    "import pandas as pd\n",
    "import numpy as np\n",
    "from datetime import datetime, date\n",
    "# automatically select the number of features for RFE\n",
    "from numpy import mean\n",
    "from numpy import std\n",
    "from sklearn import preprocessing\n",
    "from scipy import stats\n",
    "import matplotlib.pyplot as plt\n",
    "import matplotlib.font_manager\n",
    "\n",
    "from sklearn.feature_selection import VarianceThreshold\n",
    "\n",
    "from sklearn.model_selection import cross_val_score, cross_val_predict, cross_validate\n",
    "from sklearn.model_selection import KFold\n",
    "from sklearn.model_selection import StratifiedKFold\n",
    "#from sklearn.model_selection import RepeatedStratifiedKFold\n",
    "\n",
    "from sklearn.feature_selection import RFECV\n",
    "from sklearn.feature_selection import RFE\n",
    "from sklearn.linear_model import LinearRegression\n",
    "from sklearn.linear_model import Lasso\n",
    "from sklearn.linear_model import Ridge\n",
    "from sklearn.pipeline import Pipeline"
   ]
  },
  {
   "cell_type": "code",
   "execution_count": 2,
   "metadata": {},
   "outputs": [],
   "source": [
    "df=pd.read_csv(\"input/dataset_final_processed.csv\",index_col=[0])"
   ]
  },
  {
   "cell_type": "code",
   "execution_count": 3,
   "metadata": {},
   "outputs": [],
   "source": [
    "df.drop(columns=[\"outliers_score\"],inplace=True)"
   ]
  },
  {
   "cell_type": "markdown",
   "metadata": {},
   "source": [
    "### Removing not strongly correlated features\n",
    "(switched by Recursive Feature Elimination)"
   ]
  },
  {
   "cell_type": "markdown",
   "metadata": {},
   "source": [
    "### First attributes selection: Erasing low variance elements\n",
    "\n",
    "Let's remove the attibutes (columns) which values are quite constant in the whole dataset, so they're not offering much information when everything else is changing."
   ]
  },
  {
   "cell_type": "code",
   "execution_count": 4,
   "metadata": {},
   "outputs": [],
   "source": [
    "def variance_threshold_selector(data, threshold):\n",
    "    '''\n",
    "    It removes any attribute (column) than vary less than the percentaje of the threshold\n",
    "    '''\n",
    "    selector = VarianceThreshold(threshold)\n",
    "    selector.fit(data)\n",
    "    return data[data.columns[selector.get_support(indices=True)]]"
   ]
  },
  {
   "cell_type": "code",
   "execution_count": 5,
   "metadata": {},
   "outputs": [],
   "source": [
    "low_v = df.drop(columns=[\"date\",\"unemployment\" ])"
   ]
  },
  {
   "cell_type": "code",
   "execution_count": 6,
   "metadata": {},
   "outputs": [
    {
     "name": "stdout",
     "output_type": "stream",
     "text": [
      "attributes before (82, 118) attributes now (82, 103)\n"
     ]
    }
   ],
   "source": [
    "X_raw= variance_threshold_selector(low_v, 20) # removing values than vary less than 5%\n",
    "print(\"attributes before\", low_v.shape,\"attributes now\", X_raw.shape)"
   ]
  },
  {
   "cell_type": "code",
   "execution_count": 7,
   "metadata": {},
   "outputs": [
    {
     "name": "stdout",
     "output_type": "stream",
     "text": [
      "removed features:  \n",
      "\n"
     ]
    },
    {
     "data": {
      "text/html": [
       "<div>\n",
       "<style scoped>\n",
       "    .dataframe tbody tr th:only-of-type {\n",
       "        vertical-align: middle;\n",
       "    }\n",
       "\n",
       "    .dataframe tbody tr th {\n",
       "        vertical-align: top;\n",
       "    }\n",
       "\n",
       "    .dataframe thead th {\n",
       "        text-align: right;\n",
       "    }\n",
       "</style>\n",
       "<table border=\"1\" class=\"dataframe\">\n",
       "  <thead>\n",
       "    <tr style=\"text-align: right;\">\n",
       "      <th></th>\n",
       "      <th>Removed_columns</th>\n",
       "    </tr>\n",
       "  </thead>\n",
       "  <tbody>\n",
       "    <tr>\n",
       "      <th>0</th>\n",
       "      <td>precio_petroleo_1</td>\n",
       "    </tr>\n",
       "    <tr>\n",
       "      <th>1</th>\n",
       "      <td>inflacion_economica</td>\n",
       "    </tr>\n",
       "    <tr>\n",
       "      <th>2</th>\n",
       "      <td>banco_mundial</td>\n",
       "    </tr>\n",
       "    <tr>\n",
       "      <th>3</th>\n",
       "      <td>precio_petroleo_2</td>\n",
       "    </tr>\n",
       "    <tr>\n",
       "      <th>4</th>\n",
       "      <td>prosperidad_economica_y_finanzas</td>\n",
       "    </tr>\n",
       "    <tr>\n",
       "      <th>5</th>\n",
       "      <td>precio_vivienda</td>\n",
       "    </tr>\n",
       "    <tr>\n",
       "      <th>6</th>\n",
       "      <td>subsidios</td>\n",
       "    </tr>\n",
       "    <tr>\n",
       "      <th>7</th>\n",
       "      <td>censura_en_medios</td>\n",
       "    </tr>\n",
       "    <tr>\n",
       "      <th>8</th>\n",
       "      <td>racismo</td>\n",
       "    </tr>\n",
       "    <tr>\n",
       "      <th>9</th>\n",
       "      <td>desescalada</td>\n",
       "    </tr>\n",
       "    <tr>\n",
       "      <th>10</th>\n",
       "      <td>disney</td>\n",
       "    </tr>\n",
       "    <tr>\n",
       "      <th>11</th>\n",
       "      <td>hacer deporte</td>\n",
       "    </tr>\n",
       "    <tr>\n",
       "      <th>12</th>\n",
       "      <td>hangouts</td>\n",
       "    </tr>\n",
       "    <tr>\n",
       "      <th>13</th>\n",
       "      <td>skype</td>\n",
       "    </tr>\n",
       "    <tr>\n",
       "      <th>14</th>\n",
       "      <td>videollamada</td>\n",
       "    </tr>\n",
       "  </tbody>\n",
       "</table>\n",
       "</div>"
      ],
      "text/plain": [
       "                     Removed_columns\n",
       "0                  precio_petroleo_1\n",
       "1                inflacion_economica\n",
       "2                      banco_mundial\n",
       "3                  precio_petroleo_2\n",
       "4   prosperidad_economica_y_finanzas\n",
       "5                    precio_vivienda\n",
       "6                          subsidios\n",
       "7                  censura_en_medios\n",
       "8                            racismo\n",
       "9                        desescalada\n",
       "10                            disney\n",
       "11                     hacer deporte\n",
       "12                          hangouts\n",
       "13                             skype\n",
       "14                      videollamada"
      ]
     },
     "execution_count": 7,
     "metadata": {},
     "output_type": "execute_result"
    }
   ],
   "source": [
    "print(\"removed features: \",\"\\n\")\n",
    "removed=[]\n",
    "for c in low_v.columns:\n",
    "    if c not in X_raw.columns:\n",
    "        #print(c)\n",
    "        removed.append(c)\n",
    "removed=pd.DataFrame(removed, columns =[\"Removed_columns\"])\n",
    "\n",
    "removed.to_csv(\"./input/removed_features.csv\")   #<==========================\n",
    "\n",
    "removed"
   ]
  },
  {
   "cell_type": "markdown",
   "metadata": {},
   "source": [
    "### Normalization / Standarization\n",
    "\n",
    "Standardizing the features around the center and 0 with a standard deviation of 1 is important when we compare measurements that have different units. Variables that are measured at different scales do not contribute equally to the analysis and might end up creating a bais.\n",
    "\n",
    "In other hand, Normalization is useful when your data has varying scales and the algorithm you are using does not make assumptions about the distribution of your data"
   ]
  },
  {
   "cell_type": "code",
   "execution_count": 8,
   "metadata": {},
   "outputs": [
    {
     "name": "stdout",
     "output_type": "stream",
     "text": [
      "X shape:  (82, 103) , target shape:  (82,)\n"
     ]
    },
    {
     "data": {
      "text/html": [
       "<div>\n",
       "<style scoped>\n",
       "    .dataframe tbody tr th:only-of-type {\n",
       "        vertical-align: middle;\n",
       "    }\n",
       "\n",
       "    .dataframe tbody tr th {\n",
       "        vertical-align: top;\n",
       "    }\n",
       "\n",
       "    .dataframe thead th {\n",
       "        text-align: right;\n",
       "    }\n",
       "</style>\n",
       "<table border=\"1\" class=\"dataframe\">\n",
       "  <thead>\n",
       "    <tr style=\"text-align: right;\">\n",
       "      <th></th>\n",
       "      <th>ejercito</th>\n",
       "      <th>inestabilidad_politica</th>\n",
       "      <th>vigilancia</th>\n",
       "      <th>juicio</th>\n",
       "      <th>terrorismo</th>\n",
       "      <th>protestas</th>\n",
       "      <th>seguridad_nacional</th>\n",
       "      <th>corrupcion_1</th>\n",
       "      <th>rebelion</th>\n",
       "      <th>refugiados_1</th>\n",
       "      <th>...</th>\n",
       "      <th>steam</th>\n",
       "      <th>taxi</th>\n",
       "      <th>teletrabajo</th>\n",
       "      <th>tinder</th>\n",
       "      <th>uber</th>\n",
       "      <th>uber eats</th>\n",
       "      <th>videoconferencia</th>\n",
       "      <th>vox</th>\n",
       "      <th>yoga</th>\n",
       "      <th>zoom</th>\n",
       "    </tr>\n",
       "  </thead>\n",
       "  <tbody>\n",
       "    <tr>\n",
       "      <th>0</th>\n",
       "      <td>0.772059</td>\n",
       "      <td>0.894425</td>\n",
       "      <td>0.640186</td>\n",
       "      <td>0.780539</td>\n",
       "      <td>0.438318</td>\n",
       "      <td>0.99576</td>\n",
       "      <td>0.420146</td>\n",
       "      <td>0.705565</td>\n",
       "      <td>0.579915</td>\n",
       "      <td>0.780032</td>\n",
       "      <td>...</td>\n",
       "      <td>0.632353</td>\n",
       "      <td>0.43</td>\n",
       "      <td>0.01</td>\n",
       "      <td>0.57</td>\n",
       "      <td>0.27</td>\n",
       "      <td>0.12</td>\n",
       "      <td>0.052632</td>\n",
       "      <td>0.34</td>\n",
       "      <td>0.870370</td>\n",
       "      <td>0.185185</td>\n",
       "    </tr>\n",
       "    <tr>\n",
       "      <th>1</th>\n",
       "      <td>0.727457</td>\n",
       "      <td>0.684682</td>\n",
       "      <td>0.433535</td>\n",
       "      <td>0.456219</td>\n",
       "      <td>0.000000</td>\n",
       "      <td>0.00000</td>\n",
       "      <td>0.793754</td>\n",
       "      <td>0.648262</td>\n",
       "      <td>0.490130</td>\n",
       "      <td>0.836825</td>\n",
       "      <td>...</td>\n",
       "      <td>0.529412</td>\n",
       "      <td>1.00</td>\n",
       "      <td>0.00</td>\n",
       "      <td>0.44</td>\n",
       "      <td>1.00</td>\n",
       "      <td>0.14</td>\n",
       "      <td>0.078947</td>\n",
       "      <td>0.15</td>\n",
       "      <td>0.851852</td>\n",
       "      <td>0.111111</td>\n",
       "    </tr>\n",
       "  </tbody>\n",
       "</table>\n",
       "<p>2 rows × 103 columns</p>\n",
       "</div>"
      ],
      "text/plain": [
       "   ejercito  inestabilidad_politica  vigilancia    juicio  terrorismo  \\\n",
       "0  0.772059                0.894425    0.640186  0.780539    0.438318   \n",
       "1  0.727457                0.684682    0.433535  0.456219    0.000000   \n",
       "\n",
       "   protestas  seguridad_nacional  corrupcion_1  rebelion  refugiados_1  ...  \\\n",
       "0    0.99576            0.420146      0.705565  0.579915      0.780032  ...   \n",
       "1    0.00000            0.793754      0.648262  0.490130      0.836825  ...   \n",
       "\n",
       "      steam  taxi  teletrabajo  tinder  uber  uber eats  videoconferencia  \\\n",
       "0  0.632353  0.43         0.01    0.57  0.27       0.12          0.052632   \n",
       "1  0.529412  1.00         0.00    0.44  1.00       0.14          0.078947   \n",
       "\n",
       "    vox      yoga      zoom  \n",
       "0  0.34  0.870370  0.185185  \n",
       "1  0.15  0.851852  0.111111  \n",
       "\n",
       "[2 rows x 103 columns]"
      ]
     },
     "execution_count": 8,
     "metadata": {},
     "output_type": "execute_result"
    }
   ],
   "source": [
    "# Normalizacion with sklearn\n",
    "# remove dates and target\n",
    "#X_raw = df.drop(columns=[\"date\",\"unemployment\",\"outliers_score\" ]) #already removed in low_v\n",
    "\n",
    "normalizer = preprocessing.MinMaxScaler()\n",
    "X = pd.DataFrame(normalizer.fit_transform(X_raw))\n",
    "\n",
    "#standardizer = preprocessing.StandardScaler()\n",
    "#X = pd.DataFrame(standardizer.fit_transform(X_raw))\n",
    "\n",
    "X.columns= X_raw.columns\n",
    "X.shape\n",
    "target=df[\"unemployment\"]\n",
    "print(\"X shape: \", X.shape, \", target shape: \", target.shape)\n",
    "X.head(2)"
   ]
  },
  {
   "cell_type": "markdown",
   "metadata": {},
   "source": [
    "# RFE"
   ]
  },
  {
   "cell_type": "code",
   "execution_count": 9,
   "metadata": {},
   "outputs": [],
   "source": [
    "# all but last 4 rows\n",
    "X_train=X.iloc[:-4]\n",
    "target_train=target.iloc[:-4]\n",
    "\n",
    "# last 4 rows, which are the ones I have no data and I want to infer\n",
    "X_test=X.iloc[-4:]\n",
    "target_test=target.iloc[-4:]"
   ]
  },
  {
   "cell_type": "code",
   "execution_count": 10,
   "metadata": {},
   "outputs": [
    {
     "name": "stdout",
     "output_type": "stream",
     "text": [
      "(78, 103) (78,)\n"
     ]
    }
   ],
   "source": [
    "print(X_train.shape, target_train.shape)"
   ]
  },
  {
   "cell_type": "markdown",
   "metadata": {},
   "source": [
    "# cross val predict with uncertainties"
   ]
  },
  {
   "cell_type": "code",
   "execution_count": 11,
   "metadata": {},
   "outputs": [
    {
     "name": "stdout",
     "output_type": "stream",
     "text": [
      "0.7882911360390148 Lasso Lasso(alpha=0.1, copy_X=True, fit_intercept=True, max_iter=10000,\n",
      "      normalize=False, positive=False, precompute=False, random_state=42,\n",
      "      selection='random', tol=0.0001, warm_start=False)\n"
     ]
    }
   ],
   "source": [
    "import sklearn.metrics as metrics \n",
    "from sklearn.metrics import make_scorer\n",
    "from math import sqrt\n",
    "import collections\n",
    "\n",
    "\n",
    "regression={\"Linear\":   LinearRegression(),\n",
    "            \"Lasso\":    Lasso(alpha=0.1, selection=\"random\", max_iter=10000, random_state=42),\n",
    "            \"Rigde\":    Ridge(alpha=0.1,max_iter=10000, solver='auto', random_state=42)\n",
    "            }\n",
    "\n",
    "metrics_dict= {\n",
    "    #\"r2\": metrics.r2_score, # already checked\n",
    "    \"mae\": make_scorer(metrics.mean_absolute_error),\n",
    "    \"rmse\": make_scorer(lambda y,y_pred: sqrt(metrics.mean_squared_error(y,y_pred))),\n",
    "    \"mape\": make_scorer(lambda y,y_pred: np.mean(np.abs(y-y_pred)/y)*100),\n",
    "    \"mean_squared_error\": make_scorer(metrics.mean_squared_error),\n",
    "    \"explained_variance\": make_scorer(metrics.explained_variance_score),\n",
    "    \"max_error\": make_scorer(metrics.max_error),\n",
    "    \"median_absolute_error\": make_scorer(metrics.median_absolute_error)\n",
    "}\n",
    "\n",
    "\n",
    "min_number_features =  df.shape[0]//8 # Min number of features to play with\n",
    "\n",
    "model_performance={}\n",
    "results={}\n",
    "for r in regression:\n",
    "    rfecv = RFECV(estimator=regression[r],\n",
    "                step=1, \n",
    "                  min_features_to_select=min_number_features, \n",
    "                  cv=KFold(n_splits=10,\n",
    "                        shuffle=True,\n",
    "                        random_state=42),\n",
    "                  scoring='r2')\n",
    "    rfecv.fit(X_train, target_train)\n",
    "    score = rfecv.score(X_train, target_train)\n",
    "\n",
    "    if score <=0.99:\n",
    "        model_performance[score]=[r,regression[r]]\n",
    "        \n",
    "        \n",
    "model_performance = collections.OrderedDict(sorted(model_performance.items(), reverse=True))\n",
    "score=list(model_performance.keys())[0]\n",
    "model_name=list(model_performance.values())[0][0]\n",
    "model_config=list(model_performance.values())[0][1]\n",
    "\n",
    "print(score, model_name, model_config)\n",
    "#print(model_performance)"
   ]
  },
  {
   "cell_type": "code",
   "execution_count": 12,
   "metadata": {},
   "outputs": [
    {
     "data": {
      "text/plain": [
       "{'model': 'Lasso', 'r2': 0.788}"
      ]
     },
     "execution_count": 12,
     "metadata": {},
     "output_type": "execute_result"
    }
   ],
   "source": [
    "# esto lo vamos a usar posteriormente para rellenar el df de resultados\n",
    "results[\"model\"]=model_name\n",
    "results[\"r2\"]=round(score,3)\n",
    "results"
   ]
  },
  {
   "cell_type": "code",
   "execution_count": 13,
   "metadata": {},
   "outputs": [
    {
     "data": {
      "text/html": [
       "<div>\n",
       "<style scoped>\n",
       "    .dataframe tbody tr th:only-of-type {\n",
       "        vertical-align: middle;\n",
       "    }\n",
       "\n",
       "    .dataframe tbody tr th {\n",
       "        vertical-align: top;\n",
       "    }\n",
       "\n",
       "    .dataframe thead th {\n",
       "        text-align: right;\n",
       "    }\n",
       "</style>\n",
       "<table border=\"1\" class=\"dataframe\">\n",
       "  <thead>\n",
       "    <tr style=\"text-align: right;\">\n",
       "      <th></th>\n",
       "      <th>features</th>\n",
       "      <th>top_important</th>\n",
       "    </tr>\n",
       "  </thead>\n",
       "  <tbody>\n",
       "    <tr>\n",
       "      <th>0</th>\n",
       "      <td>energias_renovables</td>\n",
       "      <td>1</td>\n",
       "    </tr>\n",
       "    <tr>\n",
       "      <th>1</th>\n",
       "      <td>coronavirus</td>\n",
       "      <td>1</td>\n",
       "    </tr>\n",
       "    <tr>\n",
       "      <th>2</th>\n",
       "      <td>en casa</td>\n",
       "      <td>1</td>\n",
       "    </tr>\n",
       "    <tr>\n",
       "      <th>3</th>\n",
       "      <td>banco alimentos</td>\n",
       "      <td>1</td>\n",
       "    </tr>\n",
       "    <tr>\n",
       "      <th>4</th>\n",
       "      <td>videoconferencia</td>\n",
       "      <td>1</td>\n",
       "    </tr>\n",
       "  </tbody>\n",
       "</table>\n",
       "</div>"
      ],
      "text/plain": [
       "              features  top_important\n",
       "0  energias_renovables              1\n",
       "1          coronavirus              1\n",
       "2              en casa              1\n",
       "3      banco alimentos              1\n",
       "4     videoconferencia              1"
      ]
     },
     "execution_count": 13,
     "metadata": {},
     "output_type": "execute_result"
    }
   ],
   "source": [
    "# Ranking of how important are the following keywords to infer in Google searches in Spain\n",
    "# the keyword \"unemployment\"\n",
    "ranking_features=pd.DataFrame()\n",
    "ranking_features[\"features\"]=X_train.columns\n",
    "ranking_features[\"top_important\"]=rfecv.ranking_\n",
    "ranking_features.sort_values(by=\"top_important\", ascending=True, inplace=True, ignore_index=True)\n",
    "ranking_features.to_csv(\"input/ranking_of_features.csv\")  # <========================\n",
    "ranking_features.head()"
   ]
  },
  {
   "cell_type": "code",
   "execution_count": 14,
   "metadata": {},
   "outputs": [
    {
     "data": {
      "text/plain": [
       "19"
      ]
     },
     "execution_count": 14,
     "metadata": {},
     "output_type": "execute_result"
    }
   ],
   "source": [
    "# now I have the chosen features, let's use cross validation with the chosen columns:\n",
    "chosen_features=list(ranking_features[ranking_features[\"top_important\"]<=10][\"features\"])\n",
    "X_train= X[chosen_features].iloc[:-4]\n",
    "X_test=X[chosen_features].iloc[-4:]\n",
    "len(X_train.columns)"
   ]
  },
  {
   "cell_type": "code",
   "execution_count": 15,
   "metadata": {},
   "outputs": [],
   "source": [
    "# Validación y evaluación del modelo.\n",
    "evaluation = cross_validate(model_config, X_train, target_train,\n",
    "                cv = KFold(n_splits=10), scoring = metrics_dict)"
   ]
  },
  {
   "cell_type": "code",
   "execution_count": 44,
   "metadata": {},
   "outputs": [],
   "source": [
    "# remove infs\n",
    "for e in evaluation:\n",
    "    if np.inf in evaluation[e]:\n",
    "        control_infs== list(evaluation[e])\n",
    "        control_infs= [e for e in control_infs if e != np.inf]\n",
    "        evaluation[e]=np.asarray(control_infs)"
   ]
  },
  {
   "cell_type": "code",
   "execution_count": 45,
   "metadata": {},
   "outputs": [],
   "source": [
    "results[\"mae\"]=round(evaluation[\"test_mae\"].mean(),3)\n",
    "results[\"mae_error\"]=round(evaluation[\"test_mae\"].std(),3)\n",
    "\n",
    "results[\"rmse\"]=round(evaluation[\"test_rmse\"].mean(),3)\n",
    "results[\"rmse_error\"]=round(evaluation[\"test_rmse\"].std(),3)\n",
    "\n",
    "\n",
    "results[\"mape\"]=round(evaluation[\"test_mape\"].mean(),3)\n",
    "results[\"mape_error\"]=round(evaluation[\"test_mape\"].std(),3)\n",
    "\n",
    "\n",
    "results[\"mse\"]=round(evaluation[\"test_mean_squared_error\"].mean(),3)\n",
    "results[\"mse_error\"]=round(evaluation[\"test_mean_squared_error\"].std(),3)\n",
    "\n",
    "\n",
    "results[\"explained_var\"]=round(evaluation[\"test_explained_variance\"].mean(),3)\n",
    "results[\"explained_var_error\"]=round(evaluation[\"test_explained_variance\"].std(),3)\n",
    "\n",
    "results[\"median_abs_error\"]=round(evaluation[\"test_median_absolute_error\"].mean(),3)\n",
    "results[\"median_abs_error_eror\"]=round(evaluation[\"test_median_absolute_error\"].std(),3)\n",
    "\n",
    "results_df=pd.DataFrame.from_dict(results,orient='index').T"
   ]
  },
  {
   "cell_type": "code",
   "execution_count": 46,
   "metadata": {},
   "outputs": [
    {
     "data": {
      "text/html": [
       "<div>\n",
       "<style scoped>\n",
       "    .dataframe tbody tr th:only-of-type {\n",
       "        vertical-align: middle;\n",
       "    }\n",
       "\n",
       "    .dataframe tbody tr th {\n",
       "        vertical-align: top;\n",
       "    }\n",
       "\n",
       "    .dataframe thead th {\n",
       "        text-align: right;\n",
       "    }\n",
       "</style>\n",
       "<table border=\"1\" class=\"dataframe\">\n",
       "  <thead>\n",
       "    <tr style=\"text-align: right;\">\n",
       "      <th></th>\n",
       "      <th>model</th>\n",
       "      <th>r2</th>\n",
       "      <th>mae</th>\n",
       "      <th>mae_error</th>\n",
       "      <th>rmse</th>\n",
       "      <th>rmse_error</th>\n",
       "      <th>mape</th>\n",
       "      <th>mape_error</th>\n",
       "      <th>mse</th>\n",
       "      <th>mse_error</th>\n",
       "      <th>explained_var</th>\n",
       "      <th>explained_var_error</th>\n",
       "      <th>median_abs_error</th>\n",
       "      <th>median_abs_error_eror</th>\n",
       "    </tr>\n",
       "  </thead>\n",
       "  <tbody>\n",
       "    <tr>\n",
       "      <th>0</th>\n",
       "      <td>Lasso</td>\n",
       "      <td>0.788</td>\n",
       "      <td>8.1</td>\n",
       "      <td>7.823</td>\n",
       "      <td>10.566</td>\n",
       "      <td>11.338</td>\n",
       "      <td>28.437</td>\n",
       "      <td>13.324</td>\n",
       "      <td>240.187</td>\n",
       "      <td>546.247</td>\n",
       "      <td>-1.59</td>\n",
       "      <td>2.111</td>\n",
       "      <td>5.689</td>\n",
       "      <td>3.556</td>\n",
       "    </tr>\n",
       "  </tbody>\n",
       "</table>\n",
       "</div>"
      ],
      "text/plain": [
       "   model     r2  mae mae_error    rmse rmse_error    mape mape_error      mse  \\\n",
       "0  Lasso  0.788  8.1     7.823  10.566     11.338  28.437     13.324  240.187   \n",
       "\n",
       "  mse_error explained_var explained_var_error median_abs_error  \\\n",
       "0   546.247         -1.59               2.111            5.689   \n",
       "\n",
       "  median_abs_error_eror  \n",
       "0                 3.556  "
      ]
     },
     "execution_count": 46,
     "metadata": {},
     "output_type": "execute_result"
    }
   ],
   "source": [
    "results_df"
   ]
  },
  {
   "cell_type": "code",
   "execution_count": null,
   "metadata": {},
   "outputs": [],
   "source": []
  },
  {
   "cell_type": "code",
   "execution_count": 43,
   "metadata": {},
   "outputs": [],
   "source": [
    "for m in metrics_dict:\n",
    "        \n",
    "    y_pred = cross_val_predict(model_config, \n",
    "                               X_train, target_train,\n",
    "                               cv = KFold(n_splits=5, shuffle=True, random_state=42),\n",
    "                               n_jobs=-1)  \n",
    "            # To perform the leave-one-out I could have done also:\n",
    "            #cv= LeaveOneOut()\n",
    "        \n",
    "            # metrics\n",
    "    score = metrics_dict[m](target_train, y_pred)"
   ]
  },
  {
   "cell_type": "code",
   "execution_count": 45,
   "metadata": {},
   "outputs": [
    {
     "data": {
      "text/plain": [
       "0.0"
      ]
     },
     "execution_count": 45,
     "metadata": {},
     "output_type": "execute_result"
    }
   ],
   "source": []
  },
  {
   "cell_type": "code",
   "execution_count": null,
   "metadata": {},
   "outputs": [],
   "source": []
  },
  {
   "cell_type": "code",
   "execution_count": null,
   "metadata": {},
   "outputs": [],
   "source": []
  },
  {
   "cell_type": "code",
   "execution_count": null,
   "metadata": {},
   "outputs": [],
   "source": []
  },
  {
   "cell_type": "code",
   "execution_count": null,
   "metadata": {},
   "outputs": [],
   "source": []
  },
  {
   "cell_type": "code",
   "execution_count": 15,
   "metadata": {},
   "outputs": [
    {
     "data": {
      "text/html": [
       "<div>\n",
       "<style scoped>\n",
       "    .dataframe tbody tr th:only-of-type {\n",
       "        vertical-align: middle;\n",
       "    }\n",
       "\n",
       "    .dataframe tbody tr th {\n",
       "        vertical-align: top;\n",
       "    }\n",
       "\n",
       "    .dataframe thead th {\n",
       "        text-align: right;\n",
       "    }\n",
       "</style>\n",
       "<table border=\"1\" class=\"dataframe\">\n",
       "  <thead>\n",
       "    <tr style=\"text-align: right;\">\n",
       "      <th></th>\n",
       "      <th>features</th>\n",
       "      <th>top_important</th>\n",
       "    </tr>\n",
       "  </thead>\n",
       "  <tbody>\n",
       "    <tr>\n",
       "      <th>0</th>\n",
       "      <td>energias_renovables</td>\n",
       "      <td>1</td>\n",
       "    </tr>\n",
       "    <tr>\n",
       "      <th>1</th>\n",
       "      <td>coronavirus</td>\n",
       "      <td>1</td>\n",
       "    </tr>\n",
       "    <tr>\n",
       "      <th>2</th>\n",
       "      <td>en casa</td>\n",
       "      <td>1</td>\n",
       "    </tr>\n",
       "    <tr>\n",
       "      <th>3</th>\n",
       "      <td>banco alimentos</td>\n",
       "      <td>1</td>\n",
       "    </tr>\n",
       "    <tr>\n",
       "      <th>4</th>\n",
       "      <td>tinder</td>\n",
       "      <td>1</td>\n",
       "    </tr>\n",
       "    <tr>\n",
       "      <th>...</th>\n",
       "      <td>...</td>\n",
       "      <td>...</td>\n",
       "    </tr>\n",
       "    <tr>\n",
       "      <th>98</th>\n",
       "      <td>bildu</td>\n",
       "      <td>91</td>\n",
       "    </tr>\n",
       "    <tr>\n",
       "      <th>99</th>\n",
       "      <td>estado de alarma</td>\n",
       "      <td>92</td>\n",
       "    </tr>\n",
       "    <tr>\n",
       "      <th>100</th>\n",
       "      <td>podemos</td>\n",
       "      <td>93</td>\n",
       "    </tr>\n",
       "    <tr>\n",
       "      <th>101</th>\n",
       "      <td>nacionalismo</td>\n",
       "      <td>94</td>\n",
       "    </tr>\n",
       "    <tr>\n",
       "      <th>102</th>\n",
       "      <td>enfermedades_muy_infecciosas</td>\n",
       "      <td>95</td>\n",
       "    </tr>\n",
       "  </tbody>\n",
       "</table>\n",
       "<p>103 rows × 2 columns</p>\n",
       "</div>"
      ],
      "text/plain": [
       "                         features  top_important\n",
       "0             energias_renovables              1\n",
       "1                     coronavirus              1\n",
       "2                         en casa              1\n",
       "3                 banco alimentos              1\n",
       "4                          tinder              1\n",
       "..                            ...            ...\n",
       "98                          bildu             91\n",
       "99               estado de alarma             92\n",
       "100                       podemos             93\n",
       "101                  nacionalismo             94\n",
       "102  enfermedades_muy_infecciosas             95\n",
       "\n",
       "[103 rows x 2 columns]"
      ]
     },
     "execution_count": 15,
     "metadata": {},
     "output_type": "execute_result"
    }
   ],
   "source": []
  },
  {
   "cell_type": "code",
   "execution_count": null,
   "metadata": {},
   "outputs": [],
   "source": []
  },
  {
   "cell_type": "code",
   "execution_count": null,
   "metadata": {},
   "outputs": [],
   "source": [
    "asdfasdfadsf"
   ]
  },
  {
   "cell_type": "code",
   "execution_count": null,
   "metadata": {},
   "outputs": [],
   "source": []
  },
  {
   "cell_type": "code",
   "execution_count": 14,
   "metadata": {},
   "outputs": [
    {
     "name": "stdout",
     "output_type": "stream",
     "text": [
      "0.9678778819242775 Rigde Ridge(alpha=0.1, copy_X=True, fit_intercept=True, max_iter=10000,\n",
      "      normalize=False, random_state=42, solver='auto', tol=0.001)\n"
     ]
    }
   ],
   "source": []
  },
  {
   "cell_type": "code",
   "execution_count": 15,
   "metadata": {},
   "outputs": [
    {
     "data": {
      "text/html": [
       "<div>\n",
       "<style scoped>\n",
       "    .dataframe tbody tr th:only-of-type {\n",
       "        vertical-align: middle;\n",
       "    }\n",
       "\n",
       "    .dataframe tbody tr th {\n",
       "        vertical-align: top;\n",
       "    }\n",
       "\n",
       "    .dataframe thead th {\n",
       "        text-align: right;\n",
       "    }\n",
       "</style>\n",
       "<table border=\"1\" class=\"dataframe\">\n",
       "  <thead>\n",
       "    <tr style=\"text-align: right;\">\n",
       "      <th></th>\n",
       "      <th>features</th>\n",
       "      <th>top_important</th>\n",
       "    </tr>\n",
       "  </thead>\n",
       "  <tbody>\n",
       "    <tr>\n",
       "      <th>0</th>\n",
       "      <td>ejercito</td>\n",
       "      <td>1</td>\n",
       "    </tr>\n",
       "    <tr>\n",
       "      <th>1</th>\n",
       "      <td>inmigracion_2</td>\n",
       "      <td>1</td>\n",
       "    </tr>\n",
       "    <tr>\n",
       "      <th>2</th>\n",
       "      <td>infeccion</td>\n",
       "      <td>1</td>\n",
       "    </tr>\n",
       "    <tr>\n",
       "      <th>3</th>\n",
       "      <td>independentismo</td>\n",
       "      <td>1</td>\n",
       "    </tr>\n",
       "    <tr>\n",
       "      <th>4</th>\n",
       "      <td>hbo</td>\n",
       "      <td>1</td>\n",
       "    </tr>\n",
       "    <tr>\n",
       "      <th>...</th>\n",
       "      <td>...</td>\n",
       "      <td>...</td>\n",
       "    </tr>\n",
       "    <tr>\n",
       "      <th>98</th>\n",
       "      <td>bildu</td>\n",
       "      <td>27</td>\n",
       "    </tr>\n",
       "    <tr>\n",
       "      <th>99</th>\n",
       "      <td>estado de alarma</td>\n",
       "      <td>28</td>\n",
       "    </tr>\n",
       "    <tr>\n",
       "      <th>100</th>\n",
       "      <td>podemos</td>\n",
       "      <td>29</td>\n",
       "    </tr>\n",
       "    <tr>\n",
       "      <th>101</th>\n",
       "      <td>nacionalismo</td>\n",
       "      <td>30</td>\n",
       "    </tr>\n",
       "    <tr>\n",
       "      <th>102</th>\n",
       "      <td>enfermedades_muy_infecciosas</td>\n",
       "      <td>31</td>\n",
       "    </tr>\n",
       "  </tbody>\n",
       "</table>\n",
       "<p>103 rows × 2 columns</p>\n",
       "</div>"
      ],
      "text/plain": [
       "                         features  top_important\n",
       "0                        ejercito              1\n",
       "1                   inmigracion_2              1\n",
       "2                       infeccion              1\n",
       "3                 independentismo              1\n",
       "4                             hbo              1\n",
       "..                            ...            ...\n",
       "98                          bildu             27\n",
       "99               estado de alarma             28\n",
       "100                       podemos             29\n",
       "101                  nacionalismo             30\n",
       "102  enfermedades_muy_infecciosas             31\n",
       "\n",
       "[103 rows x 2 columns]"
      ]
     },
     "execution_count": 15,
     "metadata": {},
     "output_type": "execute_result"
    }
   ],
   "source": [
    "# Ranking of how important are the following keywords to infer in Google searches in Spain\n",
    "# the keyword \"unemployment\"\n",
    "ranking_features=pd.DataFrame()\n",
    "ranking_features[\"features\"]=X_train.columns\n",
    "ranking_features[\"top_important\"]=rfecv.ranking_\n",
    "ranking_features.sort_values(by=\"top_important\", ascending=True, inplace=True, ignore_index=True)\n",
    "ranking_features.to_csv(\"input/ranking_of_features.csv\")  # <========================\n",
    "ranking_features"
   ]
  },
  {
   "cell_type": "markdown",
   "metadata": {},
   "source": [
    "# Plotting results"
   ]
  },
  {
   "cell_type": "code",
   "execution_count": 16,
   "metadata": {},
   "outputs": [
    {
     "data": {
      "text/html": [
       "<div>\n",
       "<style scoped>\n",
       "    .dataframe tbody tr th:only-of-type {\n",
       "        vertical-align: middle;\n",
       "    }\n",
       "\n",
       "    .dataframe tbody tr th {\n",
       "        vertical-align: top;\n",
       "    }\n",
       "\n",
       "    .dataframe thead th {\n",
       "        text-align: right;\n",
       "    }\n",
       "</style>\n",
       "<table border=\"1\" class=\"dataframe\">\n",
       "  <thead>\n",
       "    <tr style=\"text-align: right;\">\n",
       "      <th></th>\n",
       "      <th>date</th>\n",
       "      <th>real_searches</th>\n",
       "      <th>inferred_results</th>\n",
       "    </tr>\n",
       "  </thead>\n",
       "  <tbody>\n",
       "    <tr>\n",
       "      <th>97</th>\n",
       "      <td>2020-11-15</td>\n",
       "      <td>32.0</td>\n",
       "      <td>32.23</td>\n",
       "    </tr>\n",
       "    <tr>\n",
       "      <th>98</th>\n",
       "      <td>2020-11-22</td>\n",
       "      <td>26.0</td>\n",
       "      <td>29.26</td>\n",
       "    </tr>\n",
       "    <tr>\n",
       "      <th>99</th>\n",
       "      <td>2020-11-29</td>\n",
       "      <td>33.0</td>\n",
       "      <td>28.01</td>\n",
       "    </tr>\n",
       "    <tr>\n",
       "      <th>100</th>\n",
       "      <td>2020-12-06</td>\n",
       "      <td>24.0</td>\n",
       "      <td>21.17</td>\n",
       "    </tr>\n",
       "    <tr>\n",
       "      <th>101</th>\n",
       "      <td>2020-12-13</td>\n",
       "      <td>27.0</td>\n",
       "      <td>25.83</td>\n",
       "    </tr>\n",
       "    <tr>\n",
       "      <th>102</th>\n",
       "      <td>2020-12-20</td>\n",
       "      <td>0.0</td>\n",
       "      <td>7.94</td>\n",
       "    </tr>\n",
       "    <tr>\n",
       "      <th>103</th>\n",
       "      <td>2020-12-27</td>\n",
       "      <td>0.0</td>\n",
       "      <td>35.76</td>\n",
       "    </tr>\n",
       "    <tr>\n",
       "      <th>104</th>\n",
       "      <td>2021-01-03</td>\n",
       "      <td>0.0</td>\n",
       "      <td>32.06</td>\n",
       "    </tr>\n",
       "    <tr>\n",
       "      <th>105</th>\n",
       "      <td>2021-01-10</td>\n",
       "      <td>0.0</td>\n",
       "      <td>43.56</td>\n",
       "    </tr>\n",
       "    <tr>\n",
       "      <th>106</th>\n",
       "      <td>2021-01-17</td>\n",
       "      <td>0.0</td>\n",
       "      <td>0.00</td>\n",
       "    </tr>\n",
       "  </tbody>\n",
       "</table>\n",
       "</div>"
      ],
      "text/plain": [
       "           date  real_searches  inferred_results\n",
       "97   2020-11-15           32.0             32.23\n",
       "98   2020-11-22           26.0             29.26\n",
       "99   2020-11-29           33.0             28.01\n",
       "100  2020-12-06           24.0             21.17\n",
       "101  2020-12-13           27.0             25.83\n",
       "102  2020-12-20            0.0              7.94\n",
       "103  2020-12-27            0.0             35.76\n",
       "104  2021-01-03            0.0             32.06\n",
       "105  2021-01-10            0.0             43.56\n",
       "106  2021-01-17            0.0              0.00"
      ]
     },
     "execution_count": 16,
     "metadata": {},
     "output_type": "execute_result"
    }
   ],
   "source": [
    "inferred_results=list(rfecv.predict(X)) # this is just to avoid generating nans in df\n",
    "unemployment=list(df.unemployment)\n",
    "date=df.date\n",
    "#print(len(inferred_results),len(unemployment),len(date))\n",
    "\n",
    "result=pd.DataFrame()\n",
    "result[\"date\"]=df[\"date\"]\n",
    "result[\"real_searches\"]=unemployment\n",
    "result[\"inferred_results\"]=inferred_results\n",
    "\n",
    "result[\"inferred_results\"]=result[\"inferred_results\"].apply(lambda x: 0 if x<0 else round(x,2))\n",
    "result.tail(10)"
   ]
  },
  {
   "cell_type": "code",
   "execution_count": 17,
   "metadata": {},
   "outputs": [
    {
     "data": {
      "text/plain": [
       "<matplotlib.axes._subplots.AxesSubplot at 0x7f54533ca590>"
      ]
     },
     "execution_count": 17,
     "metadata": {},
     "output_type": "execute_result"
    },
    {
     "data": {
      "image/png": "[encoded data removed]",
      "text/plain": [
       "<Figure size 1440x720 with 1 Axes>"
      ]
     },
     "metadata": {
      "needs_background": "light"
     },
     "output_type": "display_data"
    }
   ],
   "source": [
    "# visualization\n",
    "result.plot(x=\"date\",\n",
    "            y=[\"real_searches\",\"inferred_results\"],\n",
    "            figsize=(20,10), \n",
    "            kind=\"bar\",\n",
    "            title=\"Inferences of Tending Index in Google Trends, with results 4 weeks ahead. This data will be implemented in an automated pipeline for dashboarding in Data Studio\",\n",
    "            grid=True)"
   ]
  },
  {
   "cell_type": "markdown",
   "metadata": {},
   "source": [
    "# cross_val_score with standard deviation"
   ]
  },
  {
   "cell_type": "code",
   "execution_count": 18,
   "metadata": {},
   "outputs": [],
   "source": [
    "\n",
    "today=datetime.now().date()\n",
    "# this is done with the RFECV results and appended in the final csv\n",
    "min_number_features =  df.shape[0]//10\n",
    "mean = result.real_searches.head(-4).mean()\n",
    "N = len(result.real_searches.head(-4))\n",
    "y_real=result.real_searches.head(-4) \n",
    "y_pred=result.inferred_results.head(-4)\n",
    "mape=round(np.abs( ((y_real-y_pred)/y_real).sum() /N )*100,3)\n",
    "\n",
    "metrics={\"date\":[today], \n",
    "         \"selected_columns\":[rfecv.n_features_],\n",
    "         \"model\":model_name,\n",
    "        \"mape\":[mape],\n",
    "         \"alg_rmse\":[round(score,3)]}\n",
    "\n",
    "# Here starts cross_val_score\n",
    "metrics_cross_val_score=[\n",
    "                        \"neg_root_mean_squared_error\",\n",
    "                        \"neg_mean_squared_error\",\n",
    "                         \"r2\",\n",
    "                         \"explained_variance\",\n",
    "                         \"neg_mean_absolute_error\",\n",
    "                         \"max_error\",\n",
    "                         \"neg_median_absolute_error\"\n",
    "                        ]\n",
    "\n",
    "regression=model_config # the winner model before\n",
    "#X_train= X_train[ranking_features[ranking_features[\"top_important\"]==1][\"features\"]] #selecting the same columns than before\n",
    "X_train = X_train[list(X_train.columns)[:rfecv.n_features_]] # taking all the selected features before\n",
    "\n",
    "# No X_train means working with all columns\n",
    "for m in metrics_cross_val_score:\n",
    "    score=cross_val_score(regression, \n",
    "        X_train,\n",
    "        target_train, \n",
    "        cv=KFold(n_splits=10, shuffle=True, random_state=42), scoring=m)\n",
    "\n",
    "    score= [-score.mean()/mean,score.std()/mean]    \n",
    "\n",
    "    metrics[m]=round(score[0],2)\n",
    "    dev=\"std_\"+m\n",
    "    metrics[dev]=round(score[1],2)\n",
    "\n",
    "weekly_score=pd.DataFrame(metrics)\n",
    "weekly_score.rename(columns={\n",
    "                   'neg_root_mean_squared_error': \"rmse\", \n",
    "                   'std_neg_root_mean_squared_error': \"error_rmse\",\n",
    "                   'neg_mean_squared_error':\"mse\", \n",
    "                   'std_neg_mean_squared_error':\"error_mse\", \n",
    "                   'std_r2':\"error_r2\",\n",
    "                   'std_explained_variance':\"error_explained_variance\",\n",
    "                    'neg_mean_absolute_error':\"mae\", \n",
    "                   'std_neg_mean_absolute_error':\"error_mae\", \n",
    "                   'std_max_error':\"error_max_error\", \n",
    "                   'neg_median_absolute_error':\"median_ae\",\n",
    "                   'std_neg_median_absolute_error':\"error_median_ae\"}, inplace=True)"
   ]
  },
  {
   "cell_type": "code",
   "execution_count": 19,
   "metadata": {},
   "outputs": [
    {
     "data": {
      "text/html": [
       "<div>\n",
       "<style scoped>\n",
       "    .dataframe tbody tr th:only-of-type {\n",
       "        vertical-align: middle;\n",
       "    }\n",
       "\n",
       "    .dataframe tbody tr th {\n",
       "        vertical-align: top;\n",
       "    }\n",
       "\n",
       "    .dataframe thead th {\n",
       "        text-align: right;\n",
       "    }\n",
       "</style>\n",
       "<table border=\"1\" class=\"dataframe\">\n",
       "  <thead>\n",
       "    <tr style=\"text-align: right;\">\n",
       "      <th></th>\n",
       "      <th>date</th>\n",
       "      <th>selected_columns</th>\n",
       "      <th>model</th>\n",
       "      <th>mape</th>\n",
       "      <th>alg_rmse</th>\n",
       "      <th>rmse</th>\n",
       "      <th>error_rmse</th>\n",
       "      <th>mse</th>\n",
       "      <th>error_mse</th>\n",
       "      <th>r2</th>\n",
       "      <th>error_r2</th>\n",
       "      <th>explained_variance</th>\n",
       "      <th>error_explained_variance</th>\n",
       "      <th>mae</th>\n",
       "      <th>error_mae</th>\n",
       "      <th>max_error</th>\n",
       "      <th>error_max_error</th>\n",
       "      <th>median_ae</th>\n",
       "      <th>error_median_ae</th>\n",
       "    </tr>\n",
       "  </thead>\n",
       "  <tbody>\n",
       "    <tr>\n",
       "      <th>0</th>\n",
       "      <td>2021-01-24</td>\n",
       "      <td>73</td>\n",
       "      <td>Rigde</td>\n",
       "      <td>inf</td>\n",
       "      <td>0.968</td>\n",
       "      <td>0.54</td>\n",
       "      <td>0.23</td>\n",
       "      <td>8.45</td>\n",
       "      <td>6.6</td>\n",
       "      <td>0.09</td>\n",
       "      <td>0.12</td>\n",
       "      <td>0.07</td>\n",
       "      <td>0.11</td>\n",
       "      <td>0.39</td>\n",
       "      <td>0.17</td>\n",
       "      <td>1.16</td>\n",
       "      <td>0.52</td>\n",
       "      <td>0.29</td>\n",
       "      <td>0.14</td>\n",
       "    </tr>\n",
       "  </tbody>\n",
       "</table>\n",
       "</div>"
      ],
      "text/plain": [
       "         date  selected_columns  model  mape  alg_rmse  rmse  error_rmse  \\\n",
       "0  2021-01-24                73  Rigde   inf     0.968  0.54        0.23   \n",
       "\n",
       "    mse  error_mse    r2  error_r2  explained_variance  \\\n",
       "0  8.45        6.6  0.09      0.12                0.07   \n",
       "\n",
       "   error_explained_variance   mae  error_mae  max_error  error_max_error  \\\n",
       "0                      0.11  0.39       0.17       1.16             0.52   \n",
       "\n",
       "   median_ae  error_median_ae  \n",
       "0       0.29             0.14  "
      ]
     },
     "execution_count": 19,
     "metadata": {},
     "output_type": "execute_result"
    }
   ],
   "source": [
    "weekly_score\n",
    "# why this metrics are so bad compared with the RFECV process puzzles me. Pending task"
   ]
  },
  {
   "cell_type": "markdown",
   "metadata": {},
   "source": [
    "# RFECV selection of columns"
   ]
  },
  {
   "cell_type": "code",
   "execution_count": 20,
   "metadata": {},
   "outputs": [
    {
     "data": {
      "image/png": "[encoded data removed]",
      "text/plain": [
       "<Figure size 1152x648 with 1 Axes>"
      ]
     },
     "metadata": {
      "needs_background": "light"
     },
     "output_type": "display_data"
    }
   ],
   "source": [
    "from matplotlib import pyplot\n",
    "plt.figure(figsize=(16, 9))\n",
    "plt.title('Recursive Feature Elimination with Cross-Validation', fontsize=34, pad=20)\n",
    "plt.xlabel('Number of features selected', fontsize=28, labelpad=20)\n",
    "plt.ylabel('Inner algorithm score', fontsize=28, labelpad=20)\n",
    "plt.plot(range(1, len(rfecv.grid_scores_) + 1), rfecv.grid_scores_, color='#303F9F', linewidth=3)\n",
    "\n",
    "plt.savefig(\"./input/RFE_columns.jpg\")   # <====================\n",
    "\n",
    "plt.show()"
   ]
  },
  {
   "cell_type": "code",
   "execution_count": 21,
   "metadata": {},
   "outputs": [
    {
     "data": {
      "text/plain": [
       "array([ 35.75962998,  32.06467441,  43.56322208, -11.67526315])"
      ]
     },
     "execution_count": 21,
     "metadata": {},
     "output_type": "execute_result"
    }
   ],
   "source": [
    "# Inferences 4 weeks ahead\n",
    "rfecv.predict(X_test)"
   ]
  },
  {
   "cell_type": "code",
   "execution_count": null,
   "metadata": {},
   "outputs": [],
   "source": []
  }
 ],
 "metadata": {
  "kernelspec": {
   "display_name": "mlsklearn",
   "language": "python",
   "name": "mlsklearn"
  },
  "language_info": {
   "codemirror_mode": {
    "name": "ipython",
    "version": 3
   },
   "file_extension": ".py",
   "mimetype": "text/x-python",
   "name": "python",
   "nbconvert_exporter": "python",
   "pygments_lexer": "ipython3",
   "version": "3.7.6"
  }
 },
 "nbformat": 4,
 "nbformat_minor": 4
}
