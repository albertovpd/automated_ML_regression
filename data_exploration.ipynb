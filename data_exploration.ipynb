{
 "cells": [
  {
   "cell_type": "markdown",
   "metadata": {},
   "source": [
    "# Pure data processing:\n",
    "\n",
    "- Merge 4 datasets\n",
    "- Create columns for every keyword\n",
    "- Take the \"unemployment Google searches\" keyword, remove the first 2 rows of unemployment, slide the rest of the data to fill that holes  \n"
   ]
  },
  {
   "cell_type": "code",
   "execution_count": 1,
   "metadata": {},
   "outputs": [],
   "source": [
    "import pandas as pd"
   ]
  },
  {
   "cell_type": "code",
   "execution_count": 22,
   "metadata": {},
   "outputs": [],
   "source": [
    "df_political=pd.read_csv(\"./input/dashboard_spanish_news_political.csv.gz\",compression='gzip', header=0, quotechar='\"', error_bad_lines=False)\n",
    "df_political.sort_values(by=[\"Date\"],inplace=True)\n",
    "\n",
    "df_economical=pd.read_csv(\"./input/dashboard_spanish_news_economical.csv.gz\",compression='gzip', header=0, quotechar='\"', error_bad_lines=False)\n",
    "df_economical.sort_values(by=[\"Date\"],inplace=True)\n",
    "\n",
    "df_social=pd.read_csv(\"./input/dashboard_spanish_news_social.csv.gz\",compression='gzip', header=0, quotechar='\"', error_bad_lines=False)\n",
    "df_social.sort_values(by=[\"Date\"],inplace=True)\n",
    "\n",
    "df_google=pd.read_csv(\"./input/data_pytrends.csv\")\n",
    "df_google.sort_values(by=[\"date\"],inplace=True)"
   ]
  },
  {
   "cell_type": "markdown",
   "metadata": {},
   "source": [
    "### Dataset structures:\n",
    "\n",
    "- Requested data from BigQuery (df_political/social/economical): Every different keyword in **political** will be a column with its associated sentiment\n",
    "- The same for google searches: Every different keyword will be a column with its associated trend_index.\n",
    "- All df will be resampled and grouped by date to have a weekly display with the corresponding average of **sentiment** or **trend_index**"
   ]
  },
  {
   "cell_type": "code",
   "execution_count": 23,
   "metadata": {},
   "outputs": [
    {
     "data": {
      "text/html": [
       "<div>\n",
       "<style scoped>\n",
       "    .dataframe tbody tr th:only-of-type {\n",
       "        vertical-align: middle;\n",
       "    }\n",
       "\n",
       "    .dataframe tbody tr th {\n",
       "        vertical-align: top;\n",
       "    }\n",
       "\n",
       "    .dataframe thead th {\n",
       "        text-align: right;\n",
       "    }\n",
       "</style>\n",
       "<table border=\"1\" class=\"dataframe\">\n",
       "  <thead>\n",
       "    <tr style=\"text-align: right;\">\n",
       "      <th></th>\n",
       "      <th>political</th>\n",
       "      <th>Date</th>\n",
       "      <th>Sentiment</th>\n",
       "    </tr>\n",
       "  </thead>\n",
       "  <tbody>\n",
       "    <tr>\n",
       "      <th>15773</th>\n",
       "      <td>juicio</td>\n",
       "      <td>2019-01-01</td>\n",
       "      <td>0.18</td>\n",
       "    </tr>\n",
       "    <tr>\n",
       "      <th>52050</th>\n",
       "      <td>seguridad_nacional</td>\n",
       "      <td>2019-01-01</td>\n",
       "      <td>-6.55</td>\n",
       "    </tr>\n",
       "    <tr>\n",
       "      <th>52051</th>\n",
       "      <td>seguridad_nacional</td>\n",
       "      <td>2019-01-01</td>\n",
       "      <td>-1.43</td>\n",
       "    </tr>\n",
       "    <tr>\n",
       "      <th>52052</th>\n",
       "      <td>seguridad_nacional</td>\n",
       "      <td>2019-01-01</td>\n",
       "      <td>-1.43</td>\n",
       "    </tr>\n",
       "    <tr>\n",
       "      <th>53246</th>\n",
       "      <td>inestabilidad_politica</td>\n",
       "      <td>2019-01-01</td>\n",
       "      <td>-0.30</td>\n",
       "    </tr>\n",
       "  </tbody>\n",
       "</table>\n",
       "</div>"
      ],
      "text/plain": [
       "                    political        Date  Sentiment\n",
       "15773                  juicio  2019-01-01       0.18\n",
       "52050      seguridad_nacional  2019-01-01      -6.55\n",
       "52051      seguridad_nacional  2019-01-01      -1.43\n",
       "52052      seguridad_nacional  2019-01-01      -1.43\n",
       "53246  inestabilidad_politica  2019-01-01      -0.30"
      ]
     },
     "execution_count": 23,
     "metadata": {},
     "output_type": "execute_result"
    }
   ],
   "source": [
    "df_political.head()"
   ]
  },
  {
   "cell_type": "code",
   "execution_count": 24,
   "metadata": {},
   "outputs": [
    {
     "data": {
      "text/plain": [
       "Index(['Unnamed: 0', 'keyword', 'date', 'trend_index'], dtype='object')"
      ]
     },
     "execution_count": 24,
     "metadata": {},
     "output_type": "execute_result"
    }
   ],
   "source": [
    "# google searches\n",
    "df_google.columns"
   ]
  },
  {
   "cell_type": "code",
   "execution_count": 25,
   "metadata": {},
   "outputs": [
    {
     "data": {
      "text/html": [
       "<div>\n",
       "<style scoped>\n",
       "    .dataframe tbody tr th:only-of-type {\n",
       "        vertical-align: middle;\n",
       "    }\n",
       "\n",
       "    .dataframe tbody tr th {\n",
       "        vertical-align: top;\n",
       "    }\n",
       "\n",
       "    .dataframe thead th {\n",
       "        text-align: right;\n",
       "    }\n",
       "</style>\n",
       "<table border=\"1\" class=\"dataframe\">\n",
       "  <thead>\n",
       "    <tr style=\"text-align: right;\">\n",
       "      <th></th>\n",
       "      <th>keyword</th>\n",
       "      <th>Date</th>\n",
       "      <th>trend_index</th>\n",
       "    </tr>\n",
       "  </thead>\n",
       "  <tbody>\n",
       "    <tr>\n",
       "      <th>0</th>\n",
       "      <td>zoom</td>\n",
       "      <td>2019-01-06</td>\n",
       "      <td>5</td>\n",
       "    </tr>\n",
       "    <tr>\n",
       "      <th>1410</th>\n",
       "      <td>bildu</td>\n",
       "      <td>2019-01-06</td>\n",
       "      <td>3</td>\n",
       "    </tr>\n",
       "    <tr>\n",
       "      <th>6204</th>\n",
       "      <td>uber eats</td>\n",
       "      <td>2019-01-06</td>\n",
       "      <td>10</td>\n",
       "    </tr>\n",
       "    <tr>\n",
       "      <th>4982</th>\n",
       "      <td>medico</td>\n",
       "      <td>2019-01-06</td>\n",
       "      <td>89</td>\n",
       "    </tr>\n",
       "    <tr>\n",
       "      <th>2632</th>\n",
       "      <td>productividad</td>\n",
       "      <td>2019-01-06</td>\n",
       "      <td>39</td>\n",
       "    </tr>\n",
       "  </tbody>\n",
       "</table>\n",
       "</div>"
      ],
      "text/plain": [
       "            keyword        Date  trend_index\n",
       "0              zoom  2019-01-06            5\n",
       "1410          bildu  2019-01-06            3\n",
       "6204      uber eats  2019-01-06           10\n",
       "4982         medico  2019-01-06           89\n",
       "2632  productividad  2019-01-06           39"
      ]
     },
     "execution_count": 25,
     "metadata": {},
     "output_type": "execute_result"
    }
   ],
   "source": [
    "df_google.drop(columns='Unnamed: 0', inplace=True)\n",
    "df_google.rename(columns={'date':\"Date\"}, inplace=True)\n",
    "df_google.head()"
   ]
  },
  {
   "cell_type": "markdown",
   "metadata": {},
   "source": [
    "### Let's do it"
   ]
  },
  {
   "cell_type": "code",
   "execution_count": 18,
   "metadata": {},
   "outputs": [],
   "source": [
    "df_google=df_google.sort_values(by=[\"Date\"])"
   ]
  },
  {
   "cell_type": "code",
   "execution_count": 19,
   "metadata": {},
   "outputs": [],
   "source": [
    "df=pd.DataFrame()"
   ]
  },
  {
   "cell_type": "code",
   "execution_count": 20,
   "metadata": {},
   "outputs": [],
   "source": [
    "df[\"Date\"]=list(set(df_google.Date))"
   ]
  },
  {
   "cell_type": "code",
   "execution_count": 21,
   "metadata": {},
   "outputs": [
    {
     "data": {
      "text/plain": [
       "0     2019-05-19\n",
       "1     2019-03-10\n",
       "2     2020-04-26\n",
       "3     2019-10-27\n",
       "4     2020-02-16\n",
       "         ...    \n",
       "89    2019-12-01\n",
       "90    2019-12-08\n",
       "91    2020-02-02\n",
       "92    2020-08-09\n",
       "93    2019-11-03\n",
       "Name: Date, Length: 94, dtype: object"
      ]
     },
     "execution_count": 21,
     "metadata": {},
     "output_type": "execute_result"
    }
   ],
   "source": [
    "df.sort_values(by=[\"Date\"])"
   ]
  },
  {
   "cell_type": "code",
   "execution_count": null,
   "metadata": {},
   "outputs": [],
   "source": []
  },
  {
   "cell_type": "code",
   "execution_count": null,
   "metadata": {},
   "outputs": [],
   "source": []
  },
  {
   "cell_type": "code",
   "execution_count": null,
   "metadata": {},
   "outputs": [],
   "source": []
  }
 ],
 "metadata": {
  "kernelspec": {
   "display_name": "mlsklearn",
   "language": "python",
   "name": "mlsklearn"
  },
  "language_info": {
   "codemirror_mode": {
    "name": "ipython",
    "version": 3
   },
   "file_extension": ".py",
   "mimetype": "text/x-python",
   "name": "python",
   "nbconvert_exporter": "python",
   "pygments_lexer": "ipython3",
   "version": "3.7.6"
  }
 },
 "nbformat": 4,
 "nbformat_minor": 4
}
