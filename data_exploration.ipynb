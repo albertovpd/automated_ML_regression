{
 "cells": [
  {
   "cell_type": "markdown",
   "metadata": {},
   "source": [
    "# Pure data processing:\n",
    "\n",
    "- Merge 4 datasets\n",
    "- Create columns for every keyword\n",
    "- Take the \"unemployment Google searches\" keyword, remove the first 2 rows of unemployment, slide the rest of the data to fill that holes  \n"
   ]
  },
  {
   "cell_type": "code",
   "execution_count": 1,
   "metadata": {},
   "outputs": [],
   "source": [
    "import pandas as pd"
   ]
  },
  {
   "cell_type": "code",
   "execution_count": 2,
   "metadata": {},
   "outputs": [],
   "source": [
    "df_political=pd.read_csv(\"./input/dashboard_spanish_news_political.csv.gz\",compression='gzip', header=0, quotechar='\"', error_bad_lines=False)\n",
    "df_political.sort_values(by=[\"Date\"],inplace=True)\n",
    "\n",
    "df_economical=pd.read_csv(\"./input/dashboard_spanish_news_economical.csv.gz\",compression='gzip', header=0, quotechar='\"', error_bad_lines=False)\n",
    "df_economical.sort_values(by=[\"Date\"],inplace=True)\n",
    "\n",
    "df_social=pd.read_csv(\"./input/dashboard_spanish_news_social.csv.gz\",compression='gzip', header=0, quotechar='\"', error_bad_lines=False)\n",
    "df_social.sort_values(by=[\"Date\"],inplace=True)\n",
    "\n",
    "df_google=pd.read_csv(\"./input/data_pytrends.csv\")\n",
    "df_google.sort_values(by=[\"date\"],inplace=True)"
   ]
  },
  {
   "cell_type": "markdown",
   "metadata": {},
   "source": [
    "## Dataset structures:\n",
    "\n",
    "- Requested data from BigQuery (df_political/social/economical): Every different keyword in **political** will be a column with its associated sentiment\n",
    "- The same for google searches: Every different keyword will be a column with its associated trend_index.\n",
    "- All df will be resampled and grouped by date to have a weekly display with the corresponding average of **sentiment** or **trend_index**"
   ]
  },
  {
   "cell_type": "code",
   "execution_count": 3,
   "metadata": {},
   "outputs": [
    {
     "data": {
      "text/html": [
       "<div>\n",
       "<style scoped>\n",
       "    .dataframe tbody tr th:only-of-type {\n",
       "        vertical-align: middle;\n",
       "    }\n",
       "\n",
       "    .dataframe tbody tr th {\n",
       "        vertical-align: top;\n",
       "    }\n",
       "\n",
       "    .dataframe thead th {\n",
       "        text-align: right;\n",
       "    }\n",
       "</style>\n",
       "<table border=\"1\" class=\"dataframe\">\n",
       "  <thead>\n",
       "    <tr style=\"text-align: right;\">\n",
       "      <th></th>\n",
       "      <th>political</th>\n",
       "      <th>Date</th>\n",
       "      <th>Sentiment</th>\n",
       "    </tr>\n",
       "  </thead>\n",
       "  <tbody>\n",
       "    <tr>\n",
       "      <th>15773</th>\n",
       "      <td>juicio</td>\n",
       "      <td>2019-01-01</td>\n",
       "      <td>0.18</td>\n",
       "    </tr>\n",
       "    <tr>\n",
       "      <th>52050</th>\n",
       "      <td>seguridad_nacional</td>\n",
       "      <td>2019-01-01</td>\n",
       "      <td>-6.55</td>\n",
       "    </tr>\n",
       "    <tr>\n",
       "      <th>52051</th>\n",
       "      <td>seguridad_nacional</td>\n",
       "      <td>2019-01-01</td>\n",
       "      <td>-1.43</td>\n",
       "    </tr>\n",
       "    <tr>\n",
       "      <th>52052</th>\n",
       "      <td>seguridad_nacional</td>\n",
       "      <td>2019-01-01</td>\n",
       "      <td>-1.43</td>\n",
       "    </tr>\n",
       "    <tr>\n",
       "      <th>53246</th>\n",
       "      <td>inestabilidad_politica</td>\n",
       "      <td>2019-01-01</td>\n",
       "      <td>-0.30</td>\n",
       "    </tr>\n",
       "  </tbody>\n",
       "</table>\n",
       "</div>"
      ],
      "text/plain": [
       "                    political        Date  Sentiment\n",
       "15773                  juicio  2019-01-01       0.18\n",
       "52050      seguridad_nacional  2019-01-01      -6.55\n",
       "52051      seguridad_nacional  2019-01-01      -1.43\n",
       "52052      seguridad_nacional  2019-01-01      -1.43\n",
       "53246  inestabilidad_politica  2019-01-01      -0.30"
      ]
     },
     "execution_count": 3,
     "metadata": {},
     "output_type": "execute_result"
    }
   ],
   "source": [
    "df_political.head()"
   ]
  },
  {
   "cell_type": "code",
   "execution_count": 4,
   "metadata": {},
   "outputs": [
    {
     "data": {
      "text/plain": [
       "Index(['Unnamed: 0', 'keyword', 'date', 'trend_index'], dtype='object')"
      ]
     },
     "execution_count": 4,
     "metadata": {},
     "output_type": "execute_result"
    }
   ],
   "source": [
    "# google searches\n",
    "df_google.columns"
   ]
  },
  {
   "cell_type": "code",
   "execution_count": 5,
   "metadata": {},
   "outputs": [
    {
     "data": {
      "text/html": [
       "<div>\n",
       "<style scoped>\n",
       "    .dataframe tbody tr th:only-of-type {\n",
       "        vertical-align: middle;\n",
       "    }\n",
       "\n",
       "    .dataframe tbody tr th {\n",
       "        vertical-align: top;\n",
       "    }\n",
       "\n",
       "    .dataframe thead th {\n",
       "        text-align: right;\n",
       "    }\n",
       "</style>\n",
       "<table border=\"1\" class=\"dataframe\">\n",
       "  <thead>\n",
       "    <tr style=\"text-align: right;\">\n",
       "      <th></th>\n",
       "      <th>keyword</th>\n",
       "      <th>Date</th>\n",
       "      <th>trend_index</th>\n",
       "    </tr>\n",
       "  </thead>\n",
       "  <tbody>\n",
       "    <tr>\n",
       "      <th>0</th>\n",
       "      <td>zoom</td>\n",
       "      <td>2019-01-06</td>\n",
       "      <td>5</td>\n",
       "    </tr>\n",
       "    <tr>\n",
       "      <th>1410</th>\n",
       "      <td>bildu</td>\n",
       "      <td>2019-01-06</td>\n",
       "      <td>3</td>\n",
       "    </tr>\n",
       "    <tr>\n",
       "      <th>6204</th>\n",
       "      <td>uber eats</td>\n",
       "      <td>2019-01-06</td>\n",
       "      <td>10</td>\n",
       "    </tr>\n",
       "    <tr>\n",
       "      <th>4982</th>\n",
       "      <td>medico</td>\n",
       "      <td>2019-01-06</td>\n",
       "      <td>89</td>\n",
       "    </tr>\n",
       "    <tr>\n",
       "      <th>2632</th>\n",
       "      <td>productividad</td>\n",
       "      <td>2019-01-06</td>\n",
       "      <td>39</td>\n",
       "    </tr>\n",
       "  </tbody>\n",
       "</table>\n",
       "</div>"
      ],
      "text/plain": [
       "            keyword        Date  trend_index\n",
       "0              zoom  2019-01-06            5\n",
       "1410          bildu  2019-01-06            3\n",
       "6204      uber eats  2019-01-06           10\n",
       "4982         medico  2019-01-06           89\n",
       "2632  productividad  2019-01-06           39"
      ]
     },
     "execution_count": 5,
     "metadata": {},
     "output_type": "execute_result"
    }
   ],
   "source": [
    "df_google.drop(columns='Unnamed: 0', inplace=True)\n",
    "df_google.rename(columns={'date':\"Date\"}, inplace=True)\n",
    "df_google.head()"
   ]
  },
  {
   "cell_type": "markdown",
   "metadata": {},
   "source": [
    "## Google Dataset: \n",
    "\n",
    "- Creating a column for each keyword with the trend_index value"
   ]
  },
  {
   "cell_type": "code",
   "execution_count": 6,
   "metadata": {},
   "outputs": [
    {
     "data": {
      "text/html": [
       "<div>\n",
       "<style scoped>\n",
       "    .dataframe tbody tr th:only-of-type {\n",
       "        vertical-align: middle;\n",
       "    }\n",
       "\n",
       "    .dataframe tbody tr th {\n",
       "        vertical-align: top;\n",
       "    }\n",
       "\n",
       "    .dataframe thead th {\n",
       "        text-align: right;\n",
       "    }\n",
       "</style>\n",
       "<table border=\"1\" class=\"dataframe\">\n",
       "  <thead>\n",
       "    <tr style=\"text-align: right;\">\n",
       "      <th></th>\n",
       "      <th>Date</th>\n",
       "    </tr>\n",
       "  </thead>\n",
       "  <tbody>\n",
       "    <tr>\n",
       "      <th>32</th>\n",
       "      <td>2019-01-06</td>\n",
       "    </tr>\n",
       "    <tr>\n",
       "      <th>28</th>\n",
       "      <td>2019-01-13</td>\n",
       "    </tr>\n",
       "    <tr>\n",
       "      <th>83</th>\n",
       "      <td>2019-01-20</td>\n",
       "    </tr>\n",
       "    <tr>\n",
       "      <th>7</th>\n",
       "      <td>2019-01-27</td>\n",
       "    </tr>\n",
       "    <tr>\n",
       "      <th>90</th>\n",
       "      <td>2019-02-03</td>\n",
       "    </tr>\n",
       "  </tbody>\n",
       "</table>\n",
       "</div>"
      ],
      "text/plain": [
       "          Date\n",
       "32  2019-01-06\n",
       "28  2019-01-13\n",
       "83  2019-01-20\n",
       "7   2019-01-27\n",
       "90  2019-02-03"
      ]
     },
     "execution_count": 6,
     "metadata": {},
     "output_type": "execute_result"
    }
   ],
   "source": [
    "# new dataframe\n",
    "df_google_dates=pd.DataFrame()\n",
    "\n",
    "# creating the Date column in new dataset\n",
    "df_google_dates[\"Date\"]=list(set(df_google[\"Date\"]))\n",
    "df_google_dates.sort_values(by=[\"Date\"],inplace=True)\n",
    "df_google_dates.head()"
   ]
  },
  {
   "cell_type": "code",
   "execution_count": 7,
   "metadata": {},
   "outputs": [],
   "source": [
    "# Creating the new columns. Trend index with the name of the corresponding keyword\n",
    "keyword_list=list(set(df_google[\"keyword\"]))\n",
    "keyword_list.sort()\n",
    "for k in keyword_list:\n",
    "    df_google_dates[k]=df_google[(df_google['keyword'] == k)][\"trend_index\"].tolist()"
   ]
  },
  {
   "cell_type": "code",
   "execution_count": 8,
   "metadata": {},
   "outputs": [
    {
     "data": {
      "text/html": [
       "<div>\n",
       "<style scoped>\n",
       "    .dataframe tbody tr th:only-of-type {\n",
       "        vertical-align: middle;\n",
       "    }\n",
       "\n",
       "    .dataframe tbody tr th {\n",
       "        vertical-align: top;\n",
       "    }\n",
       "\n",
       "    .dataframe thead th {\n",
       "        text-align: right;\n",
       "    }\n",
       "</style>\n",
       "<table border=\"1\" class=\"dataframe\">\n",
       "  <thead>\n",
       "    <tr style=\"text-align: right;\">\n",
       "      <th></th>\n",
       "      <th>Date</th>\n",
       "      <th>amazon</th>\n",
       "      <th>autonomo</th>\n",
       "      <th>ayuda alquiler</th>\n",
       "      <th>badi</th>\n",
       "      <th>banco alimentos</th>\n",
       "      <th>barometro</th>\n",
       "      <th>bildu</th>\n",
       "      <th>bullying</th>\n",
       "      <th>cabify</th>\n",
       "      <th>...</th>\n",
       "      <th>taxi</th>\n",
       "      <th>teletrabajo</th>\n",
       "      <th>tinder</th>\n",
       "      <th>uber</th>\n",
       "      <th>uber eats</th>\n",
       "      <th>videoconferencia</th>\n",
       "      <th>videollamada</th>\n",
       "      <th>vox</th>\n",
       "      <th>yoga</th>\n",
       "      <th>zoom</th>\n",
       "    </tr>\n",
       "  </thead>\n",
       "  <tbody>\n",
       "    <tr>\n",
       "      <th>32</th>\n",
       "      <td>2019-01-06</td>\n",
       "      <td>59</td>\n",
       "      <td>47</td>\n",
       "      <td>38</td>\n",
       "      <td>38</td>\n",
       "      <td>5</td>\n",
       "      <td>32</td>\n",
       "      <td>3</td>\n",
       "      <td>24</td>\n",
       "      <td>20</td>\n",
       "      <td>...</td>\n",
       "      <td>42</td>\n",
       "      <td>2</td>\n",
       "      <td>56</td>\n",
       "      <td>27</td>\n",
       "      <td>10</td>\n",
       "      <td>2</td>\n",
       "      <td>2</td>\n",
       "      <td>35</td>\n",
       "      <td>50</td>\n",
       "      <td>5</td>\n",
       "    </tr>\n",
       "    <tr>\n",
       "      <th>28</th>\n",
       "      <td>2019-01-13</td>\n",
       "      <td>50</td>\n",
       "      <td>44</td>\n",
       "      <td>32</td>\n",
       "      <td>51</td>\n",
       "      <td>12</td>\n",
       "      <td>28</td>\n",
       "      <td>4</td>\n",
       "      <td>27</td>\n",
       "      <td>30</td>\n",
       "      <td>...</td>\n",
       "      <td>49</td>\n",
       "      <td>1</td>\n",
       "      <td>51</td>\n",
       "      <td>35</td>\n",
       "      <td>15</td>\n",
       "      <td>3</td>\n",
       "      <td>1</td>\n",
       "      <td>27</td>\n",
       "      <td>44</td>\n",
       "      <td>4</td>\n",
       "    </tr>\n",
       "    <tr>\n",
       "      <th>83</th>\n",
       "      <td>2019-01-20</td>\n",
       "      <td>44</td>\n",
       "      <td>41</td>\n",
       "      <td>20</td>\n",
       "      <td>38</td>\n",
       "      <td>13</td>\n",
       "      <td>31</td>\n",
       "      <td>2</td>\n",
       "      <td>25</td>\n",
       "      <td>100</td>\n",
       "      <td>...</td>\n",
       "      <td>100</td>\n",
       "      <td>2</td>\n",
       "      <td>50</td>\n",
       "      <td>100</td>\n",
       "      <td>9</td>\n",
       "      <td>3</td>\n",
       "      <td>2</td>\n",
       "      <td>16</td>\n",
       "      <td>41</td>\n",
       "      <td>3</td>\n",
       "    </tr>\n",
       "    <tr>\n",
       "      <th>7</th>\n",
       "      <td>2019-01-27</td>\n",
       "      <td>46</td>\n",
       "      <td>51</td>\n",
       "      <td>19</td>\n",
       "      <td>45</td>\n",
       "      <td>6</td>\n",
       "      <td>44</td>\n",
       "      <td>4</td>\n",
       "      <td>30</td>\n",
       "      <td>68</td>\n",
       "      <td>...</td>\n",
       "      <td>85</td>\n",
       "      <td>2</td>\n",
       "      <td>52</td>\n",
       "      <td>78</td>\n",
       "      <td>11</td>\n",
       "      <td>3</td>\n",
       "      <td>3</td>\n",
       "      <td>11</td>\n",
       "      <td>49</td>\n",
       "      <td>4</td>\n",
       "    </tr>\n",
       "    <tr>\n",
       "      <th>90</th>\n",
       "      <td>2019-02-03</td>\n",
       "      <td>48</td>\n",
       "      <td>47</td>\n",
       "      <td>21</td>\n",
       "      <td>32</td>\n",
       "      <td>7</td>\n",
       "      <td>58</td>\n",
       "      <td>5</td>\n",
       "      <td>24</td>\n",
       "      <td>45</td>\n",
       "      <td>...</td>\n",
       "      <td>67</td>\n",
       "      <td>1</td>\n",
       "      <td>50</td>\n",
       "      <td>40</td>\n",
       "      <td>11</td>\n",
       "      <td>3</td>\n",
       "      <td>2</td>\n",
       "      <td>13</td>\n",
       "      <td>48</td>\n",
       "      <td>4</td>\n",
       "    </tr>\n",
       "  </tbody>\n",
       "</table>\n",
       "<p>5 rows × 82 columns</p>\n",
       "</div>"
      ],
      "text/plain": [
       "          Date  amazon  autonomo  ayuda alquiler  badi  banco alimentos  \\\n",
       "32  2019-01-06      59        47              38    38                5   \n",
       "28  2019-01-13      50        44              32    51               12   \n",
       "83  2019-01-20      44        41              20    38               13   \n",
       "7   2019-01-27      46        51              19    45                6   \n",
       "90  2019-02-03      48        47              21    32                7   \n",
       "\n",
       "    barometro  bildu  bullying  cabify  ...  taxi  teletrabajo  tinder  uber  \\\n",
       "32         32      3        24      20  ...    42            2      56    27   \n",
       "28         28      4        27      30  ...    49            1      51    35   \n",
       "83         31      2        25     100  ...   100            2      50   100   \n",
       "7          44      4        30      68  ...    85            2      52    78   \n",
       "90         58      5        24      45  ...    67            1      50    40   \n",
       "\n",
       "    uber eats  videoconferencia  videollamada  vox  yoga  zoom  \n",
       "32         10                 2             2   35    50     5  \n",
       "28         15                 3             1   27    44     4  \n",
       "83          9                 3             2   16    41     3  \n",
       "7          11                 3             3   11    49     4  \n",
       "90         11                 3             2   13    48     4  \n",
       "\n",
       "[5 rows x 82 columns]"
      ]
     },
     "execution_count": 8,
     "metadata": {},
     "output_type": "execute_result"
    }
   ],
   "source": [
    "df_google_dates.head()"
   ]
  },
  {
   "cell_type": "code",
   "execution_count": 9,
   "metadata": {},
   "outputs": [
    {
     "name": "stdout",
     "output_type": "stream",
     "text": [
      "[5, 4, 3, 4, 4, 4, 4, 4, 3, 3] <==> [5, 4, 3, 4, 4, 4, 4, 4, 3, 3] , allright then\n"
     ]
    }
   ],
   "source": [
    "# lets check it out if it's right\n",
    "print(list(df_google_dates[\"zoom\"][:10]),\n",
    "      \"<==>\",\n",
    "      df_google[df_google[\"keyword\"]==\"zoom\"][\"trend_index\"].tolist()[:10],\n",
    "      \", allright then\"\n",
    "     )"
   ]
  },
  {
   "cell_type": "markdown",
   "metadata": {},
   "source": [
    "## Sliding \"unemployment\" column.\n",
    "\n",
    "- Now, I have to remove the first 2 rows of the keyword \"desempleo\", and supress that space with the rest of the column, so the last 2 rows will be empty "
   ]
  },
  {
   "cell_type": "code",
   "execution_count": 10,
   "metadata": {},
   "outputs": [],
   "source": [
    "# I should perform feature ingineering before doing this, to check what's really going on\n",
    "\n",
    "#desempleo_list=list(df_google_dates[\"desempleo\"])\n",
    "\n",
    "# delete first 0 positions and add empty ones at the end (not the most elegant)\n",
    "#desempleo_list.pop(0)\n",
    "#desempleo_list.pop(1)\n",
    "#desempleo_list.append(0)\n",
    "#desempleo_list.append(0)\n",
    "\n",
    "# add to the dataset\n",
    "#df_google_dates[\"desempleo\"]=desempleo_list\n",
    "\n",
    "# ok, it works\n",
    "#df_google_dates[[\"Date\",\"desempleo\"]]"
   ]
  },
  {
   "cell_type": "code",
   "execution_count": null,
   "metadata": {},
   "outputs": [],
   "source": []
  },
  {
   "cell_type": "markdown",
   "metadata": {},
   "source": [
    "# Manipulating datasets with Spanish news and sentiment.\n",
    "\n",
    "We'll need to:\n",
    "\n",
    "- Create a column for each keyword\n",
    "- Count occurrences of that keyword\n",
    "- Measure average sentiment\n",
    "- Group data by week, starting on monday, to merge with the Google dataset\n",
    "- Combine occurrences and sentiment into one column representative of both, for each keyword"
   ]
  },
  {
   "cell_type": "code",
   "execution_count": 16,
   "metadata": {},
   "outputs": [
    {
     "data": {
      "text/html": [
       "<div>\n",
       "<style scoped>\n",
       "    .dataframe tbody tr th:only-of-type {\n",
       "        vertical-align: middle;\n",
       "    }\n",
       "\n",
       "    .dataframe tbody tr th {\n",
       "        vertical-align: top;\n",
       "    }\n",
       "\n",
       "    .dataframe thead th {\n",
       "        text-align: right;\n",
       "    }\n",
       "</style>\n",
       "<table border=\"1\" class=\"dataframe\">\n",
       "  <thead>\n",
       "    <tr style=\"text-align: right;\">\n",
       "      <th></th>\n",
       "      <th>political</th>\n",
       "      <th>Date</th>\n",
       "      <th>Sentiment</th>\n",
       "    </tr>\n",
       "  </thead>\n",
       "  <tbody>\n",
       "    <tr>\n",
       "      <th>15773</th>\n",
       "      <td>juicio</td>\n",
       "      <td>2019-01-01</td>\n",
       "      <td>0.18</td>\n",
       "    </tr>\n",
       "    <tr>\n",
       "      <th>15774</th>\n",
       "      <td>juicio</td>\n",
       "      <td>2019-01-01</td>\n",
       "      <td>0.18</td>\n",
       "    </tr>\n",
       "    <tr>\n",
       "      <th>15784</th>\n",
       "      <td>juicio</td>\n",
       "      <td>2019-01-01</td>\n",
       "      <td>-6.08</td>\n",
       "    </tr>\n",
       "    <tr>\n",
       "      <th>15777</th>\n",
       "      <td>juicio</td>\n",
       "      <td>2019-01-01</td>\n",
       "      <td>-4.06</td>\n",
       "    </tr>\n",
       "    <tr>\n",
       "      <th>15778</th>\n",
       "      <td>juicio</td>\n",
       "      <td>2019-01-01</td>\n",
       "      <td>-4.06</td>\n",
       "    </tr>\n",
       "  </tbody>\n",
       "</table>\n",
       "</div>"
      ],
      "text/plain": [
       "      political        Date  Sentiment\n",
       "15773    juicio  2019-01-01       0.18\n",
       "15774    juicio  2019-01-01       0.18\n",
       "15784    juicio  2019-01-01      -6.08\n",
       "15777    juicio  2019-01-01      -4.06\n",
       "15778    juicio  2019-01-01      -4.06"
      ]
     },
     "execution_count": 16,
     "metadata": {},
     "output_type": "execute_result"
    }
   ],
   "source": [
    "# let's pplay with the 1st dataset and a random keyword, for instance\n",
    "df_political[df_political[\"political\"]==\"juicio\"].head()"
   ]
  },
  {
   "cell_type": "markdown",
   "metadata": {},
   "source": [
    "- So, I need to measure the average of sentiment of each keyword per day"
   ]
  },
  {
   "cell_type": "code",
   "execution_count": 18,
   "metadata": {},
   "outputs": [
    {
     "data": {
      "text/html": [
       "<div>\n",
       "<style scoped>\n",
       "    .dataframe tbody tr th:only-of-type {\n",
       "        vertical-align: middle;\n",
       "    }\n",
       "\n",
       "    .dataframe tbody tr th {\n",
       "        vertical-align: top;\n",
       "    }\n",
       "\n",
       "    .dataframe thead th {\n",
       "        text-align: right;\n",
       "    }\n",
       "</style>\n",
       "<table border=\"1\" class=\"dataframe\">\n",
       "  <thead>\n",
       "    <tr style=\"text-align: right;\">\n",
       "      <th></th>\n",
       "      <th>Sentiment</th>\n",
       "    </tr>\n",
       "    <tr>\n",
       "      <th>Date</th>\n",
       "      <th></th>\n",
       "    </tr>\n",
       "  </thead>\n",
       "  <tbody>\n",
       "    <tr>\n",
       "      <th>2019-01-01</th>\n",
       "      <td>-2.930000</td>\n",
       "    </tr>\n",
       "    <tr>\n",
       "      <th>2019-01-02</th>\n",
       "      <td>-3.986667</td>\n",
       "    </tr>\n",
       "    <tr>\n",
       "      <th>2019-01-03</th>\n",
       "      <td>-2.350000</td>\n",
       "    </tr>\n",
       "    <tr>\n",
       "      <th>2019-01-04</th>\n",
       "      <td>-4.822500</td>\n",
       "    </tr>\n",
       "    <tr>\n",
       "      <th>2019-01-05</th>\n",
       "      <td>-4.723333</td>\n",
       "    </tr>\n",
       "    <tr>\n",
       "      <th>...</th>\n",
       "      <td>...</td>\n",
       "    </tr>\n",
       "    <tr>\n",
       "      <th>2020-10-14</th>\n",
       "      <td>-7.511739</td>\n",
       "    </tr>\n",
       "    <tr>\n",
       "      <th>2020-10-15</th>\n",
       "      <td>-6.625128</td>\n",
       "    </tr>\n",
       "    <tr>\n",
       "      <th>2020-10-16</th>\n",
       "      <td>-8.926000</td>\n",
       "    </tr>\n",
       "    <tr>\n",
       "      <th>2020-10-17</th>\n",
       "      <td>-5.765000</td>\n",
       "    </tr>\n",
       "    <tr>\n",
       "      <th>2020-10-18</th>\n",
       "      <td>-3.388750</td>\n",
       "    </tr>\n",
       "  </tbody>\n",
       "</table>\n",
       "<p>649 rows × 1 columns</p>\n",
       "</div>"
      ],
      "text/plain": [
       "            Sentiment\n",
       "Date                 \n",
       "2019-01-01  -2.930000\n",
       "2019-01-02  -3.986667\n",
       "2019-01-03  -2.350000\n",
       "2019-01-04  -4.822500\n",
       "2019-01-05  -4.723333\n",
       "...               ...\n",
       "2020-10-14  -7.511739\n",
       "2020-10-15  -6.625128\n",
       "2020-10-16  -8.926000\n",
       "2020-10-17  -5.765000\n",
       "2020-10-18  -3.388750\n",
       "\n",
       "[649 rows x 1 columns]"
      ]
     },
     "execution_count": 18,
     "metadata": {},
     "output_type": "execute_result"
    }
   ],
   "source": [
    "df_political[df_political[\"political\"]==\"juicio\"].groupby(\"Date\").mean()"
   ]
  },
  {
   "cell_type": "markdown",
   "metadata": {},
   "source": [
    "- Also, counting occurrences of that keyword"
   ]
  },
  {
   "cell_type": "code",
   "execution_count": 12,
   "metadata": {},
   "outputs": [
    {
     "data": {
      "text/html": [
       "<div>\n",
       "<style scoped>\n",
       "    .dataframe tbody tr th:only-of-type {\n",
       "        vertical-align: middle;\n",
       "    }\n",
       "\n",
       "    .dataframe tbody tr th {\n",
       "        vertical-align: top;\n",
       "    }\n",
       "\n",
       "    .dataframe thead th {\n",
       "        text-align: right;\n",
       "    }\n",
       "</style>\n",
       "<table border=\"1\" class=\"dataframe\">\n",
       "  <thead>\n",
       "    <tr style=\"text-align: right;\">\n",
       "      <th></th>\n",
       "      <th>political</th>\n",
       "      <th>Sentiment</th>\n",
       "    </tr>\n",
       "    <tr>\n",
       "      <th>Date</th>\n",
       "      <th></th>\n",
       "      <th></th>\n",
       "    </tr>\n",
       "  </thead>\n",
       "  <tbody>\n",
       "    <tr>\n",
       "      <th>2019-01-01</th>\n",
       "      <td>14</td>\n",
       "      <td>14</td>\n",
       "    </tr>\n",
       "    <tr>\n",
       "      <th>2019-01-02</th>\n",
       "      <td>18</td>\n",
       "      <td>18</td>\n",
       "    </tr>\n",
       "    <tr>\n",
       "      <th>2019-01-03</th>\n",
       "      <td>40</td>\n",
       "      <td>40</td>\n",
       "    </tr>\n",
       "    <tr>\n",
       "      <th>2019-01-04</th>\n",
       "      <td>16</td>\n",
       "      <td>16</td>\n",
       "    </tr>\n",
       "    <tr>\n",
       "      <th>2019-01-05</th>\n",
       "      <td>60</td>\n",
       "      <td>60</td>\n",
       "    </tr>\n",
       "    <tr>\n",
       "      <th>...</th>\n",
       "      <td>...</td>\n",
       "      <td>...</td>\n",
       "    </tr>\n",
       "    <tr>\n",
       "      <th>2020-10-14</th>\n",
       "      <td>23</td>\n",
       "      <td>23</td>\n",
       "    </tr>\n",
       "    <tr>\n",
       "      <th>2020-10-15</th>\n",
       "      <td>39</td>\n",
       "      <td>39</td>\n",
       "    </tr>\n",
       "    <tr>\n",
       "      <th>2020-10-16</th>\n",
       "      <td>5</td>\n",
       "      <td>5</td>\n",
       "    </tr>\n",
       "    <tr>\n",
       "      <th>2020-10-17</th>\n",
       "      <td>10</td>\n",
       "      <td>10</td>\n",
       "    </tr>\n",
       "    <tr>\n",
       "      <th>2020-10-18</th>\n",
       "      <td>8</td>\n",
       "      <td>8</td>\n",
       "    </tr>\n",
       "  </tbody>\n",
       "</table>\n",
       "<p>649 rows × 2 columns</p>\n",
       "</div>"
      ],
      "text/plain": [
       "            political  Sentiment\n",
       "Date                            \n",
       "2019-01-01         14         14\n",
       "2019-01-02         18         18\n",
       "2019-01-03         40         40\n",
       "2019-01-04         16         16\n",
       "2019-01-05         60         60\n",
       "...               ...        ...\n",
       "2020-10-14         23         23\n",
       "2020-10-15         39         39\n",
       "2020-10-16          5          5\n",
       "2020-10-17         10         10\n",
       "2020-10-18          8          8\n",
       "\n",
       "[649 rows x 2 columns]"
      ]
     },
     "execution_count": 12,
     "metadata": {},
     "output_type": "execute_result"
    }
   ],
   "source": [
    "df_political[df_political[\"political\"]==\"juicio\"].groupby(\"Date\").count()"
   ]
  },
  {
   "cell_type": "markdown",
   "metadata": {},
   "source": [
    "- Let's use an aggregate to perform both"
   ]
  },
  {
   "cell_type": "code",
   "execution_count": 77,
   "metadata": {},
   "outputs": [
    {
     "data": {
      "text/html": [
       "<div>\n",
       "<style scoped>\n",
       "    .dataframe tbody tr th:only-of-type {\n",
       "        vertical-align: middle;\n",
       "    }\n",
       "\n",
       "    .dataframe tbody tr th {\n",
       "        vertical-align: top;\n",
       "    }\n",
       "\n",
       "    .dataframe thead th {\n",
       "        text-align: right;\n",
       "    }\n",
       "</style>\n",
       "<table border=\"1\" class=\"dataframe\">\n",
       "  <thead>\n",
       "    <tr style=\"text-align: right;\">\n",
       "      <th></th>\n",
       "      <th>count</th>\n",
       "      <th>mean</th>\n",
       "    </tr>\n",
       "    <tr>\n",
       "      <th>Date</th>\n",
       "      <th></th>\n",
       "      <th></th>\n",
       "    </tr>\n",
       "  </thead>\n",
       "  <tbody>\n",
       "    <tr>\n",
       "      <th>2019-01-01</th>\n",
       "      <td>14</td>\n",
       "      <td>-2.930000</td>\n",
       "    </tr>\n",
       "    <tr>\n",
       "      <th>2019-01-02</th>\n",
       "      <td>18</td>\n",
       "      <td>-3.986667</td>\n",
       "    </tr>\n",
       "    <tr>\n",
       "      <th>2019-01-03</th>\n",
       "      <td>40</td>\n",
       "      <td>-2.350000</td>\n",
       "    </tr>\n",
       "    <tr>\n",
       "      <th>2019-01-04</th>\n",
       "      <td>16</td>\n",
       "      <td>-4.822500</td>\n",
       "    </tr>\n",
       "    <tr>\n",
       "      <th>2019-01-05</th>\n",
       "      <td>60</td>\n",
       "      <td>-4.723333</td>\n",
       "    </tr>\n",
       "  </tbody>\n",
       "</table>\n",
       "</div>"
      ],
      "text/plain": [
       "            count      mean\n",
       "Date                       \n",
       "2019-01-01     14 -2.930000\n",
       "2019-01-02     18 -3.986667\n",
       "2019-01-03     40 -2.350000\n",
       "2019-01-04     16 -4.822500\n",
       "2019-01-05     60 -4.723333"
      ]
     },
     "execution_count": 77,
     "metadata": {},
     "output_type": "execute_result"
    }
   ],
   "source": [
    "df2=df_political[df_political[\"political\"]==\"juicio\"].groupby([\"Date\"]).agg(['count','mean'])\n",
    "# erase multiindex\n",
    "df2.columns=df2.columns.droplevel(0)\n",
    "df2.head()"
   ]
  },
  {
   "cell_type": "markdown",
   "metadata": {},
   "source": [
    "- Great, now let's resample by week, starting on Sunday, like the Google Searches dataset"
   ]
  },
  {
   "cell_type": "code",
   "execution_count": 80,
   "metadata": {},
   "outputs": [],
   "source": [
    "df2.index = pd.to_datetime(df2.index)"
   ]
  },
  {
   "cell_type": "code",
   "execution_count": 81,
   "metadata": {},
   "outputs": [],
   "source": [
    "df2 = df2.resample('W-SUN').mean() #weekly totals"
   ]
  },
  {
   "cell_type": "code",
   "execution_count": 83,
   "metadata": {},
   "outputs": [
    {
     "data": {
      "text/html": [
       "<div>\n",
       "<style scoped>\n",
       "    .dataframe tbody tr th:only-of-type {\n",
       "        vertical-align: middle;\n",
       "    }\n",
       "\n",
       "    .dataframe tbody tr th {\n",
       "        vertical-align: top;\n",
       "    }\n",
       "\n",
       "    .dataframe thead th {\n",
       "        text-align: right;\n",
       "    }\n",
       "</style>\n",
       "<table border=\"1\" class=\"dataframe\">\n",
       "  <thead>\n",
       "    <tr style=\"text-align: right;\">\n",
       "      <th></th>\n",
       "      <th>count</th>\n",
       "      <th>mean</th>\n",
       "    </tr>\n",
       "    <tr>\n",
       "      <th>Date</th>\n",
       "      <th></th>\n",
       "      <th></th>\n",
       "    </tr>\n",
       "  </thead>\n",
       "  <tbody>\n",
       "    <tr>\n",
       "      <th>2019-01-06</th>\n",
       "      <td>27.666667</td>\n",
       "      <td>-4.097824</td>\n",
       "    </tr>\n",
       "    <tr>\n",
       "      <th>2019-01-13</th>\n",
       "      <td>68.857143</td>\n",
       "      <td>-6.805291</td>\n",
       "    </tr>\n",
       "    <tr>\n",
       "      <th>2019-01-20</th>\n",
       "      <td>36.857143</td>\n",
       "      <td>-6.178493</td>\n",
       "    </tr>\n",
       "    <tr>\n",
       "      <th>2019-01-27</th>\n",
       "      <td>37.714286</td>\n",
       "      <td>-5.767773</td>\n",
       "    </tr>\n",
       "    <tr>\n",
       "      <th>2019-02-03</th>\n",
       "      <td>36.000000</td>\n",
       "      <td>-4.441655</td>\n",
       "    </tr>\n",
       "  </tbody>\n",
       "</table>\n",
       "</div>"
      ],
      "text/plain": [
       "                count      mean\n",
       "Date                           \n",
       "2019-01-06  27.666667 -4.097824\n",
       "2019-01-13  68.857143 -6.805291\n",
       "2019-01-20  36.857143 -6.178493\n",
       "2019-01-27  37.714286 -5.767773\n",
       "2019-02-03  36.000000 -4.441655"
      ]
     },
     "execution_count": 83,
     "metadata": {},
     "output_type": "execute_result"
    }
   ],
   "source": [
    "df2.head()"
   ]
  },
  {
   "cell_type": "markdown",
   "metadata": {},
   "source": [
    "- ok, now I know how to do it, then let's continue creating a function to perform this for every keyword in every Spanish news dataset"
   ]
  },
  {
   "cell_type": "code",
   "execution_count": 87,
   "metadata": {},
   "outputs": [
    {
     "ename": "SyntaxError",
     "evalue": "invalid syntax (<ipython-input-87-212acc1a1690>, line 1)",
     "output_type": "error",
     "traceback": [
      "\u001b[0;36m  File \u001b[0;32m\"<ipython-input-87-212acc1a1690>\"\u001b[0;36m, line \u001b[0;32m1\u001b[0m\n\u001b[0;31m    - I need to create an empty dataframe,\u001b[0m\n\u001b[0m           ^\u001b[0m\n\u001b[0;31mSyntaxError\u001b[0m\u001b[0;31m:\u001b[0m invalid syntax\n"
     ]
    }
   ],
   "source": [
    "- I need to create an empty dataframe, \n",
    "- loop por ,each keyword from a set of keywords\n",
    "- perform what i did before for all keywords\n",
    "- concat to the mepty dataframe\n",
    "- put all this in a function"
   ]
  },
  {
   "cell_type": "code",
   "execution_count": 86,
   "metadata": {},
   "outputs": [
    {
     "data": {
      "text/plain": [
       "'hola'"
      ]
     },
     "execution_count": 86,
     "metadata": {},
     "output_type": "execute_result"
    }
   ],
   "source": []
  },
  {
   "cell_type": "code",
   "execution_count": null,
   "metadata": {},
   "outputs": [],
   "source": []
  }
 ],
 "metadata": {
  "kernelspec": {
   "display_name": "mlsklearn",
   "language": "python",
   "name": "mlsklearn"
  },
  "language_info": {
   "codemirror_mode": {
    "name": "ipython",
    "version": 3
   },
   "file_extension": ".py",
   "mimetype": "text/x-python",
   "name": "python",
   "nbconvert_exporter": "python",
   "pygments_lexer": "ipython3",
   "version": "3.7.6"
  }
 },
 "nbformat": 4,
 "nbformat_minor": 4
}
