{
 "cells": [
  {
   "cell_type": "markdown",
   "metadata": {},
   "source": [
    "----------------------------------\n",
    "\n",
    "# PART III\n",
    "# ML regression\n",
    "\n",
    "Cacharreanding stuff\n",
    "\n",
    "\n",
    "![alt](https://i.pinimg.com/originals/8c/5c/59/8c5c5923c547867c1615402754d9eb27.gif)\n",
    "-----------------------------------\n",
    "\n",
    "*This jupyter is the explanation. The *real thing* is available in the **Cloud Function** folder. \n",
    "\n",
    "\n",
    "----------------------------------\n",
    "\n",
    "I'm going to:\n",
    "\n",
    "- Normalise the dataset before applying ML. \n",
    "- Use **RFE** (Recursive Feature Elimination) to select the best 15 columns to work with, from the 133 I have.\n",
    "- Use the fastest regression I can. Speed over performance due to Cloud Function requirements.\n",
    "- Perform cross validation. Unfortunately I have no enough data for train/validation/test\n",
    "- Once my model is trained, infer data in the whole dataset, to have a dashboard comparing *real keyword* vs *infered keyword*.\n",
    "\n",
    "Let's have fun :D"
   ]
  },
  {
   "cell_type": "code",
   "execution_count": 1,
   "metadata": {},
   "outputs": [],
   "source": [
    "import pandas as pd\n",
    "import numpy as np\n",
    "from sklearn import preprocessing\n",
    "from sklearn.decomposition import PCA as pca\n",
    "from scipy import stats\n",
    "from sklearn.covariance import EllipticEnvelope\n",
    "import matplotlib.pyplot as plt\n",
    "import matplotlib.font_manager\n",
    "\n",
    "from sklearn.feature_selection import RFECV\n",
    "from sklearn.linear_model import LinearRegression\n",
    "from sklearn.linear_model import Lasso"
   ]
  },
  {
   "cell_type": "code",
   "execution_count": 2,
   "metadata": {},
   "outputs": [],
   "source": [
    "df=pd.read_csv(\"input/dataset_final_processed.csv\",index_col=[0])"
   ]
  },
  {
   "cell_type": "code",
   "execution_count": 3,
   "metadata": {},
   "outputs": [
    {
     "data": {
      "text/html": [
       "<div>\n",
       "<style scoped>\n",
       "    .dataframe tbody tr th:only-of-type {\n",
       "        vertical-align: middle;\n",
       "    }\n",
       "\n",
       "    .dataframe tbody tr th {\n",
       "        vertical-align: top;\n",
       "    }\n",
       "\n",
       "    .dataframe thead th {\n",
       "        text-align: right;\n",
       "    }\n",
       "</style>\n",
       "<table border=\"1\" class=\"dataframe\">\n",
       "  <thead>\n",
       "    <tr style=\"text-align: right;\">\n",
       "      <th></th>\n",
       "      <th>Unnamed: 0.1</th>\n",
       "      <th>date</th>\n",
       "      <th>seguridad_nacional</th>\n",
       "      <th>rebelion</th>\n",
       "      <th>extremismo</th>\n",
       "      <th>vigilancia</th>\n",
       "      <th>ejercito</th>\n",
       "      <th>corrupcion_1</th>\n",
       "      <th>precio_petroleo_1</th>\n",
       "      <th>terrorismo</th>\n",
       "      <th>...</th>\n",
       "      <th>tinder</th>\n",
       "      <th>uber</th>\n",
       "      <th>uber eats</th>\n",
       "      <th>videoconferencia</th>\n",
       "      <th>videollamada</th>\n",
       "      <th>vox</th>\n",
       "      <th>yoga</th>\n",
       "      <th>zoom</th>\n",
       "      <th>unemployment</th>\n",
       "      <th>outliers_score</th>\n",
       "    </tr>\n",
       "  </thead>\n",
       "  <tbody>\n",
       "    <tr>\n",
       "      <th>0</th>\n",
       "      <td>0.0</td>\n",
       "      <td>2019-02-03</td>\n",
       "      <td>-30.555000</td>\n",
       "      <td>-21.453333</td>\n",
       "      <td>-29.993333</td>\n",
       "      <td>-31.525000</td>\n",
       "      <td>-20.473333</td>\n",
       "      <td>-92.164000</td>\n",
       "      <td>0.00</td>\n",
       "      <td>-82.140000</td>\n",
       "      <td>...</td>\n",
       "      <td>57.0</td>\n",
       "      <td>27.0</td>\n",
       "      <td>12.0</td>\n",
       "      <td>2.0</td>\n",
       "      <td>2.0</td>\n",
       "      <td>34.0</td>\n",
       "      <td>47.0</td>\n",
       "      <td>5.0</td>\n",
       "      <td>18.0</td>\n",
       "      <td>9.950118</td>\n",
       "    </tr>\n",
       "    <tr>\n",
       "      <th>1</th>\n",
       "      <td>1.0</td>\n",
       "      <td>2019-02-10</td>\n",
       "      <td>-5.313333</td>\n",
       "      <td>-17.413333</td>\n",
       "      <td>-2.260000</td>\n",
       "      <td>-67.150000</td>\n",
       "      <td>-31.360000</td>\n",
       "      <td>-168.828571</td>\n",
       "      <td>0.00</td>\n",
       "      <td>-11.586667</td>\n",
       "      <td>...</td>\n",
       "      <td>45.0</td>\n",
       "      <td>39.0</td>\n",
       "      <td>9.0</td>\n",
       "      <td>4.0</td>\n",
       "      <td>1.0</td>\n",
       "      <td>27.0</td>\n",
       "      <td>44.0</td>\n",
       "      <td>4.0</td>\n",
       "      <td>22.0</td>\n",
       "      <td>4.411646</td>\n",
       "    </tr>\n",
       "    <tr>\n",
       "      <th>2</th>\n",
       "      <td>2.0</td>\n",
       "      <td>2019-02-17</td>\n",
       "      <td>-3.220000</td>\n",
       "      <td>-26.305000</td>\n",
       "      <td>-5.644000</td>\n",
       "      <td>-49.556000</td>\n",
       "      <td>-23.700000</td>\n",
       "      <td>-106.468571</td>\n",
       "      <td>3.72</td>\n",
       "      <td>-145.260000</td>\n",
       "      <td>...</td>\n",
       "      <td>44.0</td>\n",
       "      <td>100.0</td>\n",
       "      <td>14.0</td>\n",
       "      <td>3.0</td>\n",
       "      <td>2.0</td>\n",
       "      <td>15.0</td>\n",
       "      <td>46.0</td>\n",
       "      <td>3.0</td>\n",
       "      <td>20.0</td>\n",
       "      <td>8.621001</td>\n",
       "    </tr>\n",
       "    <tr>\n",
       "      <th>3</th>\n",
       "      <td>3.0</td>\n",
       "      <td>2019-02-24</td>\n",
       "      <td>-16.080000</td>\n",
       "      <td>-26.570000</td>\n",
       "      <td>-4.226667</td>\n",
       "      <td>-14.530000</td>\n",
       "      <td>-25.508571</td>\n",
       "      <td>-106.342857</td>\n",
       "      <td>0.00</td>\n",
       "      <td>-34.084000</td>\n",
       "      <td>...</td>\n",
       "      <td>45.0</td>\n",
       "      <td>83.0</td>\n",
       "      <td>10.0</td>\n",
       "      <td>3.0</td>\n",
       "      <td>2.0</td>\n",
       "      <td>11.0</td>\n",
       "      <td>50.0</td>\n",
       "      <td>4.0</td>\n",
       "      <td>21.0</td>\n",
       "      <td>8.996224</td>\n",
       "    </tr>\n",
       "    <tr>\n",
       "      <th>4</th>\n",
       "      <td>4.0</td>\n",
       "      <td>2019-03-03</td>\n",
       "      <td>-1.480000</td>\n",
       "      <td>-28.106667</td>\n",
       "      <td>0.000000</td>\n",
       "      <td>-21.495000</td>\n",
       "      <td>-6.876667</td>\n",
       "      <td>-112.497143</td>\n",
       "      <td>0.00</td>\n",
       "      <td>-24.512000</td>\n",
       "      <td>...</td>\n",
       "      <td>56.0</td>\n",
       "      <td>37.0</td>\n",
       "      <td>10.0</td>\n",
       "      <td>3.0</td>\n",
       "      <td>2.0</td>\n",
       "      <td>13.0</td>\n",
       "      <td>51.0</td>\n",
       "      <td>3.0</td>\n",
       "      <td>23.0</td>\n",
       "      <td>9.845977</td>\n",
       "    </tr>\n",
       "    <tr>\n",
       "      <th>...</th>\n",
       "      <td>...</td>\n",
       "      <td>...</td>\n",
       "      <td>...</td>\n",
       "      <td>...</td>\n",
       "      <td>...</td>\n",
       "      <td>...</td>\n",
       "      <td>...</td>\n",
       "      <td>...</td>\n",
       "      <td>...</td>\n",
       "      <td>...</td>\n",
       "      <td>...</td>\n",
       "      <td>...</td>\n",
       "      <td>...</td>\n",
       "      <td>...</td>\n",
       "      <td>...</td>\n",
       "      <td>...</td>\n",
       "      <td>...</td>\n",
       "      <td>...</td>\n",
       "      <td>...</td>\n",
       "      <td>...</td>\n",
       "      <td>...</td>\n",
       "    </tr>\n",
       "    <tr>\n",
       "      <th>98</th>\n",
       "      <td>98.0</td>\n",
       "      <td>2020-12-20</td>\n",
       "      <td>-1.505714</td>\n",
       "      <td>-5.103333</td>\n",
       "      <td>0.000000</td>\n",
       "      <td>-4.705000</td>\n",
       "      <td>-15.242000</td>\n",
       "      <td>-25.255714</td>\n",
       "      <td>0.00</td>\n",
       "      <td>-4.060000</td>\n",
       "      <td>...</td>\n",
       "      <td>66.0</td>\n",
       "      <td>49.0</td>\n",
       "      <td>89.0</td>\n",
       "      <td>10.0</td>\n",
       "      <td>7.0</td>\n",
       "      <td>7.0</td>\n",
       "      <td>42.0</td>\n",
       "      <td>20.0</td>\n",
       "      <td>0.0</td>\n",
       "      <td>8.578002</td>\n",
       "    </tr>\n",
       "    <tr>\n",
       "      <th>99</th>\n",
       "      <td>99.0</td>\n",
       "      <td>2020-12-27</td>\n",
       "      <td>-6.328000</td>\n",
       "      <td>-2.236667</td>\n",
       "      <td>0.000000</td>\n",
       "      <td>-9.928571</td>\n",
       "      <td>-20.334286</td>\n",
       "      <td>-43.687143</td>\n",
       "      <td>0.00</td>\n",
       "      <td>-15.684000</td>\n",
       "      <td>...</td>\n",
       "      <td>76.0</td>\n",
       "      <td>37.0</td>\n",
       "      <td>81.0</td>\n",
       "      <td>7.0</td>\n",
       "      <td>7.0</td>\n",
       "      <td>7.0</td>\n",
       "      <td>34.0</td>\n",
       "      <td>18.0</td>\n",
       "      <td>0.0</td>\n",
       "      <td>9.321953</td>\n",
       "    </tr>\n",
       "    <tr>\n",
       "      <th>100</th>\n",
       "      <td>100.0</td>\n",
       "      <td>2021-01-03</td>\n",
       "      <td>-5.020000</td>\n",
       "      <td>-22.630000</td>\n",
       "      <td>0.000000</td>\n",
       "      <td>-7.828333</td>\n",
       "      <td>-12.138571</td>\n",
       "      <td>-60.852857</td>\n",
       "      <td>0.00</td>\n",
       "      <td>-12.983333</td>\n",
       "      <td>...</td>\n",
       "      <td>98.0</td>\n",
       "      <td>48.0</td>\n",
       "      <td>82.0</td>\n",
       "      <td>10.0</td>\n",
       "      <td>8.0</td>\n",
       "      <td>7.0</td>\n",
       "      <td>39.0</td>\n",
       "      <td>16.0</td>\n",
       "      <td>0.0</td>\n",
       "      <td>9.359128</td>\n",
       "    </tr>\n",
       "    <tr>\n",
       "      <th>101</th>\n",
       "      <td>101.0</td>\n",
       "      <td>2021-01-10</td>\n",
       "      <td>-2.935000</td>\n",
       "      <td>-2.640000</td>\n",
       "      <td>-7.670000</td>\n",
       "      <td>-6.966667</td>\n",
       "      <td>-11.297143</td>\n",
       "      <td>-19.585714</td>\n",
       "      <td>-2.64</td>\n",
       "      <td>-6.036667</td>\n",
       "      <td>...</td>\n",
       "      <td>79.0</td>\n",
       "      <td>35.0</td>\n",
       "      <td>57.0</td>\n",
       "      <td>9.0</td>\n",
       "      <td>9.0</td>\n",
       "      <td>6.0</td>\n",
       "      <td>39.0</td>\n",
       "      <td>18.0</td>\n",
       "      <td>0.0</td>\n",
       "      <td>8.990425</td>\n",
       "    </tr>\n",
       "    <tr>\n",
       "      <th>102</th>\n",
       "      <td>102.0</td>\n",
       "      <td>2021-01-17</td>\n",
       "      <td>-1.913333</td>\n",
       "      <td>-1.535000</td>\n",
       "      <td>2.120000</td>\n",
       "      <td>-4.851667</td>\n",
       "      <td>-23.021429</td>\n",
       "      <td>-46.031429</td>\n",
       "      <td>0.00</td>\n",
       "      <td>-9.918000</td>\n",
       "      <td>...</td>\n",
       "      <td>0.0</td>\n",
       "      <td>0.0</td>\n",
       "      <td>0.0</td>\n",
       "      <td>0.0</td>\n",
       "      <td>0.0</td>\n",
       "      <td>0.0</td>\n",
       "      <td>0.0</td>\n",
       "      <td>0.0</td>\n",
       "      <td>0.0</td>\n",
       "      <td>9.292982</td>\n",
       "    </tr>\n",
       "  </tbody>\n",
       "</table>\n",
       "<p>87 rows × 122 columns</p>\n",
       "</div>"
      ],
      "text/plain": [
       "     Unnamed: 0.1        date  seguridad_nacional   rebelion  extremismo  \\\n",
       "0             0.0  2019-02-03          -30.555000 -21.453333  -29.993333   \n",
       "1             1.0  2019-02-10           -5.313333 -17.413333   -2.260000   \n",
       "2             2.0  2019-02-17           -3.220000 -26.305000   -5.644000   \n",
       "3             3.0  2019-02-24          -16.080000 -26.570000   -4.226667   \n",
       "4             4.0  2019-03-03           -1.480000 -28.106667    0.000000   \n",
       "..            ...         ...                 ...        ...         ...   \n",
       "98           98.0  2020-12-20           -1.505714  -5.103333    0.000000   \n",
       "99           99.0  2020-12-27           -6.328000  -2.236667    0.000000   \n",
       "100         100.0  2021-01-03           -5.020000 -22.630000    0.000000   \n",
       "101         101.0  2021-01-10           -2.935000  -2.640000   -7.670000   \n",
       "102         102.0  2021-01-17           -1.913333  -1.535000    2.120000   \n",
       "\n",
       "     vigilancia   ejercito  corrupcion_1  precio_petroleo_1  terrorismo  ...  \\\n",
       "0    -31.525000 -20.473333    -92.164000               0.00  -82.140000  ...   \n",
       "1    -67.150000 -31.360000   -168.828571               0.00  -11.586667  ...   \n",
       "2    -49.556000 -23.700000   -106.468571               3.72 -145.260000  ...   \n",
       "3    -14.530000 -25.508571   -106.342857               0.00  -34.084000  ...   \n",
       "4    -21.495000  -6.876667   -112.497143               0.00  -24.512000  ...   \n",
       "..          ...        ...           ...                ...         ...  ...   \n",
       "98    -4.705000 -15.242000    -25.255714               0.00   -4.060000  ...   \n",
       "99    -9.928571 -20.334286    -43.687143               0.00  -15.684000  ...   \n",
       "100   -7.828333 -12.138571    -60.852857               0.00  -12.983333  ...   \n",
       "101   -6.966667 -11.297143    -19.585714              -2.64   -6.036667  ...   \n",
       "102   -4.851667 -23.021429    -46.031429               0.00   -9.918000  ...   \n",
       "\n",
       "     tinder   uber  uber eats  videoconferencia  videollamada   vox  yoga  \\\n",
       "0      57.0   27.0       12.0               2.0           2.0  34.0  47.0   \n",
       "1      45.0   39.0        9.0               4.0           1.0  27.0  44.0   \n",
       "2      44.0  100.0       14.0               3.0           2.0  15.0  46.0   \n",
       "3      45.0   83.0       10.0               3.0           2.0  11.0  50.0   \n",
       "4      56.0   37.0       10.0               3.0           2.0  13.0  51.0   \n",
       "..      ...    ...        ...               ...           ...   ...   ...   \n",
       "98     66.0   49.0       89.0              10.0           7.0   7.0  42.0   \n",
       "99     76.0   37.0       81.0               7.0           7.0   7.0  34.0   \n",
       "100    98.0   48.0       82.0              10.0           8.0   7.0  39.0   \n",
       "101    79.0   35.0       57.0               9.0           9.0   6.0  39.0   \n",
       "102     0.0    0.0        0.0               0.0           0.0   0.0   0.0   \n",
       "\n",
       "     zoom  unemployment  outliers_score  \n",
       "0     5.0          18.0        9.950118  \n",
       "1     4.0          22.0        4.411646  \n",
       "2     3.0          20.0        8.621001  \n",
       "3     4.0          21.0        8.996224  \n",
       "4     3.0          23.0        9.845977  \n",
       "..    ...           ...             ...  \n",
       "98   20.0           0.0        8.578002  \n",
       "99   18.0           0.0        9.321953  \n",
       "100  16.0           0.0        9.359128  \n",
       "101  18.0           0.0        8.990425  \n",
       "102   0.0           0.0        9.292982  \n",
       "\n",
       "[87 rows x 122 columns]"
      ]
     },
     "execution_count": 3,
     "metadata": {},
     "output_type": "execute_result"
    }
   ],
   "source": [
    "df"
   ]
  },
  {
   "cell_type": "markdown",
   "metadata": {},
   "source": [
    "### First attributes selection: Erasing low variance elements\n",
    "\n",
    "Let's remove the attibutes (columns) which values are quite constant in the whole dataset, so they're not offering much information when everything else is changing."
   ]
  },
  {
   "cell_type": "code",
   "execution_count": 4,
   "metadata": {},
   "outputs": [],
   "source": [
    "from sklearn.feature_selection import VarianceThreshold\n",
    "def variance_threshold_selector(data, threshold):\n",
    "    '''\n",
    "    It removes any attribute (column) than vary less than the percentaje of the threshold\n",
    "    '''\n",
    "    selector = VarianceThreshold(threshold)\n",
    "    selector.fit(data)\n",
    "    return data[data.columns[selector.get_support(indices=True)]]"
   ]
  },
  {
   "cell_type": "code",
   "execution_count": 5,
   "metadata": {},
   "outputs": [],
   "source": [
    "low_v = df.drop(columns=[\"date\",\"unemployment\",\"outliers_score\" ])"
   ]
  },
  {
   "cell_type": "code",
   "execution_count": 6,
   "metadata": {},
   "outputs": [
    {
     "name": "stdout",
     "output_type": "stream",
     "text": [
      "attributes before (87, 119) attributes now (87, 110)\n"
     ]
    }
   ],
   "source": [
    "X_raw= variance_threshold_selector(low_v, 5) # removing values than vary less than 5%\n",
    "print(\"attributes before\", low_v.shape,\"attributes now\", X_raw.shape)"
   ]
  },
  {
   "cell_type": "code",
   "execution_count": 7,
   "metadata": {},
   "outputs": [
    {
     "name": "stdout",
     "output_type": "stream",
     "text": [
      "removed features:  \n",
      "\n"
     ]
    },
    {
     "data": {
      "text/html": [
       "<div>\n",
       "<style scoped>\n",
       "    .dataframe tbody tr th:only-of-type {\n",
       "        vertical-align: middle;\n",
       "    }\n",
       "\n",
       "    .dataframe tbody tr th {\n",
       "        vertical-align: top;\n",
       "    }\n",
       "\n",
       "    .dataframe thead th {\n",
       "        text-align: right;\n",
       "    }\n",
       "</style>\n",
       "<table border=\"1\" class=\"dataframe\">\n",
       "  <thead>\n",
       "    <tr style=\"text-align: right;\">\n",
       "      <th></th>\n",
       "      <th>Removed_columns</th>\n",
       "    </tr>\n",
       "  </thead>\n",
       "  <tbody>\n",
       "    <tr>\n",
       "      <th>0</th>\n",
       "      <td>precio_petroleo_1</td>\n",
       "    </tr>\n",
       "    <tr>\n",
       "      <th>1</th>\n",
       "      <td>prosperidad_economica_y_finanzas</td>\n",
       "    </tr>\n",
       "    <tr>\n",
       "      <th>2</th>\n",
       "      <td>banco_mundial</td>\n",
       "    </tr>\n",
       "    <tr>\n",
       "      <th>3</th>\n",
       "      <td>inflacion_economica</td>\n",
       "    </tr>\n",
       "    <tr>\n",
       "      <th>4</th>\n",
       "      <td>precio_petroleo_2</td>\n",
       "    </tr>\n",
       "    <tr>\n",
       "      <th>5</th>\n",
       "      <td>subsidios</td>\n",
       "    </tr>\n",
       "    <tr>\n",
       "      <th>6</th>\n",
       "      <td>censura_en_medios</td>\n",
       "    </tr>\n",
       "    <tr>\n",
       "      <th>7</th>\n",
       "      <td>desescalada</td>\n",
       "    </tr>\n",
       "    <tr>\n",
       "      <th>8</th>\n",
       "      <td>hacer deporte</td>\n",
       "    </tr>\n",
       "  </tbody>\n",
       "</table>\n",
       "</div>"
      ],
      "text/plain": [
       "                    Removed_columns\n",
       "0                 precio_petroleo_1\n",
       "1  prosperidad_economica_y_finanzas\n",
       "2                     banco_mundial\n",
       "3               inflacion_economica\n",
       "4                 precio_petroleo_2\n",
       "5                         subsidios\n",
       "6                 censura_en_medios\n",
       "7                       desescalada\n",
       "8                     hacer deporte"
      ]
     },
     "execution_count": 7,
     "metadata": {},
     "output_type": "execute_result"
    }
   ],
   "source": [
    "print(\"removed features: \",\"\\n\")\n",
    "removed=[]\n",
    "for c in low_v.columns:\n",
    "    if c not in X_raw.columns:\n",
    "        #print(c)\n",
    "        removed.append(c)\n",
    "removed=pd.DataFrame(removed, columns =[\"Removed_columns\"])\n",
    "\n",
    "removed.to_csv(\"./input/removed_features.csv\")   #<==========================\n",
    "\n",
    "removed"
   ]
  },
  {
   "cell_type": "markdown",
   "metadata": {},
   "source": [
    "### Normalization / Standarization\n",
    "\n",
    "Standardizing the features around the center and 0 with a standard deviation of 1 is important when we compare measurements that have different units. Variables that are measured at different scales do not contribute equally to the analysis and might end up creating a bais.\n",
    "\n",
    "In other hand, Normalization is useful when your data has varying scales and the algorithm you are using does not make assumptions about the distribution of your data"
   ]
  },
  {
   "cell_type": "code",
   "execution_count": 8,
   "metadata": {},
   "outputs": [
    {
     "name": "stdout",
     "output_type": "stream",
     "text": [
      "X shape:  (87, 110) , target shape:  (87,)\n"
     ]
    },
    {
     "data": {
      "text/html": [
       "<div>\n",
       "<style scoped>\n",
       "    .dataframe tbody tr th:only-of-type {\n",
       "        vertical-align: middle;\n",
       "    }\n",
       "\n",
       "    .dataframe tbody tr th {\n",
       "        vertical-align: top;\n",
       "    }\n",
       "\n",
       "    .dataframe thead th {\n",
       "        text-align: right;\n",
       "    }\n",
       "</style>\n",
       "<table border=\"1\" class=\"dataframe\">\n",
       "  <thead>\n",
       "    <tr style=\"text-align: right;\">\n",
       "      <th></th>\n",
       "      <th>Unnamed: 0.1</th>\n",
       "      <th>seguridad_nacional</th>\n",
       "      <th>rebelion</th>\n",
       "      <th>extremismo</th>\n",
       "      <th>vigilancia</th>\n",
       "      <th>ejercito</th>\n",
       "      <th>corrupcion_1</th>\n",
       "      <th>terrorismo</th>\n",
       "      <th>protestas</th>\n",
       "      <th>refugiados_1</th>\n",
       "      <th>...</th>\n",
       "      <th>taxi</th>\n",
       "      <th>teletrabajo</th>\n",
       "      <th>tinder</th>\n",
       "      <th>uber</th>\n",
       "      <th>uber eats</th>\n",
       "      <th>videoconferencia</th>\n",
       "      <th>videollamada</th>\n",
       "      <th>vox</th>\n",
       "      <th>yoga</th>\n",
       "      <th>zoom</th>\n",
       "    </tr>\n",
       "  </thead>\n",
       "  <tbody>\n",
       "    <tr>\n",
       "      <th>0</th>\n",
       "      <td>-1.543943</td>\n",
       "      <td>-2.550391</td>\n",
       "      <td>-0.639723</td>\n",
       "      <td>-1.895045</td>\n",
       "      <td>-0.965798</td>\n",
       "      <td>0.159519</td>\n",
       "      <td>-0.055209</td>\n",
       "      <td>-2.646064</td>\n",
       "      <td>1.038574</td>\n",
       "      <td>-0.005928</td>\n",
       "      <td>...</td>\n",
       "      <td>-0.323538</td>\n",
       "      <td>-0.547256</td>\n",
       "      <td>-0.628623</td>\n",
       "      <td>-1.333502</td>\n",
       "      <td>-1.197421</td>\n",
       "      <td>-0.632099</td>\n",
       "      <td>-0.629010</td>\n",
       "      <td>1.113039</td>\n",
       "      <td>0.641936</td>\n",
       "      <td>-0.480822</td>\n",
       "    </tr>\n",
       "    <tr>\n",
       "      <th>1</th>\n",
       "      <td>-1.512052</td>\n",
       "      <td>0.165614</td>\n",
       "      <td>-0.305361</td>\n",
       "      <td>0.319929</td>\n",
       "      <td>-3.507923</td>\n",
       "      <td>-0.374487</td>\n",
       "      <td>-1.595637</td>\n",
       "      <td>0.468455</td>\n",
       "      <td>0.061694</td>\n",
       "      <td>-0.739888</td>\n",
       "      <td>...</td>\n",
       "      <td>0.093908</td>\n",
       "      <td>-0.547256</td>\n",
       "      <td>-1.345089</td>\n",
       "      <td>-0.284387</td>\n",
       "      <td>-1.320414</td>\n",
       "      <td>-0.272670</td>\n",
       "      <td>-1.028454</td>\n",
       "      <td>0.674023</td>\n",
       "      <td>0.177822</td>\n",
       "      <td>-0.623591</td>\n",
       "    </tr>\n",
       "  </tbody>\n",
       "</table>\n",
       "<p>2 rows × 110 columns</p>\n",
       "</div>"
      ],
      "text/plain": [
       "   Unnamed: 0.1  seguridad_nacional  rebelion  extremismo  vigilancia  \\\n",
       "0     -1.543943           -2.550391 -0.639723   -1.895045   -0.965798   \n",
       "1     -1.512052            0.165614 -0.305361    0.319929   -3.507923   \n",
       "\n",
       "   ejercito  corrupcion_1  terrorismo  protestas  refugiados_1  ...      taxi  \\\n",
       "0  0.159519     -0.055209   -2.646064   1.038574     -0.005928  ... -0.323538   \n",
       "1 -0.374487     -1.595637    0.468455   0.061694     -0.739888  ...  0.093908   \n",
       "\n",
       "   teletrabajo    tinder      uber  uber eats  videoconferencia  videollamada  \\\n",
       "0    -0.547256 -0.628623 -1.333502  -1.197421         -0.632099     -0.629010   \n",
       "1    -0.547256 -1.345089 -0.284387  -1.320414         -0.272670     -1.028454   \n",
       "\n",
       "        vox      yoga      zoom  \n",
       "0  1.113039  0.641936 -0.480822  \n",
       "1  0.674023  0.177822 -0.623591  \n",
       "\n",
       "[2 rows x 110 columns]"
      ]
     },
     "execution_count": 8,
     "metadata": {},
     "output_type": "execute_result"
    }
   ],
   "source": [
    "# Normalizacion with sklearn\n",
    "# remove dates and target\n",
    "#X_raw = df.drop(columns=[\"date\",\"unemployment\",\"outliers_score\" ]) #already removed in low_v\n",
    "\n",
    "#normalizer = preprocessing.MinMaxScaler()\n",
    "#X = pd.DataFrame(normalizer.fit_transform(X_raw))\n",
    "\n",
    "standardizer = preprocessing.StandardScaler()\n",
    "X = pd.DataFrame(standardizer.fit_transform(X_raw))\n",
    "\n",
    "X.columns= X_raw.columns\n",
    "X.shape\n",
    "target=df[\"unemployment\"]\n",
    "print(\"X shape: \", X.shape, \", target shape: \", target.shape)\n",
    "X.head(2)"
   ]
  },
  {
   "cell_type": "markdown",
   "metadata": {},
   "source": [
    "# RFE"
   ]
  },
  {
   "cell_type": "code",
   "execution_count": 9,
   "metadata": {},
   "outputs": [],
   "source": [
    "# all but last 4 rows\n",
    "X_train=X.iloc[:-4]\n",
    "target_train=target.iloc[:-4]\n",
    "\n",
    "# last 4 rows, which are the ones I have no data and I want to infer\n",
    "X_test=X.iloc[-4:]\n",
    "target_test=target.iloc[-4:]"
   ]
  },
  {
   "cell_type": "code",
   "execution_count": 10,
   "metadata": {},
   "outputs": [
    {
     "name": "stdout",
     "output_type": "stream",
     "text": [
      "(83, 110) (83,)\n"
     ]
    }
   ],
   "source": [
    "print(X_train.shape, target_train.shape)"
   ]
  },
  {
   "cell_type": "code",
   "execution_count": 11,
   "metadata": {},
   "outputs": [],
   "source": [
    "from sklearn.model_selection import KFold\n",
    "from sklearn.model_selection import StratifiedKFold\n",
    "from sklearn.linear_model import LinearRegression\n",
    "from sklearn.linear_model import Lasso\n",
    "from sklearn.model_selection import cross_val_score\n",
    "from sklearn.tree import DecisionTreeRegressor\n",
    "from sklearn.ensemble import RandomForestRegressor"
   ]
  },
  {
   "cell_type": "code",
   "execution_count": 12,
   "metadata": {},
   "outputs": [],
   "source": [
    "from datetime import datetime\n",
    "#date\n",
    "today=datetime.now().date()"
   ]
  },
  {
   "cell_type": "code",
   "execution_count": 13,
   "metadata": {},
   "outputs": [],
   "source": [
    "# Minimal number of features to play with\n",
    "min_number_features =  df.shape[0]//10"
   ]
  },
  {
   "cell_type": "code",
   "execution_count": 45,
   "metadata": {},
   "outputs": [
    {
     "data": {
      "text/plain": [
       "0.8484955273607"
      ]
     },
     "execution_count": 45,
     "metadata": {},
     "output_type": "execute_result"
    }
   ],
   "source": [
    "regression = Lasso(alpha=0.1,\n",
    "                  selection=\"random\",\n",
    "                  max_iter=10000,\n",
    "                  random_state=42)\n",
    "\n",
    "random_number=42\n",
    "for _ in list(range(8)):                       \n",
    "    rfecv = RFECV(estimator=regression,\n",
    "                step=1, \n",
    "                  min_features_to_select=min_number_features, \n",
    "                  cv=KFold(n_splits=10,\n",
    "                        shuffle=True,\n",
    "                        random_state=random_number),\n",
    "                  scoring='neg_mean_squared_error')\n",
    "                       \n",
    "    rfecv.fit(X_train, target_train)\n",
    "    score = rfecv.score(X_train, target_train)\n",
    "    random_number+=1\n",
    "    if score<0.99:\n",
    "        break\n",
    "score"
   ]
  },
  {
   "cell_type": "code",
   "execution_count": null,
   "metadata": {},
   "outputs": [],
   "source": [
    "############## hey standard deviation dude\""
   ]
  },
  {
   "cell_type": "code",
   "execution_count": 102,
   "metadata": {},
   "outputs": [],
   "source": [
    "def scientific_rounding(value):\n",
    "    '''\n",
    "    This function rounds decimals according to the scientific notation (kind of)\n",
    "    '''\n",
    "    number= str(value[1])\n",
    "    number= number.split(\".\")\n",
    "    d=0\n",
    "    #print(list(range(len(number[1])+1)), number[1])\n",
    "    for e in list(range(len(number[1]))):\n",
    "        if number[1][e]==\"0\":\n",
    "            d+=1\n",
    "        else:\n",
    "            break\n",
    "    if d!=0:\n",
    "        value[1]=round(value[1],d+1)\n",
    "        value[0]=round(value[0],d+1)\n",
    "    else:   # else means we'll have numbers without left zeroes that we shouldn't round to 1.\n",
    "        value[1]=round(value[1],3)\n",
    "        value[0]=round(value[0],3)\n",
    "    return str(value[0])+\"+-\"+str(value[1])"
   ]
  },
  {
   "cell_type": "code",
   "execution_count": 103,
   "metadata": {},
   "outputs": [
    {
     "data": {
      "text/plain": [
       "'0.841+-0.449'"
      ]
     },
     "execution_count": 103,
     "metadata": {},
     "output_type": "execute_result"
    }
   ],
   "source": [
    "rmse = cross_val_score(regression, X_train, target_train, cv = KFold(n_splits=10), scoring=\"neg_root_mean_squared_error\")\n",
    "norm_rmse= [-rmse.mean()/mean,rmse.std()/mean]\n",
    "norm_rmse = scientific_rounding(norm_rmse)\n",
    "norm_rmse"
   ]
  },
  {
   "cell_type": "code",
   "execution_count": 107,
   "metadata": {},
   "outputs": [
    {
     "data": {
      "text/plain": [
       "'0.798+-0.726'"
      ]
     },
     "execution_count": 107,
     "metadata": {},
     "output_type": "execute_result"
    }
   ],
   "source": [
    "explained_variance=cross_val_score(regression, X_train, target_train, cv = KFold(n_splits=10), scoring=\"explained_variance\")\n",
    "explained_variance= [-explained_variance.mean()/mean,explained_variance.std()/mean]\n",
    "explained_variance= scientific_rounding(explained_variance)\n",
    "explained_variance"
   ]
  },
  {
   "cell_type": "code",
   "execution_count": 109,
   "metadata": {},
   "outputs": [
    {
     "data": {
      "text/plain": [
       "'1.816+-1.158'"
      ]
     },
     "execution_count": 109,
     "metadata": {},
     "output_type": "execute_result"
    }
   ],
   "source": [
    "max_error=cross_val_score(regression, X_train, target_train, cv = KFold(n_splits=10), scoring=\"max_error\")\n",
    "max_error= [-max_error.mean()/mean,max_error.std()/mean]\n",
    "max_error= scientific_rounding(max_error)\n",
    "max_error"
   ]
  },
  {
   "cell_type": "code",
   "execution_count": 113,
   "metadata": {},
   "outputs": [
    {
     "data": {
      "text/plain": [
       "'0.596+-0.255'"
      ]
     },
     "execution_count": 113,
     "metadata": {},
     "output_type": "execute_result"
    }
   ],
   "source": [
    "mae=cross_val_score(regression, X_train, target_train, cv = KFold(n_splits=10), scoring=\"neg_mean_absolute_error\")\n",
    "mae= [-mae.mean()/mean,mae.std()/mean]\n",
    "mae= scientific_rounding(mae)\n",
    "mae"
   ]
  },
  {
   "cell_type": "code",
   "execution_count": 134,
   "metadata": {},
   "outputs": [
    {
     "data": {
      "text/plain": [
       "'570.501+-643.577'"
      ]
     },
     "execution_count": 134,
     "metadata": {},
     "output_type": "execute_result"
    }
   ],
   "source": [
    "mse=cross_val_score(regression, X_train, target_train, cv = KFold(n_splits=10), scoring=\"neg_mean_squared_error\")\n",
    "mse= [-mse.mean(),mse.std()]\n",
    "mse= scientific_rounding(mse)\n",
    "mse\n"
   ]
  },
  {
   "cell_type": "code",
   "execution_count": 118,
   "metadata": {},
   "outputs": [
    {
     "data": {
      "text/plain": [
       "'neg_mean_squared_log_error=cross_val_score(regression, X_train, target_train, cv = KFold(n_splits=10), scoring=\"neg_mean_squared_log_error\")\\nneg_mean_squared_log_error= [-neg_mean_squared_log_error.mean(),neg_mean_squared_log_error.std()]\\nneg_mean_squared_log_error= scientific_rounding(neg_mean_squared_log_error)\\nneg_mean_squared_log_error'"
      ]
     },
     "execution_count": 118,
     "metadata": {},
     "output_type": "execute_result"
    }
   ],
   "source": [
    "'''neg_mean_squared_log_error=cross_val_score(regression, X_train, target_train, cv = KFold(n_splits=10), scoring=\"neg_mean_squared_log_error\")\n",
    "neg_mean_squared_log_error= [-neg_mean_squared_log_error.mean(),neg_mean_squared_log_error.std()]\n",
    "neg_mean_squared_log_error= scientific_rounding(neg_mean_squared_log_error)\n",
    "neg_mean_squared_log_error'''"
   ]
  },
  {
   "cell_type": "code",
   "execution_count": 123,
   "metadata": {},
   "outputs": [
    {
     "data": {
      "text/plain": [
       "'9.76+-3.702'"
      ]
     },
     "execution_count": 123,
     "metadata": {},
     "output_type": "execute_result"
    }
   ],
   "source": [
    "median_ae=cross_val_score(regression, X_train, target_train, cv = KFold(n_splits=10), scoring=\"neg_median_absolute_error\")\n",
    "median_ae= [-median_ae.mean(),median_ae.std()]\n",
    "median_ae= scientific_rounding(median_ae)\n",
    "median_ae"
   ]
  },
  {
   "cell_type": "code",
   "execution_count": 131,
   "metadata": {},
   "outputs": [
    {
     "data": {
      "text/plain": [
       "'-23.241+-18.317'"
      ]
     },
     "execution_count": 131,
     "metadata": {},
     "output_type": "execute_result"
    }
   ],
   "source": [
    "r2=cross_val_score(regression, X_train, target_train, cv = KFold(n_splits=10), scoring=\"r2\")\n",
    "r2= [r2.mean(),r2.std()]\n",
    "r2= scientific_rounding(r2)\n",
    "r2"
   ]
  },
  {
   "cell_type": "code",
   "execution_count": 128,
   "metadata": {},
   "outputs": [
    {
     "data": {
      "text/plain": [
       "'\\nimport sklearn\\nsorted(sklearn.metrics.SCORERS.keys()) \\nmean_poisson_dev=cross_val_score(regression, X_train, target_train, cv = KFold(n_splits=10), scoring=\"neg_mean_poisson_deviance’\")\\nmean_poisson_dev= [-mean_poisson_dev.mean(),mean_poisson_dev.std()]\\nmean_poisson_dev= scientific_rounding(mean_poisson_dev)\\nmean_poisson_dev'"
      ]
     },
     "execution_count": 128,
     "metadata": {},
     "output_type": "execute_result"
    }
   ],
   "source": [
    "'''\n",
    "import sklearn\n",
    "sorted(sklearn.metrics.SCORERS.keys()) \n",
    "mean_poisson_dev=cross_val_score(regression, X_train, target_train, cv = KFold(n_splits=10), scoring=\"neg_mean_poisson_deviance’\")\n",
    "mean_poisson_dev= [-mean_poisson_dev.mean(),mean_poisson_dev.std()]\n",
    "mean_poisson_dev= scientific_rounding(mean_poisson_dev)\n",
    "mean_poisson_dev'''"
   ]
  },
  {
   "cell_type": "code",
   "execution_count": 130,
   "metadata": {},
   "outputs": [
    {
     "data": {
      "text/plain": [
       "'neg_mean_absolute_percentage_error=cross_val_score(regression, X_train, target_train, cv = KFold(n_splits=10), scoring=\"neg_mean_absolute_percentage_error\")\\nneg_mean_absolute_percentage_error= [-neg_mean_absolute_percentage_error.mean(),neg_mean_absolute_percentage_error.std()]\\nneg_mean_absolute_percentage_error= scientific_rounding(neg_mean_absolute_percentage_error)\\nneg_mean_absolute_percentage_error'"
      ]
     },
     "execution_count": 130,
     "metadata": {},
     "output_type": "execute_result"
    }
   ],
   "source": [
    "'''neg_mean_absolute_percentage_error=cross_val_score(regression, X_train, target_train, cv = KFold(n_splits=10), scoring=\"neg_mean_absolute_percentage_error\")\n",
    "neg_mean_absolute_percentage_error= [-neg_mean_absolute_percentage_error.mean(),neg_mean_absolute_percentage_error.std()]\n",
    "neg_mean_absolute_percentage_error= scientific_rounding(neg_mean_absolute_percentage_error)\n",
    "neg_mean_absolute_percentage_error'''"
   ]
  },
  {
   "cell_type": "code",
   "execution_count": null,
   "metadata": {},
   "outputs": [],
   "source": [
    "####################################################################3"
   ]
  },
  {
   "cell_type": "code",
   "execution_count": null,
   "metadata": {},
   "outputs": [],
   "source": []
  },
  {
   "cell_type": "code",
   "execution_count": 47,
   "metadata": {},
   "outputs": [
    {
     "name": "stdout",
     "output_type": "stream",
     "text": [
      "87 87 87\n"
     ]
    }
   ],
   "source": [
    "inferred_results=list(rfecv.predict(X)) # this is just for visualization\n",
    "unemployment=list(df.unemployment)\n",
    "date=df.date\n",
    "print(len(inferred_results),len(unemployment),len(date))"
   ]
  },
  {
   "cell_type": "code",
   "execution_count": 48,
   "metadata": {},
   "outputs": [
    {
     "data": {
      "text/html": [
       "<div>\n",
       "<style scoped>\n",
       "    .dataframe tbody tr th:only-of-type {\n",
       "        vertical-align: middle;\n",
       "    }\n",
       "\n",
       "    .dataframe tbody tr th {\n",
       "        vertical-align: top;\n",
       "    }\n",
       "\n",
       "    .dataframe thead th {\n",
       "        text-align: right;\n",
       "    }\n",
       "</style>\n",
       "<table border=\"1\" class=\"dataframe\">\n",
       "  <thead>\n",
       "    <tr style=\"text-align: right;\">\n",
       "      <th></th>\n",
       "      <th>date</th>\n",
       "      <th>real_searches</th>\n",
       "      <th>inferred_results</th>\n",
       "    </tr>\n",
       "  </thead>\n",
       "  <tbody>\n",
       "    <tr>\n",
       "      <th>93</th>\n",
       "      <td>2020-11-15</td>\n",
       "      <td>32.0</td>\n",
       "      <td>28.27</td>\n",
       "    </tr>\n",
       "    <tr>\n",
       "      <th>94</th>\n",
       "      <td>2020-11-22</td>\n",
       "      <td>26.0</td>\n",
       "      <td>22.52</td>\n",
       "    </tr>\n",
       "    <tr>\n",
       "      <th>95</th>\n",
       "      <td>2020-11-29</td>\n",
       "      <td>33.0</td>\n",
       "      <td>29.14</td>\n",
       "    </tr>\n",
       "    <tr>\n",
       "      <th>96</th>\n",
       "      <td>2020-12-06</td>\n",
       "      <td>24.0</td>\n",
       "      <td>26.78</td>\n",
       "    </tr>\n",
       "    <tr>\n",
       "      <th>97</th>\n",
       "      <td>2020-12-13</td>\n",
       "      <td>27.0</td>\n",
       "      <td>33.77</td>\n",
       "    </tr>\n",
       "    <tr>\n",
       "      <th>98</th>\n",
       "      <td>2020-12-20</td>\n",
       "      <td>0.0</td>\n",
       "      <td>17.90</td>\n",
       "    </tr>\n",
       "    <tr>\n",
       "      <th>99</th>\n",
       "      <td>2020-12-27</td>\n",
       "      <td>0.0</td>\n",
       "      <td>23.60</td>\n",
       "    </tr>\n",
       "    <tr>\n",
       "      <th>100</th>\n",
       "      <td>2021-01-03</td>\n",
       "      <td>0.0</td>\n",
       "      <td>25.67</td>\n",
       "    </tr>\n",
       "    <tr>\n",
       "      <th>101</th>\n",
       "      <td>2021-01-10</td>\n",
       "      <td>0.0</td>\n",
       "      <td>27.50</td>\n",
       "    </tr>\n",
       "    <tr>\n",
       "      <th>102</th>\n",
       "      <td>2021-01-17</td>\n",
       "      <td>0.0</td>\n",
       "      <td>0.00</td>\n",
       "    </tr>\n",
       "  </tbody>\n",
       "</table>\n",
       "</div>"
      ],
      "text/plain": [
       "           date  real_searches  inferred_results\n",
       "93   2020-11-15           32.0             28.27\n",
       "94   2020-11-22           26.0             22.52\n",
       "95   2020-11-29           33.0             29.14\n",
       "96   2020-12-06           24.0             26.78\n",
       "97   2020-12-13           27.0             33.77\n",
       "98   2020-12-20            0.0             17.90\n",
       "99   2020-12-27            0.0             23.60\n",
       "100  2021-01-03            0.0             25.67\n",
       "101  2021-01-10            0.0             27.50\n",
       "102  2021-01-17            0.0              0.00"
      ]
     },
     "execution_count": 48,
     "metadata": {},
     "output_type": "execute_result"
    }
   ],
   "source": [
    "inferred_results=list(rfecv.predict(X)) # this is just to avoid generating nans in df\n",
    "unemployment=list(df.unemployment)\n",
    "date=df.date\n",
    "#print(len(inferred_results),len(unemployment),len(date))\n",
    "\n",
    "result=pd.DataFrame()\n",
    "result[\"date\"]=df[\"date\"]\n",
    "result[\"real_searches\"]=unemployment\n",
    "result[\"inferred_results\"]=inferred_results\n",
    "\n",
    "result[\"inferred_results\"]=result[\"inferred_results\"].apply(lambda x: 0 if x<0 else round(x,2))\n",
    "result.tail(10)"
   ]
  },
  {
   "cell_type": "code",
   "execution_count": 49,
   "metadata": {},
   "outputs": [
    {
     "data": {
      "text/plain": [
       "<matplotlib.axes._subplots.AxesSubplot at 0x7fa7b82bc810>"
      ]
     },
     "execution_count": 49,
     "metadata": {},
     "output_type": "execute_result"
    },
    {
     "data": {
      "image/png": "[encoded data removed]",
      "text/plain": [
       "<Figure size 1440x720 with 1 Axes>"
      ]
     },
     "metadata": {
      "needs_background": "light"
     },
     "output_type": "display_data"
    }
   ],
   "source": [
    "# visualization\n",
    "result.plot(x=\"date\",\n",
    "            y=[\"real_searches\",\"inferred_results\"],\n",
    "            figsize=(20,10), \n",
    "            kind=\"bar\",\n",
    "            title=\"Inferences of Tending Index in Google Trends, with results 4 weeks ahead. This data will be implemented in an automated pipeline for dashboarding in Data Studio\",\n",
    "            grid=True)"
   ]
  },
  {
   "cell_type": "code",
   "execution_count": 89,
   "metadata": {},
   "outputs": [],
   "source": [
    "def scientific_rounding(value):\n",
    "    '''\n",
    "    This function rounds decimals according to the scientific notation (kind of)\n",
    "    '''\n",
    "    number= str(value)\n",
    "    number= number.split(\".\")\n",
    "    d=0\n",
    "    #print(list(range(len(number[1])+1)), number[1])\n",
    "    for e in list(range(len(number[1]))):\n",
    "        if number[1][e]==\"0\":\n",
    "            d+=1\n",
    "        else:\n",
    "            break\n",
    "    if d!=0:\n",
    "        value=round(value,d+1)\n",
    "    else:   # else means we'll have numbers without left zeroes that we shouldn't round to 1.\n",
    "        value=round(value,3)\n",
    "    return value"
   ]
  },
  {
   "cell_type": "code",
   "execution_count": 51,
   "metadata": {},
   "outputs": [
    {
     "data": {
      "text/plain": [
       "0.003"
      ]
     },
     "execution_count": 51,
     "metadata": {},
     "output_type": "execute_result"
    }
   ],
   "source": [
    "value=0.0028\n",
    "scientific_rounding(value)"
   ]
  },
  {
   "cell_type": "code",
   "execution_count": 21,
   "metadata": {},
   "outputs": [
    {
     "data": {
      "text/plain": [
       "0.758"
      ]
     },
     "execution_count": 21,
     "metadata": {},
     "output_type": "execute_result"
    }
   ],
   "source": [
    "algo_mse = \n",
    "algo_mse "
   ]
  },
  {
   "cell_type": "code",
   "execution_count": 22,
   "metadata": {},
   "outputs": [],
   "source": [
    "algo_rmse = \n"
   ]
  },
  {
   "cell_type": "code",
   "execution_count": 56,
   "metadata": {},
   "outputs": [],
   "source": [
    "mean = result.real_searches.head(-5).mean()\n",
    "N = len(result.real_searches.head(-5))\n",
    "y_real=result.real_searches.head(-5) \n",
    "y_pred=result.inferred_results.head(-5)"
   ]
  },
  {
   "cell_type": "code",
   "execution_count": 61,
   "metadata": {},
   "outputs": [
    {
     "data": {
      "text/plain": [
       "5.452315574318055"
      ]
     },
     "execution_count": 61,
     "metadata": {},
     "output_type": "execute_result"
    }
   ],
   "source": []
  },
  {
   "cell_type": "code",
   "execution_count": 24,
   "metadata": {},
   "outputs": [],
   "source": [
    "from sklearn.metrics import mean_squared_error, explained_variance_score, max_error, mean_absolute_error,median_absolute_error, r2_score"
   ]
  },
  {
   "cell_type": "code",
   "execution_count": 66,
   "metadata": {},
   "outputs": [],
   "source": [
    "metrics={\"date\":[today],\n",
    "         \"selected_columns\":[rfecv.n_features_],\n",
    "         \"mape\":[scientific_rounding( np.mean(np.abs((y_real-y_pred)/y_real)) )*100],\n",
    "         \"calc_rmse\":[scientific_rounding(np.linalg.norm(y_pred-y_real)/(np.sqrt(N)))],\n",
    "         \"metrics_mse\":[scientific_rounding(mean_squared_error(y_real, y_pred, squared=True))],\n",
    "         \"metrics_rmse\":[scientific_rounding(mean_squared_error(y_real, y_pred, squared=False))],\n",
    "         \"metrics_r2score\":[scientific_rounding(r2_score(y_real,y_pred))],\n",
    "         \"metrics_median_ae\":[scientific_rounding(median_absolute_error(y_real,y_pred))],\n",
    "         \"metrics_mae\":[scientific_rounding(mean_absolute_error(y_real,y_pred))],\n",
    "         \"metrics_maxerror\":[scientific_rounding(max_error(y_real,y_pred))],\n",
    "         \"metrics_evs\":[scientific_rounding(explained_variance_score(y_real,y_pred))],\n",
    "         \"algo_rmse\":[scientific_rounding(np.sqrt(algo_mse))],\n",
    "         \"algo_mse\":[scientific_rounding(rfecv.score(X_train, target_train))],\n",
    "         \"sample_stdev\":[np.sqrt((y_pred-mean).sum()**2)/(N-1)]\n",
    "        }"
   ]
  },
  {
   "cell_type": "code",
   "execution_count": 67,
   "metadata": {},
   "outputs": [
    {
     "data": {
      "text/html": [
       "<div>\n",
       "<style scoped>\n",
       "    .dataframe tbody tr th:only-of-type {\n",
       "        vertical-align: middle;\n",
       "    }\n",
       "\n",
       "    .dataframe tbody tr th {\n",
       "        vertical-align: top;\n",
       "    }\n",
       "\n",
       "    .dataframe thead th {\n",
       "        text-align: right;\n",
       "    }\n",
       "</style>\n",
       "<table border=\"1\" class=\"dataframe\">\n",
       "  <thead>\n",
       "    <tr style=\"text-align: right;\">\n",
       "      <th></th>\n",
       "      <th>date</th>\n",
       "      <th>selected_columns</th>\n",
       "      <th>mape</th>\n",
       "      <th>calc_rmse</th>\n",
       "      <th>metrics_mse</th>\n",
       "      <th>metrics_rmse</th>\n",
       "      <th>metrics_r2score</th>\n",
       "      <th>metrics_median_ae</th>\n",
       "      <th>metrics_mae</th>\n",
       "      <th>metrics_maxerror</th>\n",
       "      <th>metrics_evs</th>\n",
       "      <th>algo_rmse</th>\n",
       "      <th>algo_mse</th>\n",
       "      <th>sample_stdev</th>\n",
       "    </tr>\n",
       "  </thead>\n",
       "  <tbody>\n",
       "    <tr>\n",
       "      <th>0</th>\n",
       "      <td>2021-01-13</td>\n",
       "      <td>13</td>\n",
       "      <td>18.8</td>\n",
       "      <td>5.452</td>\n",
       "      <td>29.728</td>\n",
       "      <td>5.452</td>\n",
       "      <td>0.861</td>\n",
       "      <td>2.955</td>\n",
       "      <td>4.183</td>\n",
       "      <td>15.58</td>\n",
       "      <td>0.862</td>\n",
       "      <td>0.871</td>\n",
       "      <td>0.848</td>\n",
       "      <td>0.220864</td>\n",
       "    </tr>\n",
       "  </tbody>\n",
       "</table>\n",
       "</div>"
      ],
      "text/plain": [
       "         date  selected_columns  mape  calc_rmse  metrics_mse  metrics_rmse  \\\n",
       "0  2021-01-13                13  18.8      5.452       29.728         5.452   \n",
       "\n",
       "   metrics_r2score  metrics_median_ae  metrics_mae  metrics_maxerror  \\\n",
       "0            0.861              2.955        4.183             15.58   \n",
       "\n",
       "   metrics_evs  algo_rmse  algo_mse  sample_stdev  \n",
       "0        0.862      0.871     0.848      0.220864  "
      ]
     },
     "execution_count": 67,
     "metadata": {},
     "output_type": "execute_result"
    }
   ],
   "source": [
    "weekly_score=pd.DataFrame.from_dict(metrics)\n",
    "weekly_score.to_csv(\"input/weekly_score.csv\") #<=====================\n",
    "weekly_score"
   ]
  },
  {
   "cell_type": "code",
   "execution_count": 37,
   "metadata": {},
   "outputs": [
    {
     "data": {
      "image/png": "[encoded data removed]",
      "text/plain": [
       "<Figure size 1152x648 with 1 Axes>"
      ]
     },
     "metadata": {
      "needs_background": "light"
     },
     "output_type": "display_data"
    }
   ],
   "source": [
    "from matplotlib import pyplot\n",
    "plt.figure(figsize=(16, 9))\n",
    "plt.title('Recursive Feature Elimination with Cross-Validation', fontsize=34, pad=20)\n",
    "plt.xlabel('Number of features selected', fontsize=28, labelpad=20)\n",
    "plt.ylabel('Inner algorithm score', fontsize=28, labelpad=20)\n",
    "plt.plot(range(1, len(rfecv.grid_scores_) + 1), rfecv.grid_scores_, color='#303F9F', linewidth=3)\n",
    "\n",
    "plt.savefig(\"./input/RFE_columns.jpg\")   # <====================\n",
    "\n",
    "plt.show()"
   ]
  },
  {
   "cell_type": "code",
   "execution_count": 38,
   "metadata": {},
   "outputs": [
    {
     "data": {
      "text/plain": [
       "array([ 23.36475528,  26.73510269,  23.68593537, -32.97748608])"
      ]
     },
     "execution_count": 38,
     "metadata": {},
     "output_type": "execute_result"
    }
   ],
   "source": [
    "# Inferences 4 weeks ahead\n",
    "rfecv.predict(X_test)"
   ]
  },
  {
   "cell_type": "code",
   "execution_count": 39,
   "metadata": {},
   "outputs": [
    {
     "data": {
      "text/html": [
       "<div>\n",
       "<style scoped>\n",
       "    .dataframe tbody tr th:only-of-type {\n",
       "        vertical-align: middle;\n",
       "    }\n",
       "\n",
       "    .dataframe tbody tr th {\n",
       "        vertical-align: top;\n",
       "    }\n",
       "\n",
       "    .dataframe thead th {\n",
       "        text-align: right;\n",
       "    }\n",
       "</style>\n",
       "<table border=\"1\" class=\"dataframe\">\n",
       "  <thead>\n",
       "    <tr style=\"text-align: right;\">\n",
       "      <th></th>\n",
       "      <th>features</th>\n",
       "      <th>top_important</th>\n",
       "    </tr>\n",
       "  </thead>\n",
       "  <tbody>\n",
       "    <tr>\n",
       "      <th>0</th>\n",
       "      <td>comparecencia</td>\n",
       "      <td>1</td>\n",
       "    </tr>\n",
       "    <tr>\n",
       "      <th>1</th>\n",
       "      <td>meetic</td>\n",
       "      <td>1</td>\n",
       "    </tr>\n",
       "    <tr>\n",
       "      <th>2</th>\n",
       "      <td>teletrabajo</td>\n",
       "      <td>1</td>\n",
       "    </tr>\n",
       "    <tr>\n",
       "      <th>3</th>\n",
       "      <td>refugiados_2</td>\n",
       "      <td>1</td>\n",
       "    </tr>\n",
       "    <tr>\n",
       "      <th>4</th>\n",
       "      <td>bullying</td>\n",
       "      <td>1</td>\n",
       "    </tr>\n",
       "    <tr>\n",
       "      <th>5</th>\n",
       "      <td>deshaucio</td>\n",
       "      <td>1</td>\n",
       "    </tr>\n",
       "    <tr>\n",
       "      <th>6</th>\n",
       "      <td>sepe</td>\n",
       "      <td>1</td>\n",
       "    </tr>\n",
       "    <tr>\n",
       "      <th>7</th>\n",
       "      <td>coronavirus</td>\n",
       "      <td>1</td>\n",
       "    </tr>\n",
       "    <tr>\n",
       "      <th>8</th>\n",
       "      <td>racismo</td>\n",
       "      <td>2</td>\n",
       "    </tr>\n",
       "    <tr>\n",
       "      <th>9</th>\n",
       "      <td>agresion_sexual</td>\n",
       "      <td>2</td>\n",
       "    </tr>\n",
       "    <tr>\n",
       "      <th>10</th>\n",
       "      <td>energias_renovables</td>\n",
       "      <td>2</td>\n",
       "    </tr>\n",
       "    <tr>\n",
       "      <th>11</th>\n",
       "      <td>clases online</td>\n",
       "      <td>3</td>\n",
       "    </tr>\n",
       "    <tr>\n",
       "      <th>12</th>\n",
       "      <td>paro</td>\n",
       "      <td>3</td>\n",
       "    </tr>\n",
       "    <tr>\n",
       "      <th>13</th>\n",
       "      <td>crisis politica</td>\n",
       "      <td>3</td>\n",
       "    </tr>\n",
       "    <tr>\n",
       "      <th>14</th>\n",
       "      <td>embarazo</td>\n",
       "      <td>3</td>\n",
       "    </tr>\n",
       "    <tr>\n",
       "      <th>15</th>\n",
       "      <td>inmigracion_1</td>\n",
       "      <td>3</td>\n",
       "    </tr>\n",
       "    <tr>\n",
       "      <th>16</th>\n",
       "      <td>emergencia_sanitaria</td>\n",
       "      <td>3</td>\n",
       "    </tr>\n",
       "    <tr>\n",
       "      <th>17</th>\n",
       "      <td>manifestacion</td>\n",
       "      <td>3</td>\n",
       "    </tr>\n",
       "    <tr>\n",
       "      <th>18</th>\n",
       "      <td>productividad</td>\n",
       "      <td>3</td>\n",
       "    </tr>\n",
       "    <tr>\n",
       "      <th>19</th>\n",
       "      <td>inmigracion_2</td>\n",
       "      <td>3</td>\n",
       "    </tr>\n",
       "    <tr>\n",
       "      <th>20</th>\n",
       "      <td>hbo</td>\n",
       "      <td>3</td>\n",
       "    </tr>\n",
       "    <tr>\n",
       "      <th>21</th>\n",
       "      <td>desempleo</td>\n",
       "      <td>3</td>\n",
       "    </tr>\n",
       "    <tr>\n",
       "      <th>22</th>\n",
       "      <td>disney</td>\n",
       "      <td>4</td>\n",
       "    </tr>\n",
       "    <tr>\n",
       "      <th>23</th>\n",
       "      <td>vacunas</td>\n",
       "      <td>4</td>\n",
       "    </tr>\n",
       "    <tr>\n",
       "      <th>24</th>\n",
       "      <td>enfermedades_muy_infecciosas</td>\n",
       "      <td>4</td>\n",
       "    </tr>\n",
       "    <tr>\n",
       "      <th>25</th>\n",
       "      <td>independentismo</td>\n",
       "      <td>4</td>\n",
       "    </tr>\n",
       "    <tr>\n",
       "      <th>26</th>\n",
       "      <td>divorcio</td>\n",
       "      <td>4</td>\n",
       "    </tr>\n",
       "    <tr>\n",
       "      <th>27</th>\n",
       "      <td>glovo</td>\n",
       "      <td>4</td>\n",
       "    </tr>\n",
       "    <tr>\n",
       "      <th>28</th>\n",
       "      <td>emprendimiento_1</td>\n",
       "      <td>4</td>\n",
       "    </tr>\n",
       "    <tr>\n",
       "      <th>29</th>\n",
       "      <td>extremismo</td>\n",
       "      <td>4</td>\n",
       "    </tr>\n",
       "  </tbody>\n",
       "</table>\n",
       "</div>"
      ],
      "text/plain": [
       "                        features  top_important\n",
       "0                  comparecencia              1\n",
       "1                         meetic              1\n",
       "2                    teletrabajo              1\n",
       "3                   refugiados_2              1\n",
       "4                       bullying              1\n",
       "5                      deshaucio              1\n",
       "6                           sepe              1\n",
       "7                    coronavirus              1\n",
       "8                        racismo              2\n",
       "9                agresion_sexual              2\n",
       "10           energias_renovables              2\n",
       "11                 clases online              3\n",
       "12                          paro              3\n",
       "13               crisis politica              3\n",
       "14                      embarazo              3\n",
       "15                 inmigracion_1              3\n",
       "16          emergencia_sanitaria              3\n",
       "17                 manifestacion              3\n",
       "18                 productividad              3\n",
       "19                 inmigracion_2              3\n",
       "20                           hbo              3\n",
       "21                     desempleo              3\n",
       "22                        disney              4\n",
       "23                       vacunas              4\n",
       "24  enfermedades_muy_infecciosas              4\n",
       "25               independentismo              4\n",
       "26                      divorcio              4\n",
       "27                         glovo              4\n",
       "28              emprendimiento_1              4\n",
       "29                    extremismo              4"
      ]
     },
     "execution_count": 39,
     "metadata": {},
     "output_type": "execute_result"
    }
   ],
   "source": [
    "# Ranking of how important are the following keywords to infer in Google searches in Spain\n",
    "# the keyword \"unemployment\"\n",
    "\n",
    "ranking_features=pd.DataFrame()\n",
    "ranking_features[\"features\"]=X_train.columns\n",
    "ranking_features[\"top_important\"]=rfecv.ranking_\n",
    "ranking_features.sort_values(by=\"top_important\", ascending=True, inplace=True, ignore_index=True)\n",
    "ranking_features.to_csv(\"input/ranking_of_features.csv\")  # <========================\n",
    "ranking_features.head(30)\n"
   ]
  },
  {
   "cell_type": "code",
   "execution_count": null,
   "metadata": {},
   "outputs": [],
   "source": []
  },
  {
   "cell_type": "code",
   "execution_count": null,
   "metadata": {},
   "outputs": [],
   "source": []
  }
 ],
 "metadata": {
  "kernelspec": {
   "display_name": "mlsklearn",
   "language": "python",
   "name": "mlsklearn"
  },
  "language_info": {
   "codemirror_mode": {
    "name": "ipython",
    "version": 3
   },
   "file_extension": ".py",
   "mimetype": "text/x-python",
   "name": "python",
   "nbconvert_exporter": "python",
   "pygments_lexer": "ipython3",
   "version": "3.7.6"
  }
 },
 "nbformat": 4,
 "nbformat_minor": 4
}
