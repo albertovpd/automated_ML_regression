{
 "cells": [
  {
   "cell_type": "markdown",
   "metadata": {},
   "source": [
    "----------------------------------\n",
    "\n",
    "# PART III\n",
    "# ML regression\n",
    "\n",
    "Cacharreanding stuff\n",
    "\n",
    "\n",
    "![alt](https://i.pinimg.com/originals/8c/5c/59/8c5c5923c547867c1615402754d9eb27.gif)\n",
    "-----------------------------------\n",
    "\n",
    "*This jupyter is the explanation. The *real thing* is available in the **Cloud Function** folder. \n",
    "\n",
    "\n",
    "----------------------------------\n",
    "\n",
    "I'm going to:\n",
    "\n",
    "- Normalise the dataset before applying ML. \n",
    "- Use **RFE** (Recursive Feature Elimination) to select the best 15 columns to work with, from the 133 I have.\n",
    "- Use the fastest regression I can. Speed over performance due to Cloud Function requirements.\n",
    "- Perform cross validation. Unfortunately I have no enough data for train/validation/test\n",
    "- Once my model is trained, infer data in the whole dataset, to have a dashboard comparing *real keyword* vs *infered keyword*.\n",
    "\n",
    "Let's have fun :D"
   ]
  },
  {
   "cell_type": "code",
   "execution_count": 1,
   "metadata": {},
   "outputs": [],
   "source": [
    "import pandas as pd\n",
    "import numpy as np\n",
    "from sklearn import preprocessing\n",
    "from sklearn.decomposition import PCA as pca\n",
    "from scipy import stats\n",
    "from sklearn.covariance import EllipticEnvelope\n",
    "import matplotlib.pyplot as plt\n",
    "import matplotlib.font_manager\n",
    "\n",
    "from sklearn.feature_selection import RFECV\n",
    "from sklearn.linear_model import LinearRegression\n",
    "from sklearn.linear_model import Lasso"
   ]
  },
  {
   "cell_type": "code",
   "execution_count": 2,
   "metadata": {},
   "outputs": [],
   "source": [
    "df=pd.read_csv(\"input/dataset_final_processed.csv\",index_col=[0])"
   ]
  },
  {
   "cell_type": "markdown",
   "metadata": {},
   "source": [
    "### First attributes selection: Erasing low variance elements\n",
    "\n",
    "Let's remove the attibutes (columns) which values are quite constant in the whole dataset, so they're not offering much information when everything else is changing."
   ]
  },
  {
   "cell_type": "code",
   "execution_count": 3,
   "metadata": {},
   "outputs": [],
   "source": [
    "from sklearn.feature_selection import VarianceThreshold\n",
    "def variance_threshold_selector(data, threshold):\n",
    "    '''\n",
    "    It removes any attribute (column) than vary less than the percentaje of the threshold\n",
    "    '''\n",
    "    selector = VarianceThreshold(threshold)\n",
    "    selector.fit(data)\n",
    "    return data[data.columns[selector.get_support(indices=True)]]"
   ]
  },
  {
   "cell_type": "code",
   "execution_count": 4,
   "metadata": {},
   "outputs": [],
   "source": [
    "low_v = df.drop(columns=[\"date\",\"unemployment\",\"outliers_score\" ])"
   ]
  },
  {
   "cell_type": "code",
   "execution_count": 5,
   "metadata": {},
   "outputs": [
    {
     "name": "stdout",
     "output_type": "stream",
     "text": [
      "attributes before (87, 118) attributes now (87, 109)\n"
     ]
    }
   ],
   "source": [
    "X_raw= variance_threshold_selector(low_v, 5) # removing values than vary less than 5%\n",
    "print(\"attributes before\", low_v.shape,\"attributes now\", X_raw.shape)"
   ]
  },
  {
   "cell_type": "code",
   "execution_count": 6,
   "metadata": {},
   "outputs": [
    {
     "name": "stdout",
     "output_type": "stream",
     "text": [
      "removed features:  \n",
      "\n",
      "precio_petroleo_1\n",
      "prosperidad_economica_y_finanzas\n",
      "inflacion_economica\n",
      "precio_petroleo_2\n",
      "banco_mundial\n",
      "censura_en_medios\n",
      "subsidios\n",
      "desescalada\n",
      "hacer deporte\n"
     ]
    }
   ],
   "source": [
    "print(\"removed features: \",\"\\n\")\n",
    "for c in low_v.columns:\n",
    "    if c not in X_raw.columns:\n",
    "        print(c)"
   ]
  },
  {
   "cell_type": "markdown",
   "metadata": {},
   "source": [
    "### Normalization / Standarization\n",
    "\n",
    "Standardizing the features around the center and 0 with a standard deviation of 1 is important when we compare measurements that have different units. Variables that are measured at different scales do not contribute equally to the analysis and might end up creating a bais.\n",
    "\n",
    "In other hand, Normalization is useful when your data has varying scales and the algorithm you are using does not make assumptions about the distribution of your data"
   ]
  },
  {
   "cell_type": "code",
   "execution_count": 7,
   "metadata": {},
   "outputs": [
    {
     "data": {
      "text/html": [
       "<div>\n",
       "<style scoped>\n",
       "    .dataframe tbody tr th:only-of-type {\n",
       "        vertical-align: middle;\n",
       "    }\n",
       "\n",
       "    .dataframe tbody tr th {\n",
       "        vertical-align: top;\n",
       "    }\n",
       "\n",
       "    .dataframe thead th {\n",
       "        text-align: right;\n",
       "    }\n",
       "</style>\n",
       "<table border=\"1\" class=\"dataframe\">\n",
       "  <thead>\n",
       "    <tr style=\"text-align: right;\">\n",
       "      <th></th>\n",
       "      <th>vigilancia</th>\n",
       "      <th>inestabilidad_politica</th>\n",
       "      <th>rebelion</th>\n",
       "      <th>terrorismo</th>\n",
       "      <th>protestas</th>\n",
       "      <th>corrupcion_1</th>\n",
       "      <th>refugiados_1</th>\n",
       "      <th>ejercito</th>\n",
       "      <th>seguridad_nacional</th>\n",
       "      <th>extremismo</th>\n",
       "      <th>...</th>\n",
       "      <th>taxi</th>\n",
       "      <th>teletrabajo</th>\n",
       "      <th>tinder</th>\n",
       "      <th>uber</th>\n",
       "      <th>uber eats</th>\n",
       "      <th>videoconferencia</th>\n",
       "      <th>videollamada</th>\n",
       "      <th>vox</th>\n",
       "      <th>yoga</th>\n",
       "      <th>zoom</th>\n",
       "    </tr>\n",
       "  </thead>\n",
       "  <tbody>\n",
       "    <tr>\n",
       "      <th>0</th>\n",
       "      <td>0.640186</td>\n",
       "      <td>0.894425</td>\n",
       "      <td>0.579915</td>\n",
       "      <td>0.438318</td>\n",
       "      <td>0.995760</td>\n",
       "      <td>0.705565</td>\n",
       "      <td>0.780032</td>\n",
       "      <td>0.893647</td>\n",
       "      <td>0.420146</td>\n",
       "      <td>0.664755</td>\n",
       "      <td>...</td>\n",
       "      <td>0.43</td>\n",
       "      <td>0.01</td>\n",
       "      <td>0.57</td>\n",
       "      <td>0.27</td>\n",
       "      <td>0.12</td>\n",
       "      <td>0.052632</td>\n",
       "      <td>0.166667</td>\n",
       "      <td>0.34</td>\n",
       "      <td>0.870370</td>\n",
       "      <td>0.142857</td>\n",
       "    </tr>\n",
       "    <tr>\n",
       "      <th>1</th>\n",
       "      <td>0.231892</td>\n",
       "      <td>0.778049</td>\n",
       "      <td>0.654679</td>\n",
       "      <td>0.928255</td>\n",
       "      <td>0.835291</td>\n",
       "      <td>0.398453</td>\n",
       "      <td>0.701877</td>\n",
       "      <td>0.823433</td>\n",
       "      <td>0.765143</td>\n",
       "      <td>0.929841</td>\n",
       "      <td>...</td>\n",
       "      <td>0.50</td>\n",
       "      <td>0.01</td>\n",
       "      <td>0.45</td>\n",
       "      <td>0.39</td>\n",
       "      <td>0.09</td>\n",
       "      <td>0.105263</td>\n",
       "      <td>0.083333</td>\n",
       "      <td>0.27</td>\n",
       "      <td>0.814815</td>\n",
       "      <td>0.114286</td>\n",
       "    </tr>\n",
       "  </tbody>\n",
       "</table>\n",
       "<p>2 rows × 109 columns</p>\n",
       "</div>"
      ],
      "text/plain": [
       "   vigilancia  inestabilidad_politica  rebelion  terrorismo  protestas  \\\n",
       "0    0.640186                0.894425  0.579915    0.438318   0.995760   \n",
       "1    0.231892                0.778049  0.654679    0.928255   0.835291   \n",
       "\n",
       "   corrupcion_1  refugiados_1  ejercito  seguridad_nacional  extremismo  ...  \\\n",
       "0      0.705565      0.780032  0.893647            0.420146    0.664755  ...   \n",
       "1      0.398453      0.701877  0.823433            0.765143    0.929841  ...   \n",
       "\n",
       "   taxi  teletrabajo  tinder  uber  uber eats  videoconferencia  videollamada  \\\n",
       "0  0.43         0.01    0.57  0.27       0.12          0.052632      0.166667   \n",
       "1  0.50         0.01    0.45  0.39       0.09          0.105263      0.083333   \n",
       "\n",
       "    vox      yoga      zoom  \n",
       "0  0.34  0.870370  0.142857  \n",
       "1  0.27  0.814815  0.114286  \n",
       "\n",
       "[2 rows x 109 columns]"
      ]
     },
     "execution_count": 7,
     "metadata": {},
     "output_type": "execute_result"
    }
   ],
   "source": [
    "# Normalizacion with sklearn\n",
    "# remove dates and target\n",
    "#X_raw = df.drop(columns=[\"date\",\"unemployment\",\"outliers_score\" ]) #already removed in low_v\n",
    "\n",
    "normalizer = preprocessing.MinMaxScaler()\n",
    "X = pd.DataFrame(normalizer.fit_transform(X_raw))\n",
    "\n",
    "#standardizer = preprocessing.StandardScaler()\n",
    "#X = pd.DataFrame(standardizer.fit_transform(X_raw))\n",
    "\n",
    "X.columns= X_raw.columns\n",
    "X.shape\n",
    "target=df[\"unemployment\"]\n",
    "X.head(2)"
   ]
  },
  {
   "cell_type": "markdown",
   "metadata": {},
   "source": [
    "### Validation (nested validation)\n",
    "\n",
    "I'll validate the algorithoms with the training set. To tune it properly I'll create a substet test from the training set. "
   ]
  },
  {
   "cell_type": "code",
   "execution_count": 8,
   "metadata": {},
   "outputs": [],
   "source": [
    "# splitting\n",
    "X_train=X.iloc[:-4]\n",
    "target_train=target.iloc[:-4]\n",
    "\n",
    "# last 4 rows, which are the ones I have no data and I want to infer\n",
    "X_test=X.iloc[-4:]\n",
    "target_test=target.iloc[-4:]"
   ]
  },
  {
   "cell_type": "code",
   "execution_count": 60,
   "metadata": {},
   "outputs": [
    {
     "name": "stderr",
     "output_type": "stream",
     "text": [
      "/home/vargas/anaconda3/lib/python3.7/site-packages/sklearn/model_selection/_split.py:667: UserWarning: The least populated class in y has only 1 members, which is less than n_splits=5.\n",
      "  % (min_groups, self.n_splits)), UserWarning)\n"
     ]
    }
   ],
   "source": [
    "from sklearn.model_selection import cross_validate\n",
    "from sklearn.ensemble import  RandomForestClassifier\n",
    "import pandas as pd\n",
    "\n",
    "X, y = X_train, target_train\n",
    "\n",
    "clf=RandomForestClassifier(n_estimators =10, random_state = 42) # , class_weight=\"balanced\" no tiene sentido aquí\n",
    "output = cross_validate(clf, X, y, cv=5, scoring = 'neg_mean_squared_error', return_estimator =True)"
   ]
  },
  {
   "cell_type": "code",
   "execution_count": 61,
   "metadata": {},
   "outputs": [],
   "source": [
    "for idx,estimator in enumerate(output['estimator']):\n",
    "    #print(\"Features sorted by their score for estimator {}:\".format(idx))\n",
    "    feature_importances = pd.DataFrame(estimator.feature_importances_,\n",
    "                                       index = X.columns,\n",
    "                                        columns=['importance']).sort_values('importance', ascending=False)\n",
    "    #display(feature_importances)"
   ]
  },
  {
   "cell_type": "code",
   "execution_count": 62,
   "metadata": {},
   "outputs": [
    {
     "data": {
      "text/html": [
       "<div>\n",
       "<style scoped>\n",
       "    .dataframe tbody tr th:only-of-type {\n",
       "        vertical-align: middle;\n",
       "    }\n",
       "\n",
       "    .dataframe tbody tr th {\n",
       "        vertical-align: top;\n",
       "    }\n",
       "\n",
       "    .dataframe thead th {\n",
       "        text-align: right;\n",
       "    }\n",
       "</style>\n",
       "<table border=\"1\" class=\"dataframe\">\n",
       "  <thead>\n",
       "    <tr style=\"text-align: right;\">\n",
       "      <th></th>\n",
       "      <th>importance</th>\n",
       "    </tr>\n",
       "  </thead>\n",
       "  <tbody>\n",
       "    <tr>\n",
       "      <th>infeccion</th>\n",
       "      <td>0.027960</td>\n",
       "    </tr>\n",
       "    <tr>\n",
       "      <th>psoe</th>\n",
       "      <td>0.026526</td>\n",
       "    </tr>\n",
       "    <tr>\n",
       "      <th>cursos online</th>\n",
       "      <td>0.025305</td>\n",
       "    </tr>\n",
       "    <tr>\n",
       "      <th>emprendimiento_1</th>\n",
       "      <td>0.022786</td>\n",
       "    </tr>\n",
       "    <tr>\n",
       "      <th>cabify</th>\n",
       "      <td>0.021270</td>\n",
       "    </tr>\n",
       "    <tr>\n",
       "      <th>hangouts</th>\n",
       "      <td>0.020886</td>\n",
       "    </tr>\n",
       "    <tr>\n",
       "      <th>compartir piso</th>\n",
       "      <td>0.018634</td>\n",
       "    </tr>\n",
       "    <tr>\n",
       "      <th>taxi</th>\n",
       "      <td>0.018614</td>\n",
       "    </tr>\n",
       "    <tr>\n",
       "      <th>stock_market</th>\n",
       "      <td>0.018512</td>\n",
       "    </tr>\n",
       "    <tr>\n",
       "      <th>divorcio</th>\n",
       "      <td>0.018302</td>\n",
       "    </tr>\n",
       "    <tr>\n",
       "      <th>mas pais</th>\n",
       "      <td>0.017936</td>\n",
       "    </tr>\n",
       "    <tr>\n",
       "      <th>emergencia_sanitaria</th>\n",
       "      <td>0.017574</td>\n",
       "    </tr>\n",
       "    <tr>\n",
       "      <th>just eat</th>\n",
       "      <td>0.016830</td>\n",
       "    </tr>\n",
       "    <tr>\n",
       "      <th>bildu</th>\n",
       "      <td>0.016254</td>\n",
       "    </tr>\n",
       "    <tr>\n",
       "      <th>uber eats</th>\n",
       "      <td>0.016203</td>\n",
       "    </tr>\n",
       "    <tr>\n",
       "      <th>residencia ancianos</th>\n",
       "      <td>0.015768</td>\n",
       "    </tr>\n",
       "    <tr>\n",
       "      <th>badi</th>\n",
       "      <td>0.015684</td>\n",
       "    </tr>\n",
       "    <tr>\n",
       "      <th>en familia</th>\n",
       "      <td>0.015304</td>\n",
       "    </tr>\n",
       "    <tr>\n",
       "      <th>tinder</th>\n",
       "      <td>0.015237</td>\n",
       "    </tr>\n",
       "    <tr>\n",
       "      <th>ciencia</th>\n",
       "      <td>0.014150</td>\n",
       "    </tr>\n",
       "  </tbody>\n",
       "</table>\n",
       "</div>"
      ],
      "text/plain": [
       "                      importance\n",
       "infeccion               0.027960\n",
       "psoe                    0.026526\n",
       "cursos online           0.025305\n",
       "emprendimiento_1        0.022786\n",
       "cabify                  0.021270\n",
       "hangouts                0.020886\n",
       "compartir piso          0.018634\n",
       "taxi                    0.018614\n",
       "stock_market            0.018512\n",
       "divorcio                0.018302\n",
       "mas pais                0.017936\n",
       "emergencia_sanitaria    0.017574\n",
       "just eat                0.016830\n",
       "bildu                   0.016254\n",
       "uber eats               0.016203\n",
       "residencia ancianos     0.015768\n",
       "badi                    0.015684\n",
       "en familia              0.015304\n",
       "tinder                  0.015237\n",
       "ciencia                 0.014150"
      ]
     },
     "execution_count": 62,
     "metadata": {},
     "output_type": "execute_result"
    }
   ],
   "source": [
    "feature_importances.head(20)"
   ]
  },
  {
   "cell_type": "code",
   "execution_count": null,
   "metadata": {},
   "outputs": [],
   "source": []
  },
  {
   "cell_type": "code",
   "execution_count": 66,
   "metadata": {},
   "outputs": [
    {
     "name": "stdout",
     "output_type": "stream",
     "text": [
      "Feature: 0, Score: 0.85082\n",
      "Feature: 1, Score: -8.37280\n",
      "Feature: 2, Score: 0.74595\n",
      "Feature: 3, Score: 11.47389\n",
      "Feature: 4, Score: -12.98725\n",
      "Feature: 5, Score: -1.88574\n",
      "Feature: 6, Score: -2.78934\n",
      "Feature: 7, Score: -5.88255\n",
      "Feature: 8, Score: -18.14319\n",
      "Feature: 9, Score: 19.43263\n",
      "Feature: 10, Score: 7.90972\n",
      "Feature: 11, Score: 6.42949\n",
      "Feature: 12, Score: 2.08621\n",
      "Feature: 13, Score: -16.87046\n",
      "Feature: 14, Score: 8.39150\n",
      "Feature: 15, Score: 0.61275\n",
      "Feature: 16, Score: -20.02764\n",
      "Feature: 17, Score: -11.41363\n",
      "Feature: 18, Score: 7.74760\n",
      "Feature: 19, Score: -0.78119\n",
      "Feature: 20, Score: -10.26642\n",
      "Feature: 21, Score: 6.44610\n",
      "Feature: 22, Score: 3.59870\n",
      "Feature: 23, Score: -25.40904\n",
      "Feature: 24, Score: 28.08442\n",
      "Feature: 25, Score: 0.56143\n",
      "Feature: 26, Score: 1.61710\n",
      "Feature: 27, Score: -0.66056\n",
      "Feature: 28, Score: -27.90361\n",
      "Feature: 29, Score: 30.39845\n",
      "Feature: 30, Score: -31.82151\n",
      "Feature: 31, Score: -7.83292\n",
      "Feature: 32, Score: -12.28651\n",
      "Feature: 33, Score: -14.79330\n",
      "Feature: 34, Score: -23.41543\n",
      "Feature: 35, Score: -7.51336\n",
      "Feature: 36, Score: -10.78874\n",
      "Feature: 37, Score: 5.36783\n",
      "Feature: 38, Score: 53.08304\n",
      "Feature: 39, Score: -14.07603\n",
      "Feature: 40, Score: 14.97038\n",
      "Feature: 41, Score: 37.34482\n",
      "Feature: 42, Score: -32.72403\n",
      "Feature: 43, Score: 10.26041\n",
      "Feature: 44, Score: -20.88502\n",
      "Feature: 45, Score: 1.36142\n",
      "Feature: 46, Score: -43.26077\n",
      "Feature: 47, Score: 45.78965\n",
      "Feature: 48, Score: 10.49498\n",
      "Feature: 49, Score: -21.95605\n",
      "Feature: 50, Score: 3.20365\n",
      "Feature: 51, Score: -21.65694\n",
      "Feature: 52, Score: 3.50591\n",
      "Feature: 53, Score: 5.66643\n",
      "Feature: 54, Score: -22.69802\n",
      "Feature: 55, Score: 9.65430\n",
      "Feature: 56, Score: 19.79812\n",
      "Feature: 57, Score: 54.72656\n",
      "Feature: 58, Score: -8.56948\n",
      "Feature: 59, Score: -34.28926\n",
      "Feature: 60, Score: -14.04260\n",
      "Feature: 61, Score: -9.81502\n",
      "Feature: 62, Score: -1.33180\n",
      "Feature: 63, Score: -3.43189\n",
      "Feature: 64, Score: -13.49924\n",
      "Feature: 65, Score: 18.78880\n",
      "Feature: 66, Score: 35.03237\n",
      "Feature: 67, Score: 9.32898\n",
      "Feature: 68, Score: 27.72304\n",
      "Feature: 69, Score: 19.49602\n",
      "Feature: 70, Score: -1.99820\n",
      "Feature: 71, Score: 19.44187\n",
      "Feature: 72, Score: 6.82424\n",
      "Feature: 73, Score: -15.90468\n",
      "Feature: 74, Score: 13.71395\n",
      "Feature: 75, Score: -37.12273\n",
      "Feature: 76, Score: -3.56774\n",
      "Feature: 77, Score: 11.71698\n",
      "Feature: 78, Score: 3.24741\n",
      "Feature: 79, Score: 0.74183\n",
      "Feature: 80, Score: 4.09520\n",
      "Feature: 81, Score: 10.60593\n",
      "Feature: 82, Score: 8.07780\n",
      "Feature: 83, Score: -0.91686\n",
      "Feature: 84, Score: 28.49063\n",
      "Feature: 85, Score: 30.14898\n",
      "Feature: 86, Score: 6.68442\n",
      "Feature: 87, Score: -1.40282\n",
      "Feature: 88, Score: 24.49267\n",
      "Feature: 89, Score: 3.90224\n",
      "Feature: 90, Score: 2.18859\n",
      "Feature: 91, Score: -3.86240\n",
      "Feature: 92, Score: -11.84084\n",
      "Feature: 93, Score: 24.27339\n",
      "Feature: 94, Score: -9.53635\n",
      "Feature: 95, Score: 2.38958\n",
      "Feature: 96, Score: 31.52378\n",
      "Feature: 97, Score: 5.73901\n",
      "Feature: 98, Score: 21.42191\n",
      "Feature: 99, Score: 10.78922\n",
      "Feature: 100, Score: -15.57384\n",
      "Feature: 101, Score: 10.23103\n",
      "Feature: 102, Score: -12.99631\n",
      "Feature: 103, Score: -6.13318\n",
      "Feature: 104, Score: 8.19624\n",
      "Feature: 105, Score: 3.58684\n",
      "Feature: 106, Score: -20.01550\n",
      "Feature: 107, Score: 4.31684\n",
      "Feature: 108, Score: -3.62419\n"
     ]
    },
    {
     "data": {
      "image/png": "[encoded data removed]",
      "text/plain": [
       "<Figure size 432x288 with 1 Axes>"
      ]
     },
     "metadata": {
      "needs_background": "light"
     },
     "output_type": "display_data"
    }
   ],
   "source": [
    "# linear regression feature importance\n",
    "from sklearn.datasets import make_regression\n",
    "from sklearn.linear_model import LinearRegression\n",
    "from matplotlib import pyplot\n",
    "# define dataset\n",
    "X, y = X_train, target_train\n",
    "# define the model\n",
    "model = LinearRegression()\n",
    "# fit the model\n",
    "model.fit(X, y)\n",
    "# get importance\n",
    "importance = model.coef_\n",
    "# summarize feature importance\n",
    "for i,v in enumerate(importance):\n",
    "\tprint('Feature: %0d, Score: %.5f' % (i,v))\n",
    "    # plot feature importance\n",
    "pyplot.bar([x for x in range(len(importance))], importance)\n",
    "pyplot.show()"
   ]
  },
  {
   "cell_type": "code",
   "execution_count": null,
   "metadata": {},
   "outputs": [],
   "source": []
  },
  {
   "cell_type": "code",
   "execution_count": null,
   "metadata": {},
   "outputs": [],
   "source": []
  },
  {
   "cell_type": "code",
   "execution_count": null,
   "metadata": {},
   "outputs": [],
   "source": [
    "# all but last 4 rows\n",
    "X_train=X.iloc[:-4]\n",
    "target_train=target.iloc[:-4]\n",
    "\n",
    "# last 4 rows, which are the ones I have no data and I want to infer\n",
    "X_test=X.iloc[-4:]\n",
    "target_test=target.iloc[-4:]"
   ]
  },
  {
   "cell_type": "markdown",
   "metadata": {},
   "source": [
    "# Model selection\n",
    "\n",
    "Here is where I run different models and perform tunning of hyperparameter for better fit, and:\n",
    "\n",
    "- Divide between train/validation/test\n",
    "- Train the models with train\n",
    "- Validate metrics with validation\n",
    "- Perform inferences with test\n",
    "- Select the best model of all and train it with the whole dataset\n",
    "\n",
    "**That's not going to happen... Yet**. This is a leisure project and my main concern is having something that works within a Cloud Function, in my GCP pipelines. It means my baby needs to run with 4GB of RAM as maximum and 60 seconds of timeout, so I will start with the simplest and fastest model I can.\n",
    "\n",
    "When I get that, myself from the future will refactorize code and improve metrics. \n",
    "\n",
    "So, right now, the selected model will be a Lasso regression after a recursive feature elimination. \n",
    "\n",
    "- The model will select the 15 best columns to work with.\n",
    "- After it, Lasso will remove from the equation the less relevants.\n",
    "\n",
    "It is like a double filter of simplicity that I hope it works"
   ]
  },
  {
   "cell_type": "markdown",
   "metadata": {},
   "source": [
    "# Selecting best features using RFE\n",
    "\n",
    "(Recursive Feature Elimination)\n",
    "\n",
    "https://scikit-learn.org/stable/modules/generated/sklearn.feature_selection.RFECV.html\n",
    "\n",
    "https://scikit-learn.org/stable/modules/generated/sklearn.feature_selection.RFE.html#sklearn.feature_selection.RFE\n",
    "\n",
    "https://scikit-learn.org/stable/auto_examples/feature_selection/plot_rfe_with_cross_validation.html#sphx-glr-auto-examples-feature-selection-plot-rfe-with-cross-validation-py"
   ]
  },
  {
   "cell_type": "code",
   "execution_count": 72,
   "metadata": {},
   "outputs": [],
   "source": [
    "# My number of features will be a tenth of the available fows\n",
    "number_features =  1+df.shape[0]//10"
   ]
  },
  {
   "cell_type": "code",
   "execution_count": 73,
   "metadata": {},
   "outputs": [
    {
     "data": {
      "text/plain": [
       "RFECV(cv=5,\n",
       "      estimator=LinearRegression(copy_X=True, fit_intercept=True, n_jobs=None,\n",
       "                                 normalize=False),\n",
       "      min_features_to_select=20, n_jobs=None, scoring='neg_mean_squared_error',\n",
       "      step=1, verbose=0)"
      ]
     },
     "execution_count": 73,
     "metadata": {},
     "output_type": "execute_result"
    }
   ],
   "source": [
    "# alpha=1 is like a regular regression. for getter performance use elastic net instead (l1&l2 mix).\n",
    "#regression = Lasso(alpha=0.1)\n",
    "regression = LinearRegression() # oher model\n",
    "\n",
    "# neg mean squared error. it always is negative but what you get is the positive representation\n",
    "rfecv = RFECV(estimator=regression, step=1, min_features_to_select=20, cv=5,scoring='neg_mean_squared_error')\n",
    "rfecv.fit(X_train, target_train)"
   ]
  },
  {
   "cell_type": "code",
   "execution_count": 74,
   "metadata": {},
   "outputs": [
    {
     "data": {
      "text/plain": [
       "1.0"
      ]
     },
     "execution_count": 74,
     "metadata": {},
     "output_type": "execute_result"
    }
   ],
   "source": [
    "\n",
    "\n",
    "# it's unfortunate not having X and target validation, but k-folds cross validation was implemented for that precisely \n",
    "rfecv.score(X_train, target_train)\n",
    "\n"
   ]
  },
  {
   "cell_type": "code",
   "execution_count": 75,
   "metadata": {},
   "outputs": [
    {
     "data": {
      "text/plain": [
       "array([  31.42481095,   34.79688295,   51.79843886, -106.83937338])"
      ]
     },
     "execution_count": 75,
     "metadata": {},
     "output_type": "execute_result"
    }
   ],
   "source": [
    "# Inferences 4 weeks ahead\n",
    "rfecv.predict(X_test)"
   ]
  },
  {
   "cell_type": "code",
   "execution_count": 76,
   "metadata": {},
   "outputs": [
    {
     "data": {
      "image/png": "[encoded data removed]",
      "text/plain": [
       "<Figure size 432x288 with 1 Axes>"
      ]
     },
     "metadata": {
      "needs_background": "light"
     },
     "output_type": "display_data"
    }
   ],
   "source": [
    "# Plot number of features VS. cross-validation scores\n",
    "plt.figure()\n",
    "plt.xlabel(\"Number of features selected\")\n",
    "plt.ylabel(\"Cross validation score (nb of correct classifications)\")\n",
    "plt.plot(range(min_features_to_select,\n",
    "               len(rfecv.grid_scores_) + min_features_to_select),\n",
    "         rfecv.grid_scores_)\n",
    "#plt.ylim([0, 1])\n",
    "plt.show()"
   ]
  },
  {
   "cell_type": "markdown",
   "metadata": {},
   "source": [
    "# https://machinelearningmastery.com/rfe-feature-selection-in-python/"
   ]
  },
  {
   "cell_type": "code",
   "execution_count": 77,
   "metadata": {},
   "outputs": [
    {
     "data": {
      "text/plain": [
       "array([  31.42481095,   34.79688295,   51.79843886, -106.83937338])"
      ]
     },
     "execution_count": 77,
     "metadata": {},
     "output_type": "execute_result"
    }
   ],
   "source": [
    "# Inferences 4 weeks ahead\n",
    "rfecv.predict(X_test) "
   ]
  },
  {
   "cell_type": "code",
   "execution_count": 78,
   "metadata": {},
   "outputs": [],
   "source": [
    "#rfecv.predict(X) # this is just for visualization"
   ]
  },
  {
   "cell_type": "code",
   "execution_count": 79,
   "metadata": {},
   "outputs": [
    {
     "data": {
      "text/plain": [
       "87"
      ]
     },
     "execution_count": 79,
     "metadata": {},
     "output_type": "execute_result"
    }
   ],
   "source": [
    "len(rfecv.predict(X))\n",
    "len(df)"
   ]
  },
  {
   "cell_type": "code",
   "execution_count": 80,
   "metadata": {},
   "outputs": [
    {
     "ename": "ValueError",
     "evalue": "Length of values does not match length of index",
     "output_type": "error",
     "traceback": [
      "\u001b[0;31m------------------------------------------\u001b[0m",
      "\u001b[0;31mValueError\u001b[0mTraceback (most recent call last)",
      "\u001b[0;32m<ipython-input-80-486474ef7d1f>\u001b[0m in \u001b[0;36m<module>\u001b[0;34m\u001b[0m\n\u001b[0;32m----> 1\u001b[0;31m \u001b[0mdf\u001b[0m\u001b[0;34m[\u001b[0m\u001b[0;34m\"inferred_results\"\u001b[0m\u001b[0;34m]\u001b[0m\u001b[0;34m=\u001b[0m\u001b[0mlist\u001b[0m\u001b[0;34m(\u001b[0m\u001b[0mrfecv\u001b[0m\u001b[0;34m.\u001b[0m\u001b[0mpredict\u001b[0m\u001b[0;34m(\u001b[0m\u001b[0mX\u001b[0m\u001b[0;34m)\u001b[0m\u001b[0;34m)\u001b[0m\u001b[0;34m\u001b[0m\u001b[0;34m\u001b[0m\u001b[0m\n\u001b[0m",
      "\u001b[0;32m~/anaconda3/lib/python3.7/site-packages/pandas/core/frame.py\u001b[0m in \u001b[0;36m__setitem__\u001b[0;34m(self, key, value)\u001b[0m\n\u001b[1;32m   2936\u001b[0m         \u001b[0;32melse\u001b[0m\u001b[0;34m:\u001b[0m\u001b[0;34m\u001b[0m\u001b[0;34m\u001b[0m\u001b[0m\n\u001b[1;32m   2937\u001b[0m             \u001b[0;31m# set column\u001b[0m\u001b[0;34m\u001b[0m\u001b[0;34m\u001b[0m\u001b[0;34m\u001b[0m\u001b[0m\n\u001b[0;32m-> 2938\u001b[0;31m             \u001b[0mself\u001b[0m\u001b[0;34m.\u001b[0m\u001b[0m_set_item\u001b[0m\u001b[0;34m(\u001b[0m\u001b[0mkey\u001b[0m\u001b[0;34m,\u001b[0m \u001b[0mvalue\u001b[0m\u001b[0;34m)\u001b[0m\u001b[0;34m\u001b[0m\u001b[0;34m\u001b[0m\u001b[0m\n\u001b[0m\u001b[1;32m   2939\u001b[0m \u001b[0;34m\u001b[0m\u001b[0m\n\u001b[1;32m   2940\u001b[0m     \u001b[0;32mdef\u001b[0m \u001b[0m_setitem_slice\u001b[0m\u001b[0;34m(\u001b[0m\u001b[0mself\u001b[0m\u001b[0;34m,\u001b[0m \u001b[0mkey\u001b[0m\u001b[0;34m,\u001b[0m \u001b[0mvalue\u001b[0m\u001b[0;34m)\u001b[0m\u001b[0;34m:\u001b[0m\u001b[0;34m\u001b[0m\u001b[0;34m\u001b[0m\u001b[0m\n",
      "\u001b[0;32m~/anaconda3/lib/python3.7/site-packages/pandas/core/frame.py\u001b[0m in \u001b[0;36m_set_item\u001b[0;34m(self, key, value)\u001b[0m\n\u001b[1;32m   2998\u001b[0m \u001b[0;34m\u001b[0m\u001b[0m\n\u001b[1;32m   2999\u001b[0m         \u001b[0mself\u001b[0m\u001b[0;34m.\u001b[0m\u001b[0m_ensure_valid_index\u001b[0m\u001b[0;34m(\u001b[0m\u001b[0mvalue\u001b[0m\u001b[0;34m)\u001b[0m\u001b[0;34m\u001b[0m\u001b[0;34m\u001b[0m\u001b[0m\n\u001b[0;32m-> 3000\u001b[0;31m         \u001b[0mvalue\u001b[0m \u001b[0;34m=\u001b[0m \u001b[0mself\u001b[0m\u001b[0;34m.\u001b[0m\u001b[0m_sanitize_column\u001b[0m\u001b[0;34m(\u001b[0m\u001b[0mkey\u001b[0m\u001b[0;34m,\u001b[0m \u001b[0mvalue\u001b[0m\u001b[0;34m)\u001b[0m\u001b[0;34m\u001b[0m\u001b[0;34m\u001b[0m\u001b[0m\n\u001b[0m\u001b[1;32m   3001\u001b[0m         \u001b[0mNDFrame\u001b[0m\u001b[0;34m.\u001b[0m\u001b[0m_set_item\u001b[0m\u001b[0;34m(\u001b[0m\u001b[0mself\u001b[0m\u001b[0;34m,\u001b[0m \u001b[0mkey\u001b[0m\u001b[0;34m,\u001b[0m \u001b[0mvalue\u001b[0m\u001b[0;34m)\u001b[0m\u001b[0;34m\u001b[0m\u001b[0;34m\u001b[0m\u001b[0m\n\u001b[1;32m   3002\u001b[0m \u001b[0;34m\u001b[0m\u001b[0m\n",
      "\u001b[0;32m~/anaconda3/lib/python3.7/site-packages/pandas/core/frame.py\u001b[0m in \u001b[0;36m_sanitize_column\u001b[0;34m(self, key, value, broadcast)\u001b[0m\n\u001b[1;32m   3634\u001b[0m \u001b[0;34m\u001b[0m\u001b[0m\n\u001b[1;32m   3635\u001b[0m             \u001b[0;31m# turn me into an ndarray\u001b[0m\u001b[0;34m\u001b[0m\u001b[0;34m\u001b[0m\u001b[0;34m\u001b[0m\u001b[0m\n\u001b[0;32m-> 3636\u001b[0;31m             \u001b[0mvalue\u001b[0m \u001b[0;34m=\u001b[0m \u001b[0msanitize_index\u001b[0m\u001b[0;34m(\u001b[0m\u001b[0mvalue\u001b[0m\u001b[0;34m,\u001b[0m \u001b[0mself\u001b[0m\u001b[0;34m.\u001b[0m\u001b[0mindex\u001b[0m\u001b[0;34m,\u001b[0m \u001b[0mcopy\u001b[0m\u001b[0;34m=\u001b[0m\u001b[0;32mFalse\u001b[0m\u001b[0;34m)\u001b[0m\u001b[0;34m\u001b[0m\u001b[0;34m\u001b[0m\u001b[0m\n\u001b[0m\u001b[1;32m   3637\u001b[0m             \u001b[0;32mif\u001b[0m \u001b[0;32mnot\u001b[0m \u001b[0misinstance\u001b[0m\u001b[0;34m(\u001b[0m\u001b[0mvalue\u001b[0m\u001b[0;34m,\u001b[0m \u001b[0;34m(\u001b[0m\u001b[0mnp\u001b[0m\u001b[0;34m.\u001b[0m\u001b[0mndarray\u001b[0m\u001b[0;34m,\u001b[0m \u001b[0mIndex\u001b[0m\u001b[0;34m)\u001b[0m\u001b[0;34m)\u001b[0m\u001b[0;34m:\u001b[0m\u001b[0;34m\u001b[0m\u001b[0;34m\u001b[0m\u001b[0m\n\u001b[1;32m   3638\u001b[0m                 \u001b[0;32mif\u001b[0m \u001b[0misinstance\u001b[0m\u001b[0;34m(\u001b[0m\u001b[0mvalue\u001b[0m\u001b[0;34m,\u001b[0m \u001b[0mlist\u001b[0m\u001b[0;34m)\u001b[0m \u001b[0;32mand\u001b[0m \u001b[0mlen\u001b[0m\u001b[0;34m(\u001b[0m\u001b[0mvalue\u001b[0m\u001b[0;34m)\u001b[0m \u001b[0;34m>\u001b[0m \u001b[0;36m0\u001b[0m\u001b[0;34m:\u001b[0m\u001b[0;34m\u001b[0m\u001b[0;34m\u001b[0m\u001b[0m\n",
      "\u001b[0;32m~/anaconda3/lib/python3.7/site-packages/pandas/core/internals/construction.py\u001b[0m in \u001b[0;36msanitize_index\u001b[0;34m(data, index, copy)\u001b[0m\n\u001b[1;32m    609\u001b[0m \u001b[0;34m\u001b[0m\u001b[0m\n\u001b[1;32m    610\u001b[0m     \u001b[0;32mif\u001b[0m \u001b[0mlen\u001b[0m\u001b[0;34m(\u001b[0m\u001b[0mdata\u001b[0m\u001b[0;34m)\u001b[0m \u001b[0;34m!=\u001b[0m \u001b[0mlen\u001b[0m\u001b[0;34m(\u001b[0m\u001b[0mindex\u001b[0m\u001b[0;34m)\u001b[0m\u001b[0;34m:\u001b[0m\u001b[0;34m\u001b[0m\u001b[0;34m\u001b[0m\u001b[0m\n\u001b[0;32m--> 611\u001b[0;31m         \u001b[0;32mraise\u001b[0m \u001b[0mValueError\u001b[0m\u001b[0;34m(\u001b[0m\u001b[0;34m\"Length of values does not match length of index\"\u001b[0m\u001b[0;34m)\u001b[0m\u001b[0;34m\u001b[0m\u001b[0;34m\u001b[0m\u001b[0m\n\u001b[0m\u001b[1;32m    612\u001b[0m \u001b[0;34m\u001b[0m\u001b[0m\n\u001b[1;32m    613\u001b[0m     \u001b[0;32mif\u001b[0m \u001b[0misinstance\u001b[0m\u001b[0;34m(\u001b[0m\u001b[0mdata\u001b[0m\u001b[0;34m,\u001b[0m \u001b[0mABCIndexClass\u001b[0m\u001b[0;34m)\u001b[0m \u001b[0;32mand\u001b[0m \u001b[0;32mnot\u001b[0m \u001b[0mcopy\u001b[0m\u001b[0;34m:\u001b[0m\u001b[0;34m\u001b[0m\u001b[0;34m\u001b[0m\u001b[0m\n",
      "\u001b[0;31mValueError\u001b[0m: Length of values does not match length of index"
     ]
    }
   ],
   "source": [
    "df[\"inferred_results\"]=list(rfecv.predict(X))"
   ]
  },
  {
   "cell_type": "markdown",
   "metadata": {},
   "source": [
    "# CSV with infered keyword vs real keyword\n",
    "\n",
    "- Last 4 rows are the truly interesting ones... Foreseeing with 4 weeks in advance."
   ]
  },
  {
   "cell_type": "code",
   "execution_count": null,
   "metadata": {},
   "outputs": [],
   "source": [
    "result=pd.DataFrame()\n",
    "result[[\"date\", \"real_searches\"]]= df[[\"date\",\"unemployment\"]]\n",
    "result[\"inferred_results\"] = rfecv.predict(X)\n",
    "result[\"inferred_results\"]=result[\"inferred_results\"].apply(lambda x: 0 if x<0 else round(x,2))\n",
    "result[\"inferred_results\"]=result[\"inferred_results\"].apply(lambda x: 100 if x>100 else round(x,2))\n",
    "\n",
    "if result[\"inferred_results\"].min()==0:\n",
    "    result.drop(result.tail(1).index,inplace=True) # drop last row (better visualization)\n",
    "result.tail(10)\n"
   ]
  },
  {
   "cell_type": "code",
   "execution_count": null,
   "metadata": {},
   "outputs": [],
   "source": [
    "# visualization\n",
    "result.plot(x=\"date\",\n",
    "            y=[\"real_searches\",\"inferred_results\"],\n",
    "            figsize=(20,10), \n",
    "            kind=\"bar\",\n",
    "            title=\"Inferences of Tending Index in Google Trends, with results 4 weeks ahead. This data will be implemented in an automated pipeline for dashboarding in Data Studio\",\n",
    "            grid=True)"
   ]
  },
  {
   "cell_type": "markdown",
   "metadata": {},
   "source": [
    "## CSV to append weekly the score"
   ]
  },
  {
   "cell_type": "code",
   "execution_count": null,
   "metadata": {},
   "outputs": [],
   "source": [
    "score = pd.DataFrame({\"date\": [max(df[\"date\"])], 'score': [round(rfecv.score(X_train, target_train),4)]})\n",
    "score.to_csv(\"input/weekly_score.csv\")\n",
    "score"
   ]
  },
  {
   "cell_type": "markdown",
   "metadata": {},
   "source": [
    "## CSV to overwrite weekly ranking of features by importance.\n",
    "\n",
    "Of course there is a lot of room for improvement, but I'm glad the importance of features for the model looks coherent at first sight. Top 15 features, the ones selected by the model:\n",
    "\n",
    "- erte = Record of Temporary Employment Regulation\n",
    "- emergencia sanitaria = healthcare emegercy\n",
    "- cáritas = a crhistian ONG helping the most vulnerable\n",
    "- crecimiento económico = economical growth \n",
    "- videocall\n",
    "- remote working\n",
    "- Skype"
   ]
  },
  {
   "cell_type": "code",
   "execution_count": null,
   "metadata": {},
   "outputs": [],
   "source": [
    "# Ranking of how important are the following keywords to infer in Google searches in Spain\n",
    "# the keyword \"unemployment\"\n",
    "features=pd.DataFrame()\n",
    "features[\"features\"]=X.columns\n",
    "features[\"top_important\"]=rfecv.ranking_\n",
    "features.sort_values(by=[\"top_important\"], inplace=True)\n",
    "features.reset_index(drop=True, inplace=True)\n",
    "features.to_csv(\"input/ranking_of_features.csv\")\n",
    "features.head(20)\n",
    "# with a linear regression the number of important features was reduced. It also had better performance."
   ]
  },
  {
   "cell_type": "code",
   "execution_count": null,
   "metadata": {},
   "outputs": [],
   "source": []
  },
  {
   "cell_type": "code",
   "execution_count": null,
   "metadata": {},
   "outputs": [],
   "source": []
  }
 ],
 "metadata": {
  "kernelspec": {
   "display_name": "mlsklearn",
   "language": "python",
   "name": "mlsklearn"
  },
  "language_info": {
   "codemirror_mode": {
    "name": "ipython",
    "version": 3
   },
   "file_extension": ".py",
   "mimetype": "text/x-python",
   "name": "python",
   "nbconvert_exporter": "python",
   "pygments_lexer": "ipython3",
   "version": "3.7.6"
  }
 },
 "nbformat": 4,
 "nbformat_minor": 4
}
